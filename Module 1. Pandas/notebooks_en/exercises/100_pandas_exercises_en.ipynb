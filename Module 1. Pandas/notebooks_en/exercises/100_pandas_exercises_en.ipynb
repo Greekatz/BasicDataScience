{
 "cells": [
  {
   "cell_type": "markdown",
   "metadata": {},
   "source": [
    "# **Data Science 100 Exercises (Structured Data Processing Edition) - Python**"
   ]
  },
  {
   "cell_type": "markdown",
   "metadata": {},
   "source": [
    "## Basic setting\n"
   ]
  },
  {
   "cell_type": "code",
   "execution_count": 1,
   "metadata": {
    "ExecuteTime": {
     "end_time": "2024-09-07T04:41:40.715696Z",
     "start_time": "2024-09-07T04:41:38.727154200Z"
    }
   },
   "outputs": [],
   "source": [
    "import os\n",
    "import pandas as pd\n",
    "import numpy as np\n",
    "\n",
    "dtype = {\n",
    "    'customer_id': str,\n",
    "    'gender_cd': str,\n",
    "    'postal_cd': str,\n",
    "    'application_store_cd': str,\n",
    "    'status_cd': str,\n",
    "    'category_major_cd': str,\n",
    "    'category_medium_cd': str,\n",
    "    'category_small_cd': str,\n",
    "    'product_cd': str,\n",
    "    'store_cd': str,\n",
    "    'prefecture_cd': str,\n",
    "    'tel_no': str,\n",
    "    'postal_cd': str,\n",
    "    'street': str\n",
    "}\n",
    "\n",
    "df_customer = pd.read_csv(\"../../data/raw/customer.csv\", dtype=dtype)\n",
    "df_category = pd.read_csv(\"../../data/raw/category.csv\", dtype=dtype)\n",
    "df_product = pd.read_csv(\"../../data/raw/product.csv\", dtype=dtype)\n",
    "df_receipt = pd.read_csv(\"../../data/raw/receipt.csv\", dtype=dtype)\n",
    "df_store = pd.read_csv(\"../../data/raw/store.csv\", dtype=dtype)\n",
    "df_geocode = pd.read_csv(\"../../data/raw/geocode.csv\", dtype=dtype)\n"
   ]
  },
  {
   "cell_type": "markdown",
   "metadata": {},
   "source": [
    "## Exercise Problems"
   ]
  },
  {
   "cell_type": "markdown",
   "metadata": {},
   "source": [
    "---\n",
    "> P-001: Display the first 10 rows of all items from the receipt details data (df_receipt) to visually confirm what kind of data it contains."
   ]
  },
  {
   "cell_type": "code",
   "execution_count": 2,
   "metadata": {
    "ExecuteTime": {
     "end_time": "2024-09-06T16:04:02.060659Z",
     "start_time": "2024-09-06T16:04:00.933248300Z"
    }
   },
   "outputs": [
    {
     "data": {
      "text/plain": "   sales_ymd  sales_epoch store_cd  receipt_no  receipt_sub_no  \\\n0   20181103   1541203200   S14006         112               1   \n1   20181118   1542499200   S13008        1132               2   \n2   20170712   1499817600   S14028        1102               1   \n3   20190205   1549324800   S14042        1132               1   \n4   20180821   1534809600   S14025        1102               2   \n5   20190605   1559692800   S13003        1112               1   \n6   20181205   1543968000   S14024        1102               2   \n7   20190922   1569110400   S14040        1102               1   \n8   20170504   1493856000   S13020        1112               2   \n9   20191010   1570665600   S14027        1102               1   \n\n      customer_id  product_cd  quantity  amount  \n0  CS006214000001  P070305012         1     158  \n1  CS008415000097  P070701017         1      81  \n2  CS028414000014  P060101005         1     170  \n3  ZZ000000000000  P050301001         1      25  \n4  CS025415000050  P060102007         1      90  \n5  CS003515000195  P050102002         1     138  \n6  CS024514000042  P080101005         1      30  \n7  CS040415000178  P070501004         1     128  \n8  ZZ000000000000  P071302010         1     770  \n9  CS027514000015  P071101003         1     680  ",
      "text/html": "<div>\n<style scoped>\n    .dataframe tbody tr th:only-of-type {\n        vertical-align: middle;\n    }\n\n    .dataframe tbody tr th {\n        vertical-align: top;\n    }\n\n    .dataframe thead th {\n        text-align: right;\n    }\n</style>\n<table border=\"1\" class=\"dataframe\">\n  <thead>\n    <tr style=\"text-align: right;\">\n      <th></th>\n      <th>sales_ymd</th>\n      <th>sales_epoch</th>\n      <th>store_cd</th>\n      <th>receipt_no</th>\n      <th>receipt_sub_no</th>\n      <th>customer_id</th>\n      <th>product_cd</th>\n      <th>quantity</th>\n      <th>amount</th>\n    </tr>\n  </thead>\n  <tbody>\n    <tr>\n      <th>0</th>\n      <td>20181103</td>\n      <td>1541203200</td>\n      <td>S14006</td>\n      <td>112</td>\n      <td>1</td>\n      <td>CS006214000001</td>\n      <td>P070305012</td>\n      <td>1</td>\n      <td>158</td>\n    </tr>\n    <tr>\n      <th>1</th>\n      <td>20181118</td>\n      <td>1542499200</td>\n      <td>S13008</td>\n      <td>1132</td>\n      <td>2</td>\n      <td>CS008415000097</td>\n      <td>P070701017</td>\n      <td>1</td>\n      <td>81</td>\n    </tr>\n    <tr>\n      <th>2</th>\n      <td>20170712</td>\n      <td>1499817600</td>\n      <td>S14028</td>\n      <td>1102</td>\n      <td>1</td>\n      <td>CS028414000014</td>\n      <td>P060101005</td>\n      <td>1</td>\n      <td>170</td>\n    </tr>\n    <tr>\n      <th>3</th>\n      <td>20190205</td>\n      <td>1549324800</td>\n      <td>S14042</td>\n      <td>1132</td>\n      <td>1</td>\n      <td>ZZ000000000000</td>\n      <td>P050301001</td>\n      <td>1</td>\n      <td>25</td>\n    </tr>\n    <tr>\n      <th>4</th>\n      <td>20180821</td>\n      <td>1534809600</td>\n      <td>S14025</td>\n      <td>1102</td>\n      <td>2</td>\n      <td>CS025415000050</td>\n      <td>P060102007</td>\n      <td>1</td>\n      <td>90</td>\n    </tr>\n    <tr>\n      <th>5</th>\n      <td>20190605</td>\n      <td>1559692800</td>\n      <td>S13003</td>\n      <td>1112</td>\n      <td>1</td>\n      <td>CS003515000195</td>\n      <td>P050102002</td>\n      <td>1</td>\n      <td>138</td>\n    </tr>\n    <tr>\n      <th>6</th>\n      <td>20181205</td>\n      <td>1543968000</td>\n      <td>S14024</td>\n      <td>1102</td>\n      <td>2</td>\n      <td>CS024514000042</td>\n      <td>P080101005</td>\n      <td>1</td>\n      <td>30</td>\n    </tr>\n    <tr>\n      <th>7</th>\n      <td>20190922</td>\n      <td>1569110400</td>\n      <td>S14040</td>\n      <td>1102</td>\n      <td>1</td>\n      <td>CS040415000178</td>\n      <td>P070501004</td>\n      <td>1</td>\n      <td>128</td>\n    </tr>\n    <tr>\n      <th>8</th>\n      <td>20170504</td>\n      <td>1493856000</td>\n      <td>S13020</td>\n      <td>1112</td>\n      <td>2</td>\n      <td>ZZ000000000000</td>\n      <td>P071302010</td>\n      <td>1</td>\n      <td>770</td>\n    </tr>\n    <tr>\n      <th>9</th>\n      <td>20191010</td>\n      <td>1570665600</td>\n      <td>S14027</td>\n      <td>1102</td>\n      <td>1</td>\n      <td>CS027514000015</td>\n      <td>P071101003</td>\n      <td>1</td>\n      <td>680</td>\n    </tr>\n  </tbody>\n</table>\n</div>"
     },
     "execution_count": 2,
     "metadata": {},
     "output_type": "execute_result"
    }
   ],
   "source": [
    "df_receipt.head(10)"
   ]
  },
  {
   "cell_type": "markdown",
   "metadata": {},
   "source": [
    "---\n",
    "> P-002: From the receipt details data (df_receipt), specify the columns in the order of sales date (sales_ymd), customer ID (customer_id), product code (product_cd), and sales amount (amount), and display 10 rows."
   ]
  },
  {
   "cell_type": "code",
   "execution_count": 3,
   "metadata": {
    "ExecuteTime": {
     "end_time": "2024-09-06T16:04:02.064233700Z",
     "start_time": "2024-09-06T16:04:00.947827700Z"
    }
   },
   "outputs": [
    {
     "data": {
      "text/plain": "   sales_ymd     customer_id  product_cd  amount\n0   20181103  CS006214000001  P070305012     158\n1   20181118  CS008415000097  P070701017      81\n2   20170712  CS028414000014  P060101005     170\n3   20190205  ZZ000000000000  P050301001      25\n4   20180821  CS025415000050  P060102007      90\n5   20190605  CS003515000195  P050102002     138\n6   20181205  CS024514000042  P080101005      30\n7   20190922  CS040415000178  P070501004     128\n8   20170504  ZZ000000000000  P071302010     770\n9   20191010  CS027514000015  P071101003     680",
      "text/html": "<div>\n<style scoped>\n    .dataframe tbody tr th:only-of-type {\n        vertical-align: middle;\n    }\n\n    .dataframe tbody tr th {\n        vertical-align: top;\n    }\n\n    .dataframe thead th {\n        text-align: right;\n    }\n</style>\n<table border=\"1\" class=\"dataframe\">\n  <thead>\n    <tr style=\"text-align: right;\">\n      <th></th>\n      <th>sales_ymd</th>\n      <th>customer_id</th>\n      <th>product_cd</th>\n      <th>amount</th>\n    </tr>\n  </thead>\n  <tbody>\n    <tr>\n      <th>0</th>\n      <td>20181103</td>\n      <td>CS006214000001</td>\n      <td>P070305012</td>\n      <td>158</td>\n    </tr>\n    <tr>\n      <th>1</th>\n      <td>20181118</td>\n      <td>CS008415000097</td>\n      <td>P070701017</td>\n      <td>81</td>\n    </tr>\n    <tr>\n      <th>2</th>\n      <td>20170712</td>\n      <td>CS028414000014</td>\n      <td>P060101005</td>\n      <td>170</td>\n    </tr>\n    <tr>\n      <th>3</th>\n      <td>20190205</td>\n      <td>ZZ000000000000</td>\n      <td>P050301001</td>\n      <td>25</td>\n    </tr>\n    <tr>\n      <th>4</th>\n      <td>20180821</td>\n      <td>CS025415000050</td>\n      <td>P060102007</td>\n      <td>90</td>\n    </tr>\n    <tr>\n      <th>5</th>\n      <td>20190605</td>\n      <td>CS003515000195</td>\n      <td>P050102002</td>\n      <td>138</td>\n    </tr>\n    <tr>\n      <th>6</th>\n      <td>20181205</td>\n      <td>CS024514000042</td>\n      <td>P080101005</td>\n      <td>30</td>\n    </tr>\n    <tr>\n      <th>7</th>\n      <td>20190922</td>\n      <td>CS040415000178</td>\n      <td>P070501004</td>\n      <td>128</td>\n    </tr>\n    <tr>\n      <th>8</th>\n      <td>20170504</td>\n      <td>ZZ000000000000</td>\n      <td>P071302010</td>\n      <td>770</td>\n    </tr>\n    <tr>\n      <th>9</th>\n      <td>20191010</td>\n      <td>CS027514000015</td>\n      <td>P071101003</td>\n      <td>680</td>\n    </tr>\n  </tbody>\n</table>\n</div>"
     },
     "execution_count": 3,
     "metadata": {},
     "output_type": "execute_result"
    }
   ],
   "source": [
    "# Cách 1\n",
    "df_receipt[['sales_ymd','customer_id','product_cd','amount',]].head(10)"
   ]
  },
  {
   "cell_type": "code",
   "execution_count": 4,
   "outputs": [
    {
     "data": {
      "text/plain": "        sales_ymd     customer_id  product_cd  quantity\n0        20181103  CS006214000001  P070305012         1\n1        20181118  CS008415000097  P070701017         1\n2        20170712  CS028414000014  P060101005         1\n3        20190205  ZZ000000000000  P050301001         1\n4        20180821  CS025415000050  P060102007         1\n...           ...             ...         ...       ...\n104676   20180221  ZZ000000000000  P050101001         1\n104677   20190911  ZZ000000000000  P071006005         1\n104678   20170311  CS040513000195  P050405003         1\n104679   20170331  CS002513000049  P060303001         1\n104680   20190423  ZZ000000000000  P050601001         1\n\n[104681 rows x 4 columns]",
      "text/html": "<div>\n<style scoped>\n    .dataframe tbody tr th:only-of-type {\n        vertical-align: middle;\n    }\n\n    .dataframe tbody tr th {\n        vertical-align: top;\n    }\n\n    .dataframe thead th {\n        text-align: right;\n    }\n</style>\n<table border=\"1\" class=\"dataframe\">\n  <thead>\n    <tr style=\"text-align: right;\">\n      <th></th>\n      <th>sales_ymd</th>\n      <th>customer_id</th>\n      <th>product_cd</th>\n      <th>quantity</th>\n    </tr>\n  </thead>\n  <tbody>\n    <tr>\n      <th>0</th>\n      <td>20181103</td>\n      <td>CS006214000001</td>\n      <td>P070305012</td>\n      <td>1</td>\n    </tr>\n    <tr>\n      <th>1</th>\n      <td>20181118</td>\n      <td>CS008415000097</td>\n      <td>P070701017</td>\n      <td>1</td>\n    </tr>\n    <tr>\n      <th>2</th>\n      <td>20170712</td>\n      <td>CS028414000014</td>\n      <td>P060101005</td>\n      <td>1</td>\n    </tr>\n    <tr>\n      <th>3</th>\n      <td>20190205</td>\n      <td>ZZ000000000000</td>\n      <td>P050301001</td>\n      <td>1</td>\n    </tr>\n    <tr>\n      <th>4</th>\n      <td>20180821</td>\n      <td>CS025415000050</td>\n      <td>P060102007</td>\n      <td>1</td>\n    </tr>\n    <tr>\n      <th>...</th>\n      <td>...</td>\n      <td>...</td>\n      <td>...</td>\n      <td>...</td>\n    </tr>\n    <tr>\n      <th>104676</th>\n      <td>20180221</td>\n      <td>ZZ000000000000</td>\n      <td>P050101001</td>\n      <td>1</td>\n    </tr>\n    <tr>\n      <th>104677</th>\n      <td>20190911</td>\n      <td>ZZ000000000000</td>\n      <td>P071006005</td>\n      <td>1</td>\n    </tr>\n    <tr>\n      <th>104678</th>\n      <td>20170311</td>\n      <td>CS040513000195</td>\n      <td>P050405003</td>\n      <td>1</td>\n    </tr>\n    <tr>\n      <th>104679</th>\n      <td>20170331</td>\n      <td>CS002513000049</td>\n      <td>P060303001</td>\n      <td>1</td>\n    </tr>\n    <tr>\n      <th>104680</th>\n      <td>20190423</td>\n      <td>ZZ000000000000</td>\n      <td>P050601001</td>\n      <td>1</td>\n    </tr>\n  </tbody>\n</table>\n<p>104681 rows × 4 columns</p>\n</div>"
     },
     "execution_count": 4,
     "metadata": {},
     "output_type": "execute_result"
    }
   ],
   "source": [
    "# Cách 2: Slicing Index\n",
    "df_receipt.iloc[:,[0,5,6,7]]"
   ],
   "metadata": {
    "collapsed": false,
    "ExecuteTime": {
     "end_time": "2024-09-06T16:04:02.065271400Z",
     "start_time": "2024-09-06T16:04:00.954676400Z"
    }
   }
  },
  {
   "cell_type": "code",
   "execution_count": 5,
   "outputs": [
    {
     "data": {
      "text/plain": "        sales_ymd     customer_id  product_cd  amount\n0        20181103  CS006214000001  P070305012     158\n1        20181118  CS008415000097  P070701017      81\n2        20170712  CS028414000014  P060101005     170\n3        20190205  ZZ000000000000  P050301001      25\n4        20180821  CS025415000050  P060102007      90\n...           ...             ...         ...     ...\n104676   20180221  ZZ000000000000  P050101001      40\n104677   20190911  ZZ000000000000  P071006005     218\n104678   20170311  CS040513000195  P050405003     168\n104679   20170331  CS002513000049  P060303001     148\n104680   20190423  ZZ000000000000  P050601001     138\n\n[104681 rows x 4 columns]",
      "text/html": "<div>\n<style scoped>\n    .dataframe tbody tr th:only-of-type {\n        vertical-align: middle;\n    }\n\n    .dataframe tbody tr th {\n        vertical-align: top;\n    }\n\n    .dataframe thead th {\n        text-align: right;\n    }\n</style>\n<table border=\"1\" class=\"dataframe\">\n  <thead>\n    <tr style=\"text-align: right;\">\n      <th></th>\n      <th>sales_ymd</th>\n      <th>customer_id</th>\n      <th>product_cd</th>\n      <th>amount</th>\n    </tr>\n  </thead>\n  <tbody>\n    <tr>\n      <th>0</th>\n      <td>20181103</td>\n      <td>CS006214000001</td>\n      <td>P070305012</td>\n      <td>158</td>\n    </tr>\n    <tr>\n      <th>1</th>\n      <td>20181118</td>\n      <td>CS008415000097</td>\n      <td>P070701017</td>\n      <td>81</td>\n    </tr>\n    <tr>\n      <th>2</th>\n      <td>20170712</td>\n      <td>CS028414000014</td>\n      <td>P060101005</td>\n      <td>170</td>\n    </tr>\n    <tr>\n      <th>3</th>\n      <td>20190205</td>\n      <td>ZZ000000000000</td>\n      <td>P050301001</td>\n      <td>25</td>\n    </tr>\n    <tr>\n      <th>4</th>\n      <td>20180821</td>\n      <td>CS025415000050</td>\n      <td>P060102007</td>\n      <td>90</td>\n    </tr>\n    <tr>\n      <th>...</th>\n      <td>...</td>\n      <td>...</td>\n      <td>...</td>\n      <td>...</td>\n    </tr>\n    <tr>\n      <th>104676</th>\n      <td>20180221</td>\n      <td>ZZ000000000000</td>\n      <td>P050101001</td>\n      <td>40</td>\n    </tr>\n    <tr>\n      <th>104677</th>\n      <td>20190911</td>\n      <td>ZZ000000000000</td>\n      <td>P071006005</td>\n      <td>218</td>\n    </tr>\n    <tr>\n      <th>104678</th>\n      <td>20170311</td>\n      <td>CS040513000195</td>\n      <td>P050405003</td>\n      <td>168</td>\n    </tr>\n    <tr>\n      <th>104679</th>\n      <td>20170331</td>\n      <td>CS002513000049</td>\n      <td>P060303001</td>\n      <td>148</td>\n    </tr>\n    <tr>\n      <th>104680</th>\n      <td>20190423</td>\n      <td>ZZ000000000000</td>\n      <td>P050601001</td>\n      <td>138</td>\n    </tr>\n  </tbody>\n</table>\n<p>104681 rows × 4 columns</p>\n</div>"
     },
     "execution_count": 5,
     "metadata": {},
     "output_type": "execute_result"
    }
   ],
   "source": [
    "# Cach 3: Use Location\n",
    "df_receipt.loc[:,['sales_ymd','customer_id','product_cd','amount',]]"
   ],
   "metadata": {
    "collapsed": false,
    "ExecuteTime": {
     "end_time": "2024-09-06T16:04:02.065271400Z",
     "start_time": "2024-09-06T16:04:00.965229600Z"
    }
   }
  },
  {
   "cell_type": "markdown",
   "metadata": {},
   "source": [
    "---\n",
    "> P-003: From the receipt details data (df_receipt), specify the columns in the order of sales date (sales_ymd), customer ID (customer_id), product code (product_cd), and sales amount (amount), and display 10 rows. However, change the item name sales_ymd to sales_date when extracting."
   ]
  },
  {
   "cell_type": "code",
   "execution_count": 6,
   "metadata": {
    "ExecuteTime": {
     "end_time": "2024-09-06T16:04:02.066280300Z",
     "start_time": "2024-09-06T16:04:00.976086700Z"
    }
   },
   "outputs": [
    {
     "data": {
      "text/plain": "        sales_date     customer_id  product_cd  amount\n0         20181103  CS006214000001  P070305012     158\n1         20181118  CS008415000097  P070701017      81\n2         20170712  CS028414000014  P060101005     170\n3         20190205  ZZ000000000000  P050301001      25\n4         20180821  CS025415000050  P060102007      90\n...            ...             ...         ...     ...\n104676    20180221  ZZ000000000000  P050101001      40\n104677    20190911  ZZ000000000000  P071006005     218\n104678    20170311  CS040513000195  P050405003     168\n104679    20170331  CS002513000049  P060303001     148\n104680    20190423  ZZ000000000000  P050601001     138\n\n[104681 rows x 4 columns]",
      "text/html": "<div>\n<style scoped>\n    .dataframe tbody tr th:only-of-type {\n        vertical-align: middle;\n    }\n\n    .dataframe tbody tr th {\n        vertical-align: top;\n    }\n\n    .dataframe thead th {\n        text-align: right;\n    }\n</style>\n<table border=\"1\" class=\"dataframe\">\n  <thead>\n    <tr style=\"text-align: right;\">\n      <th></th>\n      <th>sales_date</th>\n      <th>customer_id</th>\n      <th>product_cd</th>\n      <th>amount</th>\n    </tr>\n  </thead>\n  <tbody>\n    <tr>\n      <th>0</th>\n      <td>20181103</td>\n      <td>CS006214000001</td>\n      <td>P070305012</td>\n      <td>158</td>\n    </tr>\n    <tr>\n      <th>1</th>\n      <td>20181118</td>\n      <td>CS008415000097</td>\n      <td>P070701017</td>\n      <td>81</td>\n    </tr>\n    <tr>\n      <th>2</th>\n      <td>20170712</td>\n      <td>CS028414000014</td>\n      <td>P060101005</td>\n      <td>170</td>\n    </tr>\n    <tr>\n      <th>3</th>\n      <td>20190205</td>\n      <td>ZZ000000000000</td>\n      <td>P050301001</td>\n      <td>25</td>\n    </tr>\n    <tr>\n      <th>4</th>\n      <td>20180821</td>\n      <td>CS025415000050</td>\n      <td>P060102007</td>\n      <td>90</td>\n    </tr>\n    <tr>\n      <th>...</th>\n      <td>...</td>\n      <td>...</td>\n      <td>...</td>\n      <td>...</td>\n    </tr>\n    <tr>\n      <th>104676</th>\n      <td>20180221</td>\n      <td>ZZ000000000000</td>\n      <td>P050101001</td>\n      <td>40</td>\n    </tr>\n    <tr>\n      <th>104677</th>\n      <td>20190911</td>\n      <td>ZZ000000000000</td>\n      <td>P071006005</td>\n      <td>218</td>\n    </tr>\n    <tr>\n      <th>104678</th>\n      <td>20170311</td>\n      <td>CS040513000195</td>\n      <td>P050405003</td>\n      <td>168</td>\n    </tr>\n    <tr>\n      <th>104679</th>\n      <td>20170331</td>\n      <td>CS002513000049</td>\n      <td>P060303001</td>\n      <td>148</td>\n    </tr>\n    <tr>\n      <th>104680</th>\n      <td>20190423</td>\n      <td>ZZ000000000000</td>\n      <td>P050601001</td>\n      <td>138</td>\n    </tr>\n  </tbody>\n</table>\n<p>104681 rows × 4 columns</p>\n</div>"
     },
     "execution_count": 6,
     "metadata": {},
     "output_type": "execute_result"
    }
   ],
   "source": [
    "# Option 1: Reassign the result\n",
    "df_receipt.loc[:,['sales_ymd','customer_id','product_cd','amount',]].rename(columns={'sales_ymd': 'sales_date'})"
   ]
  },
  {
   "cell_type": "code",
   "execution_count": 7,
   "outputs": [],
   "source": [
    "# Option 2: Modify In-Place DO NOT RUN\n",
    "df_receipt.rename(columns={'sales_ymd': 'sales_date'}, inplace=True)"
   ],
   "metadata": {
    "collapsed": false,
    "ExecuteTime": {
     "end_time": "2024-09-06T16:04:02.066280300Z",
     "start_time": "2024-09-06T16:04:00.986008900Z"
    }
   }
  },
  {
   "cell_type": "markdown",
   "metadata": {},
   "source": [
    "---\n",
    "> P-004: From the receipt details data (df_receipt), specify the columns in the order of sales date (sales_ymd), customer ID (customer_id), product code (product_cd), and sales amount (amount), and extract the data that meets the following condition:\n",
    "> * The customer ID (customer_id) is \"CS018205000001\"."
   ]
  },
  {
   "cell_type": "code",
   "execution_count": 8,
   "metadata": {
    "ExecuteTime": {
     "end_time": "2024-09-06T16:04:02.067280300Z",
     "start_time": "2024-09-06T16:04:00.990347300Z"
    }
   },
   "outputs": [
    {
     "data": {
      "text/plain": "       sales_date  sales_epoch store_cd  receipt_no  receipt_sub_no  \\\n36       20180911   1536624000   S13018        1122               2   \n9843     20180414   1523664000   S13018        1142               2   \n21110    20170614   1497398400   S13018        1112               2   \n27673    20170614   1497398400   S13018        1112               1   \n27840    20190216   1550275200   S13018        1152               2   \n28757    20180414   1523664000   S13018        1142               1   \n39256    20190226   1551139200   S13018        1132               2   \n58121    20190924   1569283200   S13018        1102               1   \n68117    20190226   1551139200   S13018        1132               1   \n72254    20180911   1536624000   S13018        1122               1   \n88508    20190216   1550275200   S13018        1152               1   \n91525    20190924   1569283200   S13018        1102               2   \n\n          customer_id  product_cd  quantity  amount  \n36     CS018205000001  P071401012         1    2200  \n9843   CS018205000001  P060104007         6     600  \n21110  CS018205000001  P050206001         5     990  \n27673  CS018205000001  P060702015         1     108  \n27840  CS018205000001  P071005024         1     102  \n28757  CS018205000001  P071101002         1     278  \n39256  CS018205000001  P070902035         1     168  \n58121  CS018205000001  P060805001         1     495  \n68117  CS018205000001  P071401020         1    2200  \n72254  CS018205000001  P071401005         1    1100  \n88508  CS018205000001  P040101002         1     218  \n91525  CS018205000001  P091503001         1     280  ",
      "text/html": "<div>\n<style scoped>\n    .dataframe tbody tr th:only-of-type {\n        vertical-align: middle;\n    }\n\n    .dataframe tbody tr th {\n        vertical-align: top;\n    }\n\n    .dataframe thead th {\n        text-align: right;\n    }\n</style>\n<table border=\"1\" class=\"dataframe\">\n  <thead>\n    <tr style=\"text-align: right;\">\n      <th></th>\n      <th>sales_date</th>\n      <th>sales_epoch</th>\n      <th>store_cd</th>\n      <th>receipt_no</th>\n      <th>receipt_sub_no</th>\n      <th>customer_id</th>\n      <th>product_cd</th>\n      <th>quantity</th>\n      <th>amount</th>\n    </tr>\n  </thead>\n  <tbody>\n    <tr>\n      <th>36</th>\n      <td>20180911</td>\n      <td>1536624000</td>\n      <td>S13018</td>\n      <td>1122</td>\n      <td>2</td>\n      <td>CS018205000001</td>\n      <td>P071401012</td>\n      <td>1</td>\n      <td>2200</td>\n    </tr>\n    <tr>\n      <th>9843</th>\n      <td>20180414</td>\n      <td>1523664000</td>\n      <td>S13018</td>\n      <td>1142</td>\n      <td>2</td>\n      <td>CS018205000001</td>\n      <td>P060104007</td>\n      <td>6</td>\n      <td>600</td>\n    </tr>\n    <tr>\n      <th>21110</th>\n      <td>20170614</td>\n      <td>1497398400</td>\n      <td>S13018</td>\n      <td>1112</td>\n      <td>2</td>\n      <td>CS018205000001</td>\n      <td>P050206001</td>\n      <td>5</td>\n      <td>990</td>\n    </tr>\n    <tr>\n      <th>27673</th>\n      <td>20170614</td>\n      <td>1497398400</td>\n      <td>S13018</td>\n      <td>1112</td>\n      <td>1</td>\n      <td>CS018205000001</td>\n      <td>P060702015</td>\n      <td>1</td>\n      <td>108</td>\n    </tr>\n    <tr>\n      <th>27840</th>\n      <td>20190216</td>\n      <td>1550275200</td>\n      <td>S13018</td>\n      <td>1152</td>\n      <td>2</td>\n      <td>CS018205000001</td>\n      <td>P071005024</td>\n      <td>1</td>\n      <td>102</td>\n    </tr>\n    <tr>\n      <th>28757</th>\n      <td>20180414</td>\n      <td>1523664000</td>\n      <td>S13018</td>\n      <td>1142</td>\n      <td>1</td>\n      <td>CS018205000001</td>\n      <td>P071101002</td>\n      <td>1</td>\n      <td>278</td>\n    </tr>\n    <tr>\n      <th>39256</th>\n      <td>20190226</td>\n      <td>1551139200</td>\n      <td>S13018</td>\n      <td>1132</td>\n      <td>2</td>\n      <td>CS018205000001</td>\n      <td>P070902035</td>\n      <td>1</td>\n      <td>168</td>\n    </tr>\n    <tr>\n      <th>58121</th>\n      <td>20190924</td>\n      <td>1569283200</td>\n      <td>S13018</td>\n      <td>1102</td>\n      <td>1</td>\n      <td>CS018205000001</td>\n      <td>P060805001</td>\n      <td>1</td>\n      <td>495</td>\n    </tr>\n    <tr>\n      <th>68117</th>\n      <td>20190226</td>\n      <td>1551139200</td>\n      <td>S13018</td>\n      <td>1132</td>\n      <td>1</td>\n      <td>CS018205000001</td>\n      <td>P071401020</td>\n      <td>1</td>\n      <td>2200</td>\n    </tr>\n    <tr>\n      <th>72254</th>\n      <td>20180911</td>\n      <td>1536624000</td>\n      <td>S13018</td>\n      <td>1122</td>\n      <td>1</td>\n      <td>CS018205000001</td>\n      <td>P071401005</td>\n      <td>1</td>\n      <td>1100</td>\n    </tr>\n    <tr>\n      <th>88508</th>\n      <td>20190216</td>\n      <td>1550275200</td>\n      <td>S13018</td>\n      <td>1152</td>\n      <td>1</td>\n      <td>CS018205000001</td>\n      <td>P040101002</td>\n      <td>1</td>\n      <td>218</td>\n    </tr>\n    <tr>\n      <th>91525</th>\n      <td>20190924</td>\n      <td>1569283200</td>\n      <td>S13018</td>\n      <td>1102</td>\n      <td>2</td>\n      <td>CS018205000001</td>\n      <td>P091503001</td>\n      <td>1</td>\n      <td>280</td>\n    </tr>\n  </tbody>\n</table>\n</div>"
     },
     "execution_count": 8,
     "metadata": {},
     "output_type": "execute_result"
    }
   ],
   "source": [
    "get_data = df_receipt[df_receipt['customer_id'] == 'CS018205000001']\n",
    "get_data"
   ]
  },
  {
   "cell_type": "markdown",
   "metadata": {},
   "source": [
    "---\n",
    "> P-005: From the receipt details data (df_receipt), specify the columns in the order of sales date (sales_ymd), customer ID (customer_id), product code (product_cd), and sales amount (amount), and extract the data that meets all of the following conditions:\n",
    "> * The customer ID (customer_id) is \"CS018205000001\".\n",
    "> * The sales amount (amount) is 1,000 or more."
   ]
  },
  {
   "cell_type": "code",
   "execution_count": 9,
   "metadata": {
    "ExecuteTime": {
     "end_time": "2024-09-06T16:04:02.067280300Z",
     "start_time": "2024-09-06T16:04:01.003131600Z"
    }
   },
   "outputs": [
    {
     "data": {
      "text/plain": "       sales_date  sales_epoch store_cd  receipt_no  receipt_sub_no  \\\n36       20180911   1536624000   S13018        1122               2   \n68117    20190226   1551139200   S13018        1132               1   \n72254    20180911   1536624000   S13018        1122               1   \n\n          customer_id  product_cd  quantity  amount  \n36     CS018205000001  P071401012         1    2200  \n68117  CS018205000001  P071401020         1    2200  \n72254  CS018205000001  P071401005         1    1100  ",
      "text/html": "<div>\n<style scoped>\n    .dataframe tbody tr th:only-of-type {\n        vertical-align: middle;\n    }\n\n    .dataframe tbody tr th {\n        vertical-align: top;\n    }\n\n    .dataframe thead th {\n        text-align: right;\n    }\n</style>\n<table border=\"1\" class=\"dataframe\">\n  <thead>\n    <tr style=\"text-align: right;\">\n      <th></th>\n      <th>sales_date</th>\n      <th>sales_epoch</th>\n      <th>store_cd</th>\n      <th>receipt_no</th>\n      <th>receipt_sub_no</th>\n      <th>customer_id</th>\n      <th>product_cd</th>\n      <th>quantity</th>\n      <th>amount</th>\n    </tr>\n  </thead>\n  <tbody>\n    <tr>\n      <th>36</th>\n      <td>20180911</td>\n      <td>1536624000</td>\n      <td>S13018</td>\n      <td>1122</td>\n      <td>2</td>\n      <td>CS018205000001</td>\n      <td>P071401012</td>\n      <td>1</td>\n      <td>2200</td>\n    </tr>\n    <tr>\n      <th>68117</th>\n      <td>20190226</td>\n      <td>1551139200</td>\n      <td>S13018</td>\n      <td>1132</td>\n      <td>1</td>\n      <td>CS018205000001</td>\n      <td>P071401020</td>\n      <td>1</td>\n      <td>2200</td>\n    </tr>\n    <tr>\n      <th>72254</th>\n      <td>20180911</td>\n      <td>1536624000</td>\n      <td>S13018</td>\n      <td>1122</td>\n      <td>1</td>\n      <td>CS018205000001</td>\n      <td>P071401005</td>\n      <td>1</td>\n      <td>1100</td>\n    </tr>\n  </tbody>\n</table>\n</div>"
     },
     "execution_count": 9,
     "metadata": {},
     "output_type": "execute_result"
    }
   ],
   "source": [
    "get_data = df_receipt[(df_receipt['customer_id'] == 'CS018205000001') & (df_receipt['amount'] > 1000)]\n",
    "get_data"
   ]
  },
  {
   "cell_type": "markdown",
   "metadata": {},
   "source": [
    "---\n",
    "> P-006: From the receipt details data (df_receipt), specify the columns in the order of sales date (sales_ymd), customer ID (customer_id), product code (product_cd), sales quantity (quantity), and sales amount (amount), and extract the data that meets all of the following conditions:\n",
    "> * The customer ID (customer_id) is \"CS018205000001\".\n",
    "> * The sales amount (amount) is 1,000 or more or the sales quantity (quantity) is 5 or more."
   ]
  },
  {
   "cell_type": "code",
   "execution_count": 10,
   "metadata": {
    "ExecuteTime": {
     "end_time": "2024-09-06T16:04:02.068283900Z",
     "start_time": "2024-09-06T16:04:01.015414100Z"
    }
   },
   "outputs": [
    {
     "data": {
      "text/plain": "       sales_date     customer_id  product_cd  quantity  amount\n36       20180911  CS018205000001  P071401012         1    2200\n9843     20180414  CS018205000001  P060104007         6     600\n21110    20170614  CS018205000001  P050206001         5     990\n68117    20190226  CS018205000001  P071401020         1    2200\n72254    20180911  CS018205000001  P071401005         1    1100",
      "text/html": "<div>\n<style scoped>\n    .dataframe tbody tr th:only-of-type {\n        vertical-align: middle;\n    }\n\n    .dataframe tbody tr th {\n        vertical-align: top;\n    }\n\n    .dataframe thead th {\n        text-align: right;\n    }\n</style>\n<table border=\"1\" class=\"dataframe\">\n  <thead>\n    <tr style=\"text-align: right;\">\n      <th></th>\n      <th>sales_date</th>\n      <th>customer_id</th>\n      <th>product_cd</th>\n      <th>quantity</th>\n      <th>amount</th>\n    </tr>\n  </thead>\n  <tbody>\n    <tr>\n      <th>36</th>\n      <td>20180911</td>\n      <td>CS018205000001</td>\n      <td>P071401012</td>\n      <td>1</td>\n      <td>2200</td>\n    </tr>\n    <tr>\n      <th>9843</th>\n      <td>20180414</td>\n      <td>CS018205000001</td>\n      <td>P060104007</td>\n      <td>6</td>\n      <td>600</td>\n    </tr>\n    <tr>\n      <th>21110</th>\n      <td>20170614</td>\n      <td>CS018205000001</td>\n      <td>P050206001</td>\n      <td>5</td>\n      <td>990</td>\n    </tr>\n    <tr>\n      <th>68117</th>\n      <td>20190226</td>\n      <td>CS018205000001</td>\n      <td>P071401020</td>\n      <td>1</td>\n      <td>2200</td>\n    </tr>\n    <tr>\n      <th>72254</th>\n      <td>20180911</td>\n      <td>CS018205000001</td>\n      <td>P071401005</td>\n      <td>1</td>\n      <td>1100</td>\n    </tr>\n  </tbody>\n</table>\n</div>"
     },
     "execution_count": 10,
     "metadata": {},
     "output_type": "execute_result"
    }
   ],
   "source": [
    "new_df = df_receipt[(df_receipt['customer_id'] == 'CS018205000001') & \n",
    "                         ((df_receipt['amount'] >= 1000) | (df_receipt['quantity'] >= 5))]\n",
    "\n",
    "result_df = new_df[['sales_date', 'customer_id', 'product_cd', 'quantity', 'amount']]\n",
    "result_df"
   ]
  },
  {
   "cell_type": "markdown",
   "metadata": {},
   "source": [
    "---\n",
    "> P-007: From the receipt details data (df_receipt), specify the columns in the order of sales date (sales_ymd), customer ID (customer_id), product code (product_cd), and sales amount (amount), and extract the data that meets all of the following conditions:\n",
    "> * The customer ID (customer_id) is \"CS018205000001\".\n",
    "> * The sales amount (amount) is 1,000 or more and 2,000 or less."
   ]
  },
  {
   "cell_type": "code",
   "execution_count": 11,
   "metadata": {
    "ExecuteTime": {
     "end_time": "2024-09-06T16:04:02.069229400Z",
     "start_time": "2024-09-06T16:04:01.034889800Z"
    }
   },
   "outputs": [
    {
     "data": {
      "text/plain": "       sales_date  sales_epoch store_cd  receipt_no  receipt_sub_no  \\\n72254    20180911   1536624000   S13018        1122               1   \n\n          customer_id  product_cd  quantity  amount  \n72254  CS018205000001  P071401005         1    1100  ",
      "text/html": "<div>\n<style scoped>\n    .dataframe tbody tr th:only-of-type {\n        vertical-align: middle;\n    }\n\n    .dataframe tbody tr th {\n        vertical-align: top;\n    }\n\n    .dataframe thead th {\n        text-align: right;\n    }\n</style>\n<table border=\"1\" class=\"dataframe\">\n  <thead>\n    <tr style=\"text-align: right;\">\n      <th></th>\n      <th>sales_date</th>\n      <th>sales_epoch</th>\n      <th>store_cd</th>\n      <th>receipt_no</th>\n      <th>receipt_sub_no</th>\n      <th>customer_id</th>\n      <th>product_cd</th>\n      <th>quantity</th>\n      <th>amount</th>\n    </tr>\n  </thead>\n  <tbody>\n    <tr>\n      <th>72254</th>\n      <td>20180911</td>\n      <td>1536624000</td>\n      <td>S13018</td>\n      <td>1122</td>\n      <td>1</td>\n      <td>CS018205000001</td>\n      <td>P071401005</td>\n      <td>1</td>\n      <td>1100</td>\n    </tr>\n  </tbody>\n</table>\n</div>"
     },
     "execution_count": 11,
     "metadata": {},
     "output_type": "execute_result"
    }
   ],
   "source": [
    "# OPTION 1: Use Bitwise\n",
    "df_receipt[(df_receipt['customer_id'] == 'CS018205000001') & (1000 < df_receipt['amount']) &  (df_receipt['amount']< 2000)]"
   ]
  },
  {
   "cell_type": "code",
   "execution_count": 12,
   "outputs": [
    {
     "data": {
      "text/plain": "       sales_date  sales_epoch store_cd  receipt_no  receipt_sub_no  \\\n72254    20180911   1536624000   S13018        1122               1   \n\n          customer_id  product_cd  quantity  amount  \n72254  CS018205000001  P071401005         1    1100  ",
      "text/html": "<div>\n<style scoped>\n    .dataframe tbody tr th:only-of-type {\n        vertical-align: middle;\n    }\n\n    .dataframe tbody tr th {\n        vertical-align: top;\n    }\n\n    .dataframe thead th {\n        text-align: right;\n    }\n</style>\n<table border=\"1\" class=\"dataframe\">\n  <thead>\n    <tr style=\"text-align: right;\">\n      <th></th>\n      <th>sales_date</th>\n      <th>sales_epoch</th>\n      <th>store_cd</th>\n      <th>receipt_no</th>\n      <th>receipt_sub_no</th>\n      <th>customer_id</th>\n      <th>product_cd</th>\n      <th>quantity</th>\n      <th>amount</th>\n    </tr>\n  </thead>\n  <tbody>\n    <tr>\n      <th>72254</th>\n      <td>20180911</td>\n      <td>1536624000</td>\n      <td>S13018</td>\n      <td>1122</td>\n      <td>1</td>\n      <td>CS018205000001</td>\n      <td>P071401005</td>\n      <td>1</td>\n      <td>1100</td>\n    </tr>\n  </tbody>\n</table>\n</div>"
     },
     "execution_count": 12,
     "metadata": {},
     "output_type": "execute_result"
    }
   ],
   "source": [
    "# OPTION 2: Use df.between(1001,1999) ([1001,1999])\n",
    "df_receipt[(df_receipt['customer_id'] == 'CS018205000001') & (df_receipt['amount']).between(1001, 1999)]"
   ],
   "metadata": {
    "collapsed": false,
    "ExecuteTime": {
     "end_time": "2024-09-06T16:04:02.070292500Z",
     "start_time": "2024-09-06T16:04:01.048363900Z"
    }
   }
  },
  {
   "cell_type": "markdown",
   "metadata": {},
   "source": [
    "---\n",
    "> P-008: From the receipt details data (df_receipt), specify the columns in the order of sales date (sales_ymd), customer ID (customer_id), product code (product_cd), and sales amount (amount), and extract the data that meets all of the following conditions:\n",
    "> * The customer ID (customer_id) is \"CS018205000001\".\n",
    "> * The product code (product_cd) is not \"P071401019\"."
   ]
  },
  {
   "cell_type": "code",
   "execution_count": 13,
   "metadata": {
    "ExecuteTime": {
     "end_time": "2024-09-06T16:04:02.076245100Z",
     "start_time": "2024-09-06T16:04:01.057623700Z"
    }
   },
   "outputs": [
    {
     "ename": "KeyError",
     "evalue": "\"['sales_ymd'] not in index\"",
     "output_type": "error",
     "traceback": [
      "\u001B[1;31m---------------------------------------------------------------------------\u001B[0m",
      "\u001B[1;31mKeyError\u001B[0m                                  Traceback (most recent call last)",
      "Cell \u001B[1;32mIn[13], line 2\u001B[0m\n\u001B[0;32m      1\u001B[0m new_df \u001B[38;5;241m=\u001B[39m df_receipt[(df_receipt[\u001B[38;5;124m'\u001B[39m\u001B[38;5;124mcustomer_id\u001B[39m\u001B[38;5;124m'\u001B[39m] \u001B[38;5;241m==\u001B[39m \u001B[38;5;124m'\u001B[39m\u001B[38;5;124mCS018205000001\u001B[39m\u001B[38;5;124m'\u001B[39m) \u001B[38;5;241m&\u001B[39m (df_receipt[\u001B[38;5;124m'\u001B[39m\u001B[38;5;124mproduct_cd\u001B[39m\u001B[38;5;124m'\u001B[39m] \u001B[38;5;241m!=\u001B[39m \u001B[38;5;124m'\u001B[39m\u001B[38;5;124mP071401019\u001B[39m\u001B[38;5;124m'\u001B[39m)]\n\u001B[1;32m----> 2\u001B[0m result_df \u001B[38;5;241m=\u001B[39m \u001B[43mnew_df\u001B[49m\u001B[43m[\u001B[49m\u001B[43m[\u001B[49m\u001B[38;5;124;43m'\u001B[39;49m\u001B[38;5;124;43msales_ymd\u001B[39;49m\u001B[38;5;124;43m'\u001B[39;49m\u001B[43m,\u001B[49m\u001B[43m \u001B[49m\u001B[38;5;124;43m'\u001B[39;49m\u001B[38;5;124;43mcustomer_id\u001B[39;49m\u001B[38;5;124;43m'\u001B[39;49m\u001B[43m,\u001B[49m\u001B[43m \u001B[49m\u001B[38;5;124;43m'\u001B[39;49m\u001B[38;5;124;43mproduct_cd\u001B[39;49m\u001B[38;5;124;43m'\u001B[39;49m\u001B[43m,\u001B[49m\u001B[43m \u001B[49m\u001B[38;5;124;43m'\u001B[39;49m\u001B[38;5;124;43mamount\u001B[39;49m\u001B[38;5;124;43m'\u001B[39;49m\u001B[43m]\u001B[49m\u001B[43m]\u001B[49m\n\u001B[0;32m      3\u001B[0m result_df\n",
      "File \u001B[1;32m~\\AppData\\Local\\Programs\\Python\\Python312\\Lib\\site-packages\\pandas\\core\\frame.py:3902\u001B[0m, in \u001B[0;36mDataFrame.__getitem__\u001B[1;34m(self, key)\u001B[0m\n\u001B[0;32m   3900\u001B[0m     \u001B[38;5;28;01mif\u001B[39;00m is_iterator(key):\n\u001B[0;32m   3901\u001B[0m         key \u001B[38;5;241m=\u001B[39m \u001B[38;5;28mlist\u001B[39m(key)\n\u001B[1;32m-> 3902\u001B[0m     indexer \u001B[38;5;241m=\u001B[39m \u001B[38;5;28;43mself\u001B[39;49m\u001B[38;5;241;43m.\u001B[39;49m\u001B[43mcolumns\u001B[49m\u001B[38;5;241;43m.\u001B[39;49m\u001B[43m_get_indexer_strict\u001B[49m\u001B[43m(\u001B[49m\u001B[43mkey\u001B[49m\u001B[43m,\u001B[49m\u001B[43m \u001B[49m\u001B[38;5;124;43m\"\u001B[39;49m\u001B[38;5;124;43mcolumns\u001B[39;49m\u001B[38;5;124;43m\"\u001B[39;49m\u001B[43m)\u001B[49m[\u001B[38;5;241m1\u001B[39m]\n\u001B[0;32m   3904\u001B[0m \u001B[38;5;66;03m# take() does not accept boolean indexers\u001B[39;00m\n\u001B[0;32m   3905\u001B[0m \u001B[38;5;28;01mif\u001B[39;00m \u001B[38;5;28mgetattr\u001B[39m(indexer, \u001B[38;5;124m\"\u001B[39m\u001B[38;5;124mdtype\u001B[39m\u001B[38;5;124m\"\u001B[39m, \u001B[38;5;28;01mNone\u001B[39;00m) \u001B[38;5;241m==\u001B[39m \u001B[38;5;28mbool\u001B[39m:\n",
      "File \u001B[1;32m~\\AppData\\Local\\Programs\\Python\\Python312\\Lib\\site-packages\\pandas\\core\\indexes\\base.py:6114\u001B[0m, in \u001B[0;36mIndex._get_indexer_strict\u001B[1;34m(self, key, axis_name)\u001B[0m\n\u001B[0;32m   6111\u001B[0m \u001B[38;5;28;01melse\u001B[39;00m:\n\u001B[0;32m   6112\u001B[0m     keyarr, indexer, new_indexer \u001B[38;5;241m=\u001B[39m \u001B[38;5;28mself\u001B[39m\u001B[38;5;241m.\u001B[39m_reindex_non_unique(keyarr)\n\u001B[1;32m-> 6114\u001B[0m \u001B[38;5;28;43mself\u001B[39;49m\u001B[38;5;241;43m.\u001B[39;49m\u001B[43m_raise_if_missing\u001B[49m\u001B[43m(\u001B[49m\u001B[43mkeyarr\u001B[49m\u001B[43m,\u001B[49m\u001B[43m \u001B[49m\u001B[43mindexer\u001B[49m\u001B[43m,\u001B[49m\u001B[43m \u001B[49m\u001B[43maxis_name\u001B[49m\u001B[43m)\u001B[49m\n\u001B[0;32m   6116\u001B[0m keyarr \u001B[38;5;241m=\u001B[39m \u001B[38;5;28mself\u001B[39m\u001B[38;5;241m.\u001B[39mtake(indexer)\n\u001B[0;32m   6117\u001B[0m \u001B[38;5;28;01mif\u001B[39;00m \u001B[38;5;28misinstance\u001B[39m(key, Index):\n\u001B[0;32m   6118\u001B[0m     \u001B[38;5;66;03m# GH 42790 - Preserve name from an Index\u001B[39;00m\n",
      "File \u001B[1;32m~\\AppData\\Local\\Programs\\Python\\Python312\\Lib\\site-packages\\pandas\\core\\indexes\\base.py:6178\u001B[0m, in \u001B[0;36mIndex._raise_if_missing\u001B[1;34m(self, key, indexer, axis_name)\u001B[0m\n\u001B[0;32m   6175\u001B[0m     \u001B[38;5;28;01mraise\u001B[39;00m \u001B[38;5;167;01mKeyError\u001B[39;00m(\u001B[38;5;124mf\u001B[39m\u001B[38;5;124m\"\u001B[39m\u001B[38;5;124mNone of [\u001B[39m\u001B[38;5;132;01m{\u001B[39;00mkey\u001B[38;5;132;01m}\u001B[39;00m\u001B[38;5;124m] are in the [\u001B[39m\u001B[38;5;132;01m{\u001B[39;00maxis_name\u001B[38;5;132;01m}\u001B[39;00m\u001B[38;5;124m]\u001B[39m\u001B[38;5;124m\"\u001B[39m)\n\u001B[0;32m   6177\u001B[0m not_found \u001B[38;5;241m=\u001B[39m \u001B[38;5;28mlist\u001B[39m(ensure_index(key)[missing_mask\u001B[38;5;241m.\u001B[39mnonzero()[\u001B[38;5;241m0\u001B[39m]]\u001B[38;5;241m.\u001B[39munique())\n\u001B[1;32m-> 6178\u001B[0m \u001B[38;5;28;01mraise\u001B[39;00m \u001B[38;5;167;01mKeyError\u001B[39;00m(\u001B[38;5;124mf\u001B[39m\u001B[38;5;124m\"\u001B[39m\u001B[38;5;132;01m{\u001B[39;00mnot_found\u001B[38;5;132;01m}\u001B[39;00m\u001B[38;5;124m not in index\u001B[39m\u001B[38;5;124m\"\u001B[39m)\n",
      "\u001B[1;31mKeyError\u001B[0m: \"['sales_ymd'] not in index\""
     ]
    }
   ],
   "source": [
    "new_df = df_receipt[(df_receipt['customer_id'] == 'CS018205000001') & (df_receipt['product_cd'] != 'P071401019')]\n",
    "result_df = new_df[['sales_ymd', 'customer_id', 'product_cd', 'amount']]\n",
    "result_df"
   ]
  },
  {
   "cell_type": "markdown",
   "source": [],
   "metadata": {
    "collapsed": false
   }
  },
  {
   "cell_type": "markdown",
   "metadata": {},
   "source": [
    "---\n",
    "> P-009: Rewrite the following process without changing the output results, replacing the OR condition with AND.\n",
    "> \n",
    "> `df_store.query('not(prefecture_cd == \"13\" | floor_area > 900)')`"
   ]
  },
  {
   "cell_type": "code",
   "execution_count": null,
   "metadata": {
    "ExecuteTime": {
     "start_time": "2024-09-06T16:04:01.708320700Z"
    }
   },
   "outputs": [],
   "source": [
    "df_store.query('prefecture_cd != \"13\" & floor_area <= 900')"
   ]
  },
  {
   "cell_type": "code",
   "execution_count": null,
   "outputs": [],
   "source": [
    "df_store.query('~(prefecture_cd == \"13\") & ~(floor_area > 900)')"
   ],
   "metadata": {
    "collapsed": false,
    "ExecuteTime": {
     "start_time": "2024-09-06T16:04:01.709320Z"
    }
   }
  },
  {
   "cell_type": "markdown",
   "metadata": {},
   "source": [
    "---\n",
    "> P-010: From the store data (df_store), extract and display 10 rows of all items where the store code (store_cd) starts with \"S14\"."
   ]
  },
  {
   "cell_type": "code",
   "execution_count": null,
   "metadata": {
    "ExecuteTime": {
     "start_time": "2024-09-06T16:04:01.710321200Z"
    }
   },
   "outputs": [],
   "source": [
    "df_store[df_store['store_cd'].str.startswith('S14')].head(10)"
   ]
  },
  {
   "cell_type": "markdown",
   "metadata": {},
   "source": [
    "---\n",
    "> P-011: From the customer data (df_customer), extract and display 10 rows of all items where the customer ID (customer_id) ends with \"01\"."
   ]
  },
  {
   "cell_type": "code",
   "execution_count": null,
   "metadata": {
    "ExecuteTime": {
     "start_time": "2024-09-06T16:04:01.711321300Z"
    }
   },
   "outputs": [],
   "source": [
    "df_customer[df_customer['customer_id'].str.endswith('01')].head(10)"
   ]
  },
  {
   "cell_type": "markdown",
   "metadata": {},
   "source": [
    "---\n",
    "> P-012: From the store data (df_store), display all items that include \"Yokohama City\" in the address (address)."
   ]
  },
  {
   "cell_type": "code",
   "execution_count": null,
   "metadata": {
    "ExecuteTime": {
     "start_time": "2024-09-06T16:04:01.712322100Z"
    }
   },
   "outputs": [],
   "source": [
    "df_store[df_store['address'].str.contains('Yokohama City', case=False)]"
   ]
  },
  {
   "cell_type": "code",
   "execution_count": null,
   "outputs": [],
   "source": [
    "df_store[df_store['address'].str.contains('Yokohama City', case=True)]"
   ],
   "metadata": {
    "collapsed": false,
    "ExecuteTime": {
     "start_time": "2024-09-06T16:04:01.714321200Z"
    }
   }
  },
  {
   "cell_type": "markdown",
   "metadata": {},
   "source": [
    "---\n",
    "> P-013: From the customer data (df_customer), extract and display 10 rows of all items where the status code (status_cd) starts with an alphabet from A to F."
   ]
  },
  {
   "cell_type": "code",
   "execution_count": null,
   "metadata": {
    "ExecuteTime": {
     "start_time": "2024-09-06T16:04:01.715320700Z"
    }
   },
   "outputs": [],
   "source": [
    "df_customer[df_customer['status_cd'].str.match('^[A-F]', case=False)].head(10)"
   ]
  },
  {
   "cell_type": "markdown",
   "metadata": {},
   "source": [
    "---\n",
    "> P-014: From the customer data (df_customer), extract and display 10 rows of all items where the status code (status_cd) ends with a number from 1 to 9."
   ]
  },
  {
   "cell_type": "code",
   "execution_count": null,
   "metadata": {
    "ExecuteTime": {
     "start_time": "2024-09-06T16:04:01.716319700Z"
    }
   },
   "outputs": [],
   "source": [
    "df_customer[df_customer['status_cd'].str.match('[1-9]$', case=False)].head(10)"
   ]
  },
  {
   "cell_type": "markdown",
   "metadata": {},
   "source": [
    "---\n",
    "> P-015: From the customer data (df_customer), extract and display 10 rows of all items where the status code (status_cd) starts with an alphabet from A to F and ends with a number from 1 to 9.\n"
   ]
  },
  {
   "cell_type": "code",
   "execution_count": null,
   "metadata": {
    "ExecuteTime": {
     "start_time": "2024-09-06T16:04:01.717319800Z"
    }
   },
   "outputs": [],
   "source": [
    "df_customer[df_customer['status_cd'].str.match('^[A-F].*[1-9]$',case=False)].head(10)"
   ]
  },
  {
   "cell_type": "markdown",
   "metadata": {},
   "source": [
    "---\n",
    "> P-016: From the store data (df_store), display all items where the telephone number (tel_no) starts with 3 digits and ends with 4 digits."
   ]
  },
  {
   "cell_type": "code",
   "execution_count": null,
   "metadata": {
    "ExecuteTime": {
     "start_time": "2024-09-06T16:04:01.718319700Z"
    }
   },
   "outputs": [],
   "source": [
    "df_store[df_store['tel_no'].str.match(r'^\\d{3}.*\\d{4}$')] # Starts with 3 digits == ^\\d{3} and (.*) ends with 4 digits \\d{4}$"
   ]
  },
  {
   "cell_type": "markdown",
   "metadata": {},
   "source": [
    "---\n",
    "> P-017: Sort the customer data (df_customer) in descending order by birth date (birth_day), and display the first 10 rows of all items."
   ]
  },
  {
   "cell_type": "code",
   "execution_count": null,
   "metadata": {
    "ExecuteTime": {
     "start_time": "2024-09-06T16:04:01.719319800Z"
    }
   },
   "outputs": [],
   "source": [
    "df_sorted = df_customer.sort_values(by='birth_day', ascending=False)\n",
    "df_sorted"
   ]
  },
  {
   "cell_type": "markdown",
   "metadata": {},
   "source": [
    "---\n",
    "> P-018: Sort the customer data (df_customer) in ascending order by birth date (birth_day), and display the first 10 rows of all items."
   ]
  },
  {
   "cell_type": "code",
   "execution_count": null,
   "metadata": {
    "ExecuteTime": {
     "start_time": "2024-09-06T16:04:01.720318900Z"
    }
   },
   "outputs": [],
   "source": [
    "df_sorted = df_customer.sort_values(by='birth_day', ascending=True).head(10)\n",
    "df_sorted"
   ]
  },
  {
   "cell_type": "markdown",
   "metadata": {},
   "source": [
    "---\n",
    "> P-019: For the receipt details data (df_receipt), rank the items in descending order by sales amount per item (amount), and display the top 10 rows with the assigned rank. The columns to display are customer ID (customer_id) and sales amount (amount). In the case of ties in sales amount, assign the same rank and skip the next rank."
   ]
  },
  {
   "cell_type": "code",
   "execution_count": null,
   "metadata": {
    "ExecuteTime": {
     "start_time": "2024-09-06T16:04:01.722320800Z"
    }
   },
   "outputs": [],
   "source": [
    "df_receipt['rank'] = df_receipt['amount'].rank(method='min',ascending=False)\n",
    "new_df = df_receipt.sort_values(by='rank').head(10)\n",
    "result = new_df[['customer_id', 'amount', 'rank']]\n",
    "result"
   ]
  },
  {
   "cell_type": "markdown",
   "metadata": {},
   "source": [
    "---\n",
    "> P-020: For the receipt details data (df_receipt), rank the items in descending order by sales amount per item (amount), and display the top 10 rows with the assigned rank. The columns to display are customer ID (customer_id) and sales amount (amount). In the case of ties in sales amount, assign the same rank but give the next rank to the following item."
   ]
  },
  {
   "cell_type": "code",
   "execution_count": null,
   "metadata": {
    "ExecuteTime": {
     "start_time": "2024-09-06T16:04:01.723319600Z"
    }
   },
   "outputs": [],
   "source": [
    "df_receipt['rank'] = df_receipt['amount'].rank(method='dense',ascending=False)\n",
    "new_df = df_receipt.sort_values(by='rank').head(10)\n",
    "result = new_df[['customer_id', 'amount', 'rank']]\n",
    "result"
   ]
  },
  {
   "cell_type": "markdown",
   "metadata": {},
   "source": [
    "---\n",
    "> P-021: Count the number of items in the receipt details data (df_receipt)."
   ]
  },
  {
   "cell_type": "code",
   "execution_count": 15,
   "metadata": {
    "ExecuteTime": {
     "end_time": "2024-09-06T16:07:47.581846200Z",
     "start_time": "2024-09-06T16:07:47.538478300Z"
    }
   },
   "outputs": [
    {
     "data": {
      "text/plain": "104681"
     },
     "execution_count": 15,
     "metadata": {},
     "output_type": "execute_result"
    }
   ],
   "source": [
    "df_receipt['quantity'].count()"
   ]
  },
  {
   "cell_type": "markdown",
   "metadata": {},
   "source": [
    "---\n",
    "> P-022: Count the number of unique values in the customer ID (customer_id) column in the receipt details data (df_receipt)."
   ]
  },
  {
   "cell_type": "code",
   "execution_count": 25,
   "metadata": {
    "ExecuteTime": {
     "end_time": "2024-09-06T16:10:41.044234100Z",
     "start_time": "2024-09-06T16:10:40.997320800Z"
    }
   },
   "outputs": [
    {
     "data": {
      "text/plain": "array(['CS006214000001', 'CS008415000097', 'CS028414000014', ...,\n       'CS004613000146', 'CS002314000037', 'CS040311000022'], dtype=object)"
     },
     "execution_count": 25,
     "metadata": {},
     "output_type": "execute_result"
    }
   ],
   "source": [
    "df_receipt['customer_id'].unique()"
   ]
  },
  {
   "cell_type": "code",
   "execution_count": 26,
   "outputs": [
    {
     "data": {
      "text/plain": "8307"
     },
     "execution_count": 26,
     "metadata": {},
     "output_type": "execute_result"
    }
   ],
   "source": [
    "df_receipt['customer_id'].nunique()"
   ],
   "metadata": {
    "collapsed": false,
    "ExecuteTime": {
     "end_time": "2024-09-06T16:10:43.828875100Z",
     "start_time": "2024-09-06T16:10:43.800920Z"
    }
   }
  },
  {
   "cell_type": "markdown",
   "metadata": {},
   "source": [
    "---\n",
    "> P-023: For the receipt details data (df_receipt), sum the sales amount (amount) and sales quantity (quantity) for each store code (store_cd)."
   ]
  },
  {
   "cell_type": "code",
   "execution_count": 29,
   "metadata": {
    "ExecuteTime": {
     "end_time": "2024-09-06T16:13:00.481318700Z",
     "start_time": "2024-09-06T16:13:00.436173300Z"
    }
   },
   "outputs": [
    {
     "data": {
      "text/plain": "0         159\n1          82\n2         171\n3          26\n4          91\n         ... \n104676     41\n104677    219\n104678    169\n104679    149\n104680    139\nLength: 104681, dtype: int64"
     },
     "execution_count": 29,
     "metadata": {},
     "output_type": "execute_result"
    }
   ],
   "source": [
    "sum = df_receipt['amount'] + df_receipt['quantity']\n",
    "sum"
   ]
  },
  {
   "cell_type": "code",
   "execution_count": 33,
   "outputs": [
    {
     "data": {
      "text/plain": "   store_cd  amount  quantity\n0    S12007  638761      2099\n1    S12013  787513      2425\n2    S12014  725167      2358\n3    S12029  794741      2555\n4    S12030  684402      2403\n5    S13001  811936      2347\n6    S13002  727821      2340\n7    S13003  764294      2197\n8    S13004  779373      2390\n9    S13005  629876      2004\n10   S13008  809288      2491\n11   S13009  808870      2486\n12   S13015  780873      2248\n13   S13016  793773      2432\n14   S13017  748221      2376\n15   S13018  790535      2562\n16   S13019  827833      2541\n17   S13020  796383      2383\n18   S13031  705968      2336\n19   S13032  790501      2491\n20   S13035  715869      2219\n21   S13037  693087      2344\n22   S13038  708884      2337\n23   S13039  611888      1981\n24   S13041  728266      2233\n25   S13043  587895      1881\n26   S13044  520764      1729\n27   S13051  107452       354\n28   S13052  100314       250\n29   S14006  712839      2284\n30   S14010  790361      2290\n31   S14011  805724      2434\n32   S14012  720600      2412\n33   S14021  699511      2231\n34   S14022  651328      2047\n35   S14023  727630      2258\n36   S14024  736323      2417\n37   S14025  755581      2394\n38   S14026  824537      2503\n39   S14027  714550      2303\n40   S14028  786145      2458\n41   S14033  725318      2282\n42   S14034  653681      2024\n43   S14036  203694       635\n44   S14040  701858      2233\n45   S14042  534689      1935\n46   S14045  458484      1398\n47   S14046  412646      1354\n48   S14047  338329      1041\n49   S14048  234276       769\n50   S14049  230808       788\n51   S14050  167090       580",
      "text/html": "<div>\n<style scoped>\n    .dataframe tbody tr th:only-of-type {\n        vertical-align: middle;\n    }\n\n    .dataframe tbody tr th {\n        vertical-align: top;\n    }\n\n    .dataframe thead th {\n        text-align: right;\n    }\n</style>\n<table border=\"1\" class=\"dataframe\">\n  <thead>\n    <tr style=\"text-align: right;\">\n      <th></th>\n      <th>store_cd</th>\n      <th>amount</th>\n      <th>quantity</th>\n    </tr>\n  </thead>\n  <tbody>\n    <tr>\n      <th>0</th>\n      <td>S12007</td>\n      <td>638761</td>\n      <td>2099</td>\n    </tr>\n    <tr>\n      <th>1</th>\n      <td>S12013</td>\n      <td>787513</td>\n      <td>2425</td>\n    </tr>\n    <tr>\n      <th>2</th>\n      <td>S12014</td>\n      <td>725167</td>\n      <td>2358</td>\n    </tr>\n    <tr>\n      <th>3</th>\n      <td>S12029</td>\n      <td>794741</td>\n      <td>2555</td>\n    </tr>\n    <tr>\n      <th>4</th>\n      <td>S12030</td>\n      <td>684402</td>\n      <td>2403</td>\n    </tr>\n    <tr>\n      <th>5</th>\n      <td>S13001</td>\n      <td>811936</td>\n      <td>2347</td>\n    </tr>\n    <tr>\n      <th>6</th>\n      <td>S13002</td>\n      <td>727821</td>\n      <td>2340</td>\n    </tr>\n    <tr>\n      <th>7</th>\n      <td>S13003</td>\n      <td>764294</td>\n      <td>2197</td>\n    </tr>\n    <tr>\n      <th>8</th>\n      <td>S13004</td>\n      <td>779373</td>\n      <td>2390</td>\n    </tr>\n    <tr>\n      <th>9</th>\n      <td>S13005</td>\n      <td>629876</td>\n      <td>2004</td>\n    </tr>\n    <tr>\n      <th>10</th>\n      <td>S13008</td>\n      <td>809288</td>\n      <td>2491</td>\n    </tr>\n    <tr>\n      <th>11</th>\n      <td>S13009</td>\n      <td>808870</td>\n      <td>2486</td>\n    </tr>\n    <tr>\n      <th>12</th>\n      <td>S13015</td>\n      <td>780873</td>\n      <td>2248</td>\n    </tr>\n    <tr>\n      <th>13</th>\n      <td>S13016</td>\n      <td>793773</td>\n      <td>2432</td>\n    </tr>\n    <tr>\n      <th>14</th>\n      <td>S13017</td>\n      <td>748221</td>\n      <td>2376</td>\n    </tr>\n    <tr>\n      <th>15</th>\n      <td>S13018</td>\n      <td>790535</td>\n      <td>2562</td>\n    </tr>\n    <tr>\n      <th>16</th>\n      <td>S13019</td>\n      <td>827833</td>\n      <td>2541</td>\n    </tr>\n    <tr>\n      <th>17</th>\n      <td>S13020</td>\n      <td>796383</td>\n      <td>2383</td>\n    </tr>\n    <tr>\n      <th>18</th>\n      <td>S13031</td>\n      <td>705968</td>\n      <td>2336</td>\n    </tr>\n    <tr>\n      <th>19</th>\n      <td>S13032</td>\n      <td>790501</td>\n      <td>2491</td>\n    </tr>\n    <tr>\n      <th>20</th>\n      <td>S13035</td>\n      <td>715869</td>\n      <td>2219</td>\n    </tr>\n    <tr>\n      <th>21</th>\n      <td>S13037</td>\n      <td>693087</td>\n      <td>2344</td>\n    </tr>\n    <tr>\n      <th>22</th>\n      <td>S13038</td>\n      <td>708884</td>\n      <td>2337</td>\n    </tr>\n    <tr>\n      <th>23</th>\n      <td>S13039</td>\n      <td>611888</td>\n      <td>1981</td>\n    </tr>\n    <tr>\n      <th>24</th>\n      <td>S13041</td>\n      <td>728266</td>\n      <td>2233</td>\n    </tr>\n    <tr>\n      <th>25</th>\n      <td>S13043</td>\n      <td>587895</td>\n      <td>1881</td>\n    </tr>\n    <tr>\n      <th>26</th>\n      <td>S13044</td>\n      <td>520764</td>\n      <td>1729</td>\n    </tr>\n    <tr>\n      <th>27</th>\n      <td>S13051</td>\n      <td>107452</td>\n      <td>354</td>\n    </tr>\n    <tr>\n      <th>28</th>\n      <td>S13052</td>\n      <td>100314</td>\n      <td>250</td>\n    </tr>\n    <tr>\n      <th>29</th>\n      <td>S14006</td>\n      <td>712839</td>\n      <td>2284</td>\n    </tr>\n    <tr>\n      <th>30</th>\n      <td>S14010</td>\n      <td>790361</td>\n      <td>2290</td>\n    </tr>\n    <tr>\n      <th>31</th>\n      <td>S14011</td>\n      <td>805724</td>\n      <td>2434</td>\n    </tr>\n    <tr>\n      <th>32</th>\n      <td>S14012</td>\n      <td>720600</td>\n      <td>2412</td>\n    </tr>\n    <tr>\n      <th>33</th>\n      <td>S14021</td>\n      <td>699511</td>\n      <td>2231</td>\n    </tr>\n    <tr>\n      <th>34</th>\n      <td>S14022</td>\n      <td>651328</td>\n      <td>2047</td>\n    </tr>\n    <tr>\n      <th>35</th>\n      <td>S14023</td>\n      <td>727630</td>\n      <td>2258</td>\n    </tr>\n    <tr>\n      <th>36</th>\n      <td>S14024</td>\n      <td>736323</td>\n      <td>2417</td>\n    </tr>\n    <tr>\n      <th>37</th>\n      <td>S14025</td>\n      <td>755581</td>\n      <td>2394</td>\n    </tr>\n    <tr>\n      <th>38</th>\n      <td>S14026</td>\n      <td>824537</td>\n      <td>2503</td>\n    </tr>\n    <tr>\n      <th>39</th>\n      <td>S14027</td>\n      <td>714550</td>\n      <td>2303</td>\n    </tr>\n    <tr>\n      <th>40</th>\n      <td>S14028</td>\n      <td>786145</td>\n      <td>2458</td>\n    </tr>\n    <tr>\n      <th>41</th>\n      <td>S14033</td>\n      <td>725318</td>\n      <td>2282</td>\n    </tr>\n    <tr>\n      <th>42</th>\n      <td>S14034</td>\n      <td>653681</td>\n      <td>2024</td>\n    </tr>\n    <tr>\n      <th>43</th>\n      <td>S14036</td>\n      <td>203694</td>\n      <td>635</td>\n    </tr>\n    <tr>\n      <th>44</th>\n      <td>S14040</td>\n      <td>701858</td>\n      <td>2233</td>\n    </tr>\n    <tr>\n      <th>45</th>\n      <td>S14042</td>\n      <td>534689</td>\n      <td>1935</td>\n    </tr>\n    <tr>\n      <th>46</th>\n      <td>S14045</td>\n      <td>458484</td>\n      <td>1398</td>\n    </tr>\n    <tr>\n      <th>47</th>\n      <td>S14046</td>\n      <td>412646</td>\n      <td>1354</td>\n    </tr>\n    <tr>\n      <th>48</th>\n      <td>S14047</td>\n      <td>338329</td>\n      <td>1041</td>\n    </tr>\n    <tr>\n      <th>49</th>\n      <td>S14048</td>\n      <td>234276</td>\n      <td>769</td>\n    </tr>\n    <tr>\n      <th>50</th>\n      <td>S14049</td>\n      <td>230808</td>\n      <td>788</td>\n    </tr>\n    <tr>\n      <th>51</th>\n      <td>S14050</td>\n      <td>167090</td>\n      <td>580</td>\n    </tr>\n  </tbody>\n</table>\n</div>"
     },
     "execution_count": 33,
     "metadata": {},
     "output_type": "execute_result"
    }
   ],
   "source": [
    "#  Use Group by\n",
    "store_sum = df_receipt.groupby('store_cd')[['amount', 'quantity']].sum().reset_index()\n",
    "store_sum"
   ],
   "metadata": {
    "collapsed": false,
    "ExecuteTime": {
     "end_time": "2024-09-06T16:14:15.472194Z",
     "start_time": "2024-09-06T16:14:15.433565300Z"
    }
   }
  },
  {
   "cell_type": "code",
   "execution_count": 34,
   "outputs": [
    {
     "data": {
      "text/plain": "   store_cd  amount  quantity\n0    S12007  638761      2099\n1    S12013  787513      2425\n2    S12014  725167      2358\n3    S12029  794741      2555\n4    S12030  684402      2403\n5    S13001  811936      2347\n6    S13002  727821      2340\n7    S13003  764294      2197\n8    S13004  779373      2390\n9    S13005  629876      2004\n10   S13008  809288      2491\n11   S13009  808870      2486\n12   S13015  780873      2248\n13   S13016  793773      2432\n14   S13017  748221      2376\n15   S13018  790535      2562\n16   S13019  827833      2541\n17   S13020  796383      2383\n18   S13031  705968      2336\n19   S13032  790501      2491\n20   S13035  715869      2219\n21   S13037  693087      2344\n22   S13038  708884      2337\n23   S13039  611888      1981\n24   S13041  728266      2233\n25   S13043  587895      1881\n26   S13044  520764      1729\n27   S13051  107452       354\n28   S13052  100314       250\n29   S14006  712839      2284\n30   S14010  790361      2290\n31   S14011  805724      2434\n32   S14012  720600      2412\n33   S14021  699511      2231\n34   S14022  651328      2047\n35   S14023  727630      2258\n36   S14024  736323      2417\n37   S14025  755581      2394\n38   S14026  824537      2503\n39   S14027  714550      2303\n40   S14028  786145      2458\n41   S14033  725318      2282\n42   S14034  653681      2024\n43   S14036  203694       635\n44   S14040  701858      2233\n45   S14042  534689      1935\n46   S14045  458484      1398\n47   S14046  412646      1354\n48   S14047  338329      1041\n49   S14048  234276       769\n50   S14049  230808       788\n51   S14050  167090       580",
      "text/html": "<div>\n<style scoped>\n    .dataframe tbody tr th:only-of-type {\n        vertical-align: middle;\n    }\n\n    .dataframe tbody tr th {\n        vertical-align: top;\n    }\n\n    .dataframe thead th {\n        text-align: right;\n    }\n</style>\n<table border=\"1\" class=\"dataframe\">\n  <thead>\n    <tr style=\"text-align: right;\">\n      <th></th>\n      <th>store_cd</th>\n      <th>amount</th>\n      <th>quantity</th>\n    </tr>\n  </thead>\n  <tbody>\n    <tr>\n      <th>0</th>\n      <td>S12007</td>\n      <td>638761</td>\n      <td>2099</td>\n    </tr>\n    <tr>\n      <th>1</th>\n      <td>S12013</td>\n      <td>787513</td>\n      <td>2425</td>\n    </tr>\n    <tr>\n      <th>2</th>\n      <td>S12014</td>\n      <td>725167</td>\n      <td>2358</td>\n    </tr>\n    <tr>\n      <th>3</th>\n      <td>S12029</td>\n      <td>794741</td>\n      <td>2555</td>\n    </tr>\n    <tr>\n      <th>4</th>\n      <td>S12030</td>\n      <td>684402</td>\n      <td>2403</td>\n    </tr>\n    <tr>\n      <th>5</th>\n      <td>S13001</td>\n      <td>811936</td>\n      <td>2347</td>\n    </tr>\n    <tr>\n      <th>6</th>\n      <td>S13002</td>\n      <td>727821</td>\n      <td>2340</td>\n    </tr>\n    <tr>\n      <th>7</th>\n      <td>S13003</td>\n      <td>764294</td>\n      <td>2197</td>\n    </tr>\n    <tr>\n      <th>8</th>\n      <td>S13004</td>\n      <td>779373</td>\n      <td>2390</td>\n    </tr>\n    <tr>\n      <th>9</th>\n      <td>S13005</td>\n      <td>629876</td>\n      <td>2004</td>\n    </tr>\n    <tr>\n      <th>10</th>\n      <td>S13008</td>\n      <td>809288</td>\n      <td>2491</td>\n    </tr>\n    <tr>\n      <th>11</th>\n      <td>S13009</td>\n      <td>808870</td>\n      <td>2486</td>\n    </tr>\n    <tr>\n      <th>12</th>\n      <td>S13015</td>\n      <td>780873</td>\n      <td>2248</td>\n    </tr>\n    <tr>\n      <th>13</th>\n      <td>S13016</td>\n      <td>793773</td>\n      <td>2432</td>\n    </tr>\n    <tr>\n      <th>14</th>\n      <td>S13017</td>\n      <td>748221</td>\n      <td>2376</td>\n    </tr>\n    <tr>\n      <th>15</th>\n      <td>S13018</td>\n      <td>790535</td>\n      <td>2562</td>\n    </tr>\n    <tr>\n      <th>16</th>\n      <td>S13019</td>\n      <td>827833</td>\n      <td>2541</td>\n    </tr>\n    <tr>\n      <th>17</th>\n      <td>S13020</td>\n      <td>796383</td>\n      <td>2383</td>\n    </tr>\n    <tr>\n      <th>18</th>\n      <td>S13031</td>\n      <td>705968</td>\n      <td>2336</td>\n    </tr>\n    <tr>\n      <th>19</th>\n      <td>S13032</td>\n      <td>790501</td>\n      <td>2491</td>\n    </tr>\n    <tr>\n      <th>20</th>\n      <td>S13035</td>\n      <td>715869</td>\n      <td>2219</td>\n    </tr>\n    <tr>\n      <th>21</th>\n      <td>S13037</td>\n      <td>693087</td>\n      <td>2344</td>\n    </tr>\n    <tr>\n      <th>22</th>\n      <td>S13038</td>\n      <td>708884</td>\n      <td>2337</td>\n    </tr>\n    <tr>\n      <th>23</th>\n      <td>S13039</td>\n      <td>611888</td>\n      <td>1981</td>\n    </tr>\n    <tr>\n      <th>24</th>\n      <td>S13041</td>\n      <td>728266</td>\n      <td>2233</td>\n    </tr>\n    <tr>\n      <th>25</th>\n      <td>S13043</td>\n      <td>587895</td>\n      <td>1881</td>\n    </tr>\n    <tr>\n      <th>26</th>\n      <td>S13044</td>\n      <td>520764</td>\n      <td>1729</td>\n    </tr>\n    <tr>\n      <th>27</th>\n      <td>S13051</td>\n      <td>107452</td>\n      <td>354</td>\n    </tr>\n    <tr>\n      <th>28</th>\n      <td>S13052</td>\n      <td>100314</td>\n      <td>250</td>\n    </tr>\n    <tr>\n      <th>29</th>\n      <td>S14006</td>\n      <td>712839</td>\n      <td>2284</td>\n    </tr>\n    <tr>\n      <th>30</th>\n      <td>S14010</td>\n      <td>790361</td>\n      <td>2290</td>\n    </tr>\n    <tr>\n      <th>31</th>\n      <td>S14011</td>\n      <td>805724</td>\n      <td>2434</td>\n    </tr>\n    <tr>\n      <th>32</th>\n      <td>S14012</td>\n      <td>720600</td>\n      <td>2412</td>\n    </tr>\n    <tr>\n      <th>33</th>\n      <td>S14021</td>\n      <td>699511</td>\n      <td>2231</td>\n    </tr>\n    <tr>\n      <th>34</th>\n      <td>S14022</td>\n      <td>651328</td>\n      <td>2047</td>\n    </tr>\n    <tr>\n      <th>35</th>\n      <td>S14023</td>\n      <td>727630</td>\n      <td>2258</td>\n    </tr>\n    <tr>\n      <th>36</th>\n      <td>S14024</td>\n      <td>736323</td>\n      <td>2417</td>\n    </tr>\n    <tr>\n      <th>37</th>\n      <td>S14025</td>\n      <td>755581</td>\n      <td>2394</td>\n    </tr>\n    <tr>\n      <th>38</th>\n      <td>S14026</td>\n      <td>824537</td>\n      <td>2503</td>\n    </tr>\n    <tr>\n      <th>39</th>\n      <td>S14027</td>\n      <td>714550</td>\n      <td>2303</td>\n    </tr>\n    <tr>\n      <th>40</th>\n      <td>S14028</td>\n      <td>786145</td>\n      <td>2458</td>\n    </tr>\n    <tr>\n      <th>41</th>\n      <td>S14033</td>\n      <td>725318</td>\n      <td>2282</td>\n    </tr>\n    <tr>\n      <th>42</th>\n      <td>S14034</td>\n      <td>653681</td>\n      <td>2024</td>\n    </tr>\n    <tr>\n      <th>43</th>\n      <td>S14036</td>\n      <td>203694</td>\n      <td>635</td>\n    </tr>\n    <tr>\n      <th>44</th>\n      <td>S14040</td>\n      <td>701858</td>\n      <td>2233</td>\n    </tr>\n    <tr>\n      <th>45</th>\n      <td>S14042</td>\n      <td>534689</td>\n      <td>1935</td>\n    </tr>\n    <tr>\n      <th>46</th>\n      <td>S14045</td>\n      <td>458484</td>\n      <td>1398</td>\n    </tr>\n    <tr>\n      <th>47</th>\n      <td>S14046</td>\n      <td>412646</td>\n      <td>1354</td>\n    </tr>\n    <tr>\n      <th>48</th>\n      <td>S14047</td>\n      <td>338329</td>\n      <td>1041</td>\n    </tr>\n    <tr>\n      <th>49</th>\n      <td>S14048</td>\n      <td>234276</td>\n      <td>769</td>\n    </tr>\n    <tr>\n      <th>50</th>\n      <td>S14049</td>\n      <td>230808</td>\n      <td>788</td>\n    </tr>\n    <tr>\n      <th>51</th>\n      <td>S14050</td>\n      <td>167090</td>\n      <td>580</td>\n    </tr>\n  </tbody>\n</table>\n</div>"
     },
     "execution_count": 34,
     "metadata": {},
     "output_type": "execute_result"
    }
   ],
   "source": [
    "# Use pivot table\n",
    "store_sum = df_receipt.pivot_table(\n",
    "    index='store_cd',\n",
    "    values=['amount', 'quantity'],\n",
    "    aggfunc='sum'\n",
    ").reset_index()\n",
    "store_sum"
   ],
   "metadata": {
    "collapsed": false,
    "ExecuteTime": {
     "end_time": "2024-09-06T16:15:29.573163700Z",
     "start_time": "2024-09-06T16:15:29.538913500Z"
    }
   }
  },
  {
   "cell_type": "markdown",
   "metadata": {},
   "source": [
    "---\n",
    "> P-024: For each customer ID (customer_id) in the receipt details data (df_receipt), find the most recent sales date (sales_ymd), and display the top 10 rows."
   ]
  },
  {
   "cell_type": "code",
   "execution_count": 37,
   "metadata": {
    "ExecuteTime": {
     "end_time": "2024-09-06T16:17:54.676928300Z",
     "start_time": "2024-09-06T16:17:54.628106800Z"
    }
   },
   "outputs": [
    {
     "data": {
      "text/plain": "      customer_id  sales_date\n0  CS001113000004    20190308\n1  CS001114000005    20190731\n2  CS001115000010    20190405\n3  CS001205000004    20190625\n4  CS001205000006    20190224\n5  CS001211000025    20190322\n6  CS001212000027    20170127\n7  CS001212000031    20180906\n8  CS001212000046    20170811\n9  CS001212000070    20191018",
      "text/html": "<div>\n<style scoped>\n    .dataframe tbody tr th:only-of-type {\n        vertical-align: middle;\n    }\n\n    .dataframe tbody tr th {\n        vertical-align: top;\n    }\n\n    .dataframe thead th {\n        text-align: right;\n    }\n</style>\n<table border=\"1\" class=\"dataframe\">\n  <thead>\n    <tr style=\"text-align: right;\">\n      <th></th>\n      <th>customer_id</th>\n      <th>sales_date</th>\n    </tr>\n  </thead>\n  <tbody>\n    <tr>\n      <th>0</th>\n      <td>CS001113000004</td>\n      <td>20190308</td>\n    </tr>\n    <tr>\n      <th>1</th>\n      <td>CS001114000005</td>\n      <td>20190731</td>\n    </tr>\n    <tr>\n      <th>2</th>\n      <td>CS001115000010</td>\n      <td>20190405</td>\n    </tr>\n    <tr>\n      <th>3</th>\n      <td>CS001205000004</td>\n      <td>20190625</td>\n    </tr>\n    <tr>\n      <th>4</th>\n      <td>CS001205000006</td>\n      <td>20190224</td>\n    </tr>\n    <tr>\n      <th>5</th>\n      <td>CS001211000025</td>\n      <td>20190322</td>\n    </tr>\n    <tr>\n      <th>6</th>\n      <td>CS001212000027</td>\n      <td>20170127</td>\n    </tr>\n    <tr>\n      <th>7</th>\n      <td>CS001212000031</td>\n      <td>20180906</td>\n    </tr>\n    <tr>\n      <th>8</th>\n      <td>CS001212000046</td>\n      <td>20170811</td>\n    </tr>\n    <tr>\n      <th>9</th>\n      <td>CS001212000070</td>\n      <td>20191018</td>\n    </tr>\n  </tbody>\n</table>\n</div>"
     },
     "execution_count": 37,
     "metadata": {},
     "output_type": "execute_result"
    }
   ],
   "source": [
    "df_receipt.groupby('customer_id')['sales_date'].max().head(10).reset_index()"
   ]
  },
  {
   "cell_type": "markdown",
   "metadata": {},
   "source": [
    "---\n",
    "> P-025: For each customer ID (customer_id) in the receipt details data (df_receipt), find the oldest sales date (sales_ymd), and display the top 10 rows."
   ]
  },
  {
   "cell_type": "code",
   "execution_count": 39,
   "metadata": {
    "ExecuteTime": {
     "end_time": "2024-09-06T16:20:20.653038300Z",
     "start_time": "2024-09-06T16:20:20.621831400Z"
    }
   },
   "outputs": [
    {
     "data": {
      "text/plain": "         customer_id  sales_date\n8306  ZZ000000000000    20170101\n7251  CS035414000008    20170101\n2840  CS012214000008    20170101\n6723  CS032414000119    20170101\n6712  CS032414000045    20170101\n6498  CS031414000041    20170101\n6091  CS029414000005    20170101\n6044  CS029214000004    20170101\n2095  CS008414000056    20170101\n5620  CS026515000081    20170101",
      "text/html": "<div>\n<style scoped>\n    .dataframe tbody tr th:only-of-type {\n        vertical-align: middle;\n    }\n\n    .dataframe tbody tr th {\n        vertical-align: top;\n    }\n\n    .dataframe thead th {\n        text-align: right;\n    }\n</style>\n<table border=\"1\" class=\"dataframe\">\n  <thead>\n    <tr style=\"text-align: right;\">\n      <th></th>\n      <th>customer_id</th>\n      <th>sales_date</th>\n    </tr>\n  </thead>\n  <tbody>\n    <tr>\n      <th>8306</th>\n      <td>ZZ000000000000</td>\n      <td>20170101</td>\n    </tr>\n    <tr>\n      <th>7251</th>\n      <td>CS035414000008</td>\n      <td>20170101</td>\n    </tr>\n    <tr>\n      <th>2840</th>\n      <td>CS012214000008</td>\n      <td>20170101</td>\n    </tr>\n    <tr>\n      <th>6723</th>\n      <td>CS032414000119</td>\n      <td>20170101</td>\n    </tr>\n    <tr>\n      <th>6712</th>\n      <td>CS032414000045</td>\n      <td>20170101</td>\n    </tr>\n    <tr>\n      <th>6498</th>\n      <td>CS031414000041</td>\n      <td>20170101</td>\n    </tr>\n    <tr>\n      <th>6091</th>\n      <td>CS029414000005</td>\n      <td>20170101</td>\n    </tr>\n    <tr>\n      <th>6044</th>\n      <td>CS029214000004</td>\n      <td>20170101</td>\n    </tr>\n    <tr>\n      <th>2095</th>\n      <td>CS008414000056</td>\n      <td>20170101</td>\n    </tr>\n    <tr>\n      <th>5620</th>\n      <td>CS026515000081</td>\n      <td>20170101</td>\n    </tr>\n  </tbody>\n</table>\n</div>"
     },
     "execution_count": 39,
     "metadata": {},
     "output_type": "execute_result"
    }
   ],
   "source": [
    "oldest_sales_date = df_receipt.groupby('customer_id')['sales_date'].min().reset_index()\n",
    "oldest_sales_date = oldest_sales_date.sort_values(by='sales_date')\n",
    "oldest_sales_date.head(10)"
   ]
  },
  {
   "cell_type": "markdown",
   "metadata": {},
   "source": [
    "---\n",
    "> P-026: For each customer ID (customer_id) in the receipt details data (df_receipt), find the most recent and the oldest sales dates (sales_ymd), and display the top 10 rows where the gap is the smallest."
   ]
  },
  {
   "cell_type": "code",
   "execution_count": 5,
   "metadata": {
    "ExecuteTime": {
     "end_time": "2024-09-07T04:48:41.898383200Z",
     "start_time": "2024-09-07T04:48:41.837607300Z"
    }
   },
   "outputs": [
    {
     "data": {
      "text/plain": "         customer_id                   oldest_sale  \\\n0     CS001113000004 1970-01-01 00:00:00.020190308   \n5546  CS026415000175 1970-01-01 00:00:00.020170911   \n5545  CS026415000172 1970-01-01 00:00:00.020170206   \n5544  CS026415000157 1970-01-01 00:00:00.020170305   \n5543  CS026415000154 1970-01-01 00:00:00.020170227   \n5542  CS026415000150 1970-01-01 00:00:00.020170125   \n5541  CS026415000149 1970-01-01 00:00:00.020170122   \n5540  CS026415000145 1970-01-01 00:00:00.020170905   \n5539  CS026415000141 1970-01-01 00:00:00.020170201   \n5538  CS026415000123 1970-01-01 00:00:00.020170206   \n\n                  most_recent_sale  gap_days  \n0    1970-01-01 00:00:00.020190308         0  \n5546 1970-01-01 00:00:00.020191015         0  \n5545 1970-01-01 00:00:00.020190414         0  \n5544 1970-01-01 00:00:00.020180512         0  \n5543 1970-01-01 00:00:00.020190519         0  \n5542 1970-01-01 00:00:00.020191020         0  \n5541 1970-01-01 00:00:00.020190312         0  \n5540 1970-01-01 00:00:00.020180616         0  \n5539 1970-01-01 00:00:00.020190615         0  \n5538 1970-01-01 00:00:00.020190417         0  ",
      "text/html": "<div>\n<style scoped>\n    .dataframe tbody tr th:only-of-type {\n        vertical-align: middle;\n    }\n\n    .dataframe tbody tr th {\n        vertical-align: top;\n    }\n\n    .dataframe thead th {\n        text-align: right;\n    }\n</style>\n<table border=\"1\" class=\"dataframe\">\n  <thead>\n    <tr style=\"text-align: right;\">\n      <th></th>\n      <th>customer_id</th>\n      <th>oldest_sale</th>\n      <th>most_recent_sale</th>\n      <th>gap_days</th>\n    </tr>\n  </thead>\n  <tbody>\n    <tr>\n      <th>0</th>\n      <td>CS001113000004</td>\n      <td>1970-01-01 00:00:00.020190308</td>\n      <td>1970-01-01 00:00:00.020190308</td>\n      <td>0</td>\n    </tr>\n    <tr>\n      <th>5546</th>\n      <td>CS026415000175</td>\n      <td>1970-01-01 00:00:00.020170911</td>\n      <td>1970-01-01 00:00:00.020191015</td>\n      <td>0</td>\n    </tr>\n    <tr>\n      <th>5545</th>\n      <td>CS026415000172</td>\n      <td>1970-01-01 00:00:00.020170206</td>\n      <td>1970-01-01 00:00:00.020190414</td>\n      <td>0</td>\n    </tr>\n    <tr>\n      <th>5544</th>\n      <td>CS026415000157</td>\n      <td>1970-01-01 00:00:00.020170305</td>\n      <td>1970-01-01 00:00:00.020180512</td>\n      <td>0</td>\n    </tr>\n    <tr>\n      <th>5543</th>\n      <td>CS026415000154</td>\n      <td>1970-01-01 00:00:00.020170227</td>\n      <td>1970-01-01 00:00:00.020190519</td>\n      <td>0</td>\n    </tr>\n    <tr>\n      <th>5542</th>\n      <td>CS026415000150</td>\n      <td>1970-01-01 00:00:00.020170125</td>\n      <td>1970-01-01 00:00:00.020191020</td>\n      <td>0</td>\n    </tr>\n    <tr>\n      <th>5541</th>\n      <td>CS026415000149</td>\n      <td>1970-01-01 00:00:00.020170122</td>\n      <td>1970-01-01 00:00:00.020190312</td>\n      <td>0</td>\n    </tr>\n    <tr>\n      <th>5540</th>\n      <td>CS026415000145</td>\n      <td>1970-01-01 00:00:00.020170905</td>\n      <td>1970-01-01 00:00:00.020180616</td>\n      <td>0</td>\n    </tr>\n    <tr>\n      <th>5539</th>\n      <td>CS026415000141</td>\n      <td>1970-01-01 00:00:00.020170201</td>\n      <td>1970-01-01 00:00:00.020190615</td>\n      <td>0</td>\n    </tr>\n    <tr>\n      <th>5538</th>\n      <td>CS026415000123</td>\n      <td>1970-01-01 00:00:00.020170206</td>\n      <td>1970-01-01 00:00:00.020190417</td>\n      <td>0</td>\n    </tr>\n  </tbody>\n</table>\n</div>"
     },
     "execution_count": 5,
     "metadata": {},
     "output_type": "execute_result"
    }
   ],
   "source": [
    "df_receipt['sales_ymd'] = pd.to_datetime(df_receipt['sales_ymd'])\n",
    "\n",
    "# Group by customer ID\n",
    "df_customer_sales = df_receipt.groupby('customer_id').agg(\n",
    "    oldest_sale = ('sales_ymd', 'min'),\n",
    "    most_recent_sale = ('sales_ymd', 'max')\n",
    ").reset_index()\n",
    "\n",
    "# Calculate the gap\n",
    "df_customer_sales['gap_days'] = (df_customer_sales['most_recent_sale'] - df_customer_sales['oldest_sale']).dt.days\n",
    "\n",
    "df_top_customers = df_customer_sales.sort_values(by='gap_days').head(10)\n",
    "# Display the relevant columns\n",
    "df_top_customers[['customer_id', 'oldest_sale', 'most_recent_sale', 'gap_days']]"
   ]
  },
  {
   "cell_type": "markdown",
   "metadata": {},
   "source": [
    "---\n",
    "> P-027: For each store code (store_cd) in the receipt details data (df_receipt), calculate the average sales amount (amount), and display the top 5 in descending order."
   ]
  },
  {
   "cell_type": "code",
   "execution_count": 9,
   "metadata": {
    "ExecuteTime": {
     "end_time": "2024-09-07T04:53:53.576416100Z",
     "start_time": "2024-09-07T04:53:53.544245700Z"
    }
   },
   "outputs": [
    {
     "data": {
      "text/plain": "   store_cd  average_sales\n28   S13052     402.867470\n12   S13015     351.111960\n7    S13003     350.915519\n30   S14010     348.791262\n5    S13001     348.470386",
      "text/html": "<div>\n<style scoped>\n    .dataframe tbody tr th:only-of-type {\n        vertical-align: middle;\n    }\n\n    .dataframe tbody tr th {\n        vertical-align: top;\n    }\n\n    .dataframe thead th {\n        text-align: right;\n    }\n</style>\n<table border=\"1\" class=\"dataframe\">\n  <thead>\n    <tr style=\"text-align: right;\">\n      <th></th>\n      <th>store_cd</th>\n      <th>average_sales</th>\n    </tr>\n  </thead>\n  <tbody>\n    <tr>\n      <th>28</th>\n      <td>S13052</td>\n      <td>402.867470</td>\n    </tr>\n    <tr>\n      <th>12</th>\n      <td>S13015</td>\n      <td>351.111960</td>\n    </tr>\n    <tr>\n      <th>7</th>\n      <td>S13003</td>\n      <td>350.915519</td>\n    </tr>\n    <tr>\n      <th>30</th>\n      <td>S14010</td>\n      <td>348.791262</td>\n    </tr>\n    <tr>\n      <th>5</th>\n      <td>S13001</td>\n      <td>348.470386</td>\n    </tr>\n  </tbody>\n</table>\n</div>"
     },
     "execution_count": 9,
     "metadata": {},
     "output_type": "execute_result"
    }
   ],
   "source": [
    "# Group by store_cd and calculate the average sales amount\n",
    "df_store_avg =df_receipt.groupby('store_cd').agg(\n",
    "    average_sales = ('amount', 'mean')\n",
    ").reset_index()\n",
    "\n",
    "# Sort\n",
    "df_top5_store = df_store_avg.sort_values(by='average_sales', ascending=False).head(5)\n",
    "\n",
    "df_top5_store[['store_cd', 'average_sales']]\n"
   ]
  },
  {
   "cell_type": "markdown",
   "metadata": {},
   "source": [
    "---\n",
    "> P-028: For each store code (store_cd) in the receipt details data (df_receipt), calculate the median sales amount (amount), and display the top 5 in descending order."
   ]
  },
  {
   "cell_type": "code",
   "execution_count": 11,
   "metadata": {
    "ExecuteTime": {
     "end_time": "2024-09-07T04:54:19.976468500Z",
     "start_time": "2024-09-07T04:54:19.873611300Z"
    }
   },
   "outputs": [
    {
     "data": {
      "text/plain": "   store_cd  median_sales\n28   S13052         190.0\n30   S14010         188.0\n51   S14050         185.0\n44   S14040         180.0\n7    S13003         180.0",
      "text/html": "<div>\n<style scoped>\n    .dataframe tbody tr th:only-of-type {\n        vertical-align: middle;\n    }\n\n    .dataframe tbody tr th {\n        vertical-align: top;\n    }\n\n    .dataframe thead th {\n        text-align: right;\n    }\n</style>\n<table border=\"1\" class=\"dataframe\">\n  <thead>\n    <tr style=\"text-align: right;\">\n      <th></th>\n      <th>store_cd</th>\n      <th>median_sales</th>\n    </tr>\n  </thead>\n  <tbody>\n    <tr>\n      <th>28</th>\n      <td>S13052</td>\n      <td>190.0</td>\n    </tr>\n    <tr>\n      <th>30</th>\n      <td>S14010</td>\n      <td>188.0</td>\n    </tr>\n    <tr>\n      <th>51</th>\n      <td>S14050</td>\n      <td>185.0</td>\n    </tr>\n    <tr>\n      <th>44</th>\n      <td>S14040</td>\n      <td>180.0</td>\n    </tr>\n    <tr>\n      <th>7</th>\n      <td>S13003</td>\n      <td>180.0</td>\n    </tr>\n  </tbody>\n</table>\n</div>"
     },
     "execution_count": 11,
     "metadata": {},
     "output_type": "execute_result"
    }
   ],
   "source": [
    "# Group by store_cd and calculate the average sales amount\n",
    "df_store_med =df_receipt.groupby('store_cd').agg(\n",
    "    median_sales = ('amount', 'median')\n",
    ").reset_index()\n",
    "\n",
    "# Sort\n",
    "df_top5_store = df_store_med.sort_values(by='median_sales', ascending=False).head(5)\n",
    "\n",
    "df_top5_store[['store_cd', 'median_sales']]"
   ]
  },
  {
   "cell_type": "markdown",
   "metadata": {},
   "source": [
    "---\n",
    "> P-029: For each store code (store_cd) in the receipt details data (df_receipt), find the most frequent product code (product_cd), and display the top 10."
   ]
  },
  {
   "cell_type": "code",
   "execution_count": 13,
   "metadata": {
    "ExecuteTime": {
     "end_time": "2024-09-07T04:58:08.718355700Z",
     "start_time": "2024-09-07T04:58:08.642737500Z"
    }
   },
   "outputs": [
    {
     "data": {
      "text/plain": "      store_cd  product_cd  count\n43612   S14027  P060303001    152\n35369   S14012  P060303001    142\n44757   S14028  P060303001    140\n4977    S12030  P060303001    115\n21302   S13031  P060303001    115\n1446    S12013  P060303001    107\n30357   S13044  P060303001     96\n39994   S14024  P060303001     96\n3765    S12029  P060303001     92\n9564    S13004  P060303001     88",
      "text/html": "<div>\n<style scoped>\n    .dataframe tbody tr th:only-of-type {\n        vertical-align: middle;\n    }\n\n    .dataframe tbody tr th {\n        vertical-align: top;\n    }\n\n    .dataframe thead th {\n        text-align: right;\n    }\n</style>\n<table border=\"1\" class=\"dataframe\">\n  <thead>\n    <tr style=\"text-align: right;\">\n      <th></th>\n      <th>store_cd</th>\n      <th>product_cd</th>\n      <th>count</th>\n    </tr>\n  </thead>\n  <tbody>\n    <tr>\n      <th>43612</th>\n      <td>S14027</td>\n      <td>P060303001</td>\n      <td>152</td>\n    </tr>\n    <tr>\n      <th>35369</th>\n      <td>S14012</td>\n      <td>P060303001</td>\n      <td>142</td>\n    </tr>\n    <tr>\n      <th>44757</th>\n      <td>S14028</td>\n      <td>P060303001</td>\n      <td>140</td>\n    </tr>\n    <tr>\n      <th>4977</th>\n      <td>S12030</td>\n      <td>P060303001</td>\n      <td>115</td>\n    </tr>\n    <tr>\n      <th>21302</th>\n      <td>S13031</td>\n      <td>P060303001</td>\n      <td>115</td>\n    </tr>\n    <tr>\n      <th>1446</th>\n      <td>S12013</td>\n      <td>P060303001</td>\n      <td>107</td>\n    </tr>\n    <tr>\n      <th>30357</th>\n      <td>S13044</td>\n      <td>P060303001</td>\n      <td>96</td>\n    </tr>\n    <tr>\n      <th>39994</th>\n      <td>S14024</td>\n      <td>P060303001</td>\n      <td>96</td>\n    </tr>\n    <tr>\n      <th>3765</th>\n      <td>S12029</td>\n      <td>P060303001</td>\n      <td>92</td>\n    </tr>\n    <tr>\n      <th>9564</th>\n      <td>S13004</td>\n      <td>P060303001</td>\n      <td>88</td>\n    </tr>\n  </tbody>\n</table>\n</div>"
     },
     "execution_count": 13,
     "metadata": {},
     "output_type": "execute_result"
    }
   ],
   "source": [
    "# Group by store_cd and product_cd\n",
    "df_product_count = df_receipt.groupby(['store_cd', 'product_cd']).size().reset_index(name='count')\n",
    "\n",
    "# For each store, find the most frequent product\n",
    "df_most_frequent = df_product_count.loc[df_product_count.groupby('store_cd')['count'].idxmax()] # Select the row maximum count for each store_cd\n",
    "\n",
    "# Sort the result in ascending and get the top 10\n",
    "df_top_products = df_most_frequent.sort_values(by='count', ascending=False).head(10)\n",
    "\n",
    "# Display \n",
    "df_top_products[['store_cd', 'product_cd', 'count']]"
   ]
  },
  {
   "cell_type": "markdown",
   "metadata": {},
   "source": [
    "---\n",
    "> P-030: For each store code (store_cd) in the receipt details data (df_receipt), calculate the variance of the sales amount (amount), and display the top 5 in descending order."
   ]
  },
  {
   "cell_type": "code",
   "execution_count": 15,
   "outputs": [
    {
     "data": {
      "text/plain": "   store_cd  sales_variance\n28   S13052   441863.252526\n31   S14011   306442.242432\n42   S14034   297068.392740\n5    S13001   295558.842618\n12   S13015   295427.197086",
      "text/html": "<div>\n<style scoped>\n    .dataframe tbody tr th:only-of-type {\n        vertical-align: middle;\n    }\n\n    .dataframe tbody tr th {\n        vertical-align: top;\n    }\n\n    .dataframe thead th {\n        text-align: right;\n    }\n</style>\n<table border=\"1\" class=\"dataframe\">\n  <thead>\n    <tr style=\"text-align: right;\">\n      <th></th>\n      <th>store_cd</th>\n      <th>sales_variance</th>\n    </tr>\n  </thead>\n  <tbody>\n    <tr>\n      <th>28</th>\n      <td>S13052</td>\n      <td>441863.252526</td>\n    </tr>\n    <tr>\n      <th>31</th>\n      <td>S14011</td>\n      <td>306442.242432</td>\n    </tr>\n    <tr>\n      <th>42</th>\n      <td>S14034</td>\n      <td>297068.392740</td>\n    </tr>\n    <tr>\n      <th>5</th>\n      <td>S13001</td>\n      <td>295558.842618</td>\n    </tr>\n    <tr>\n      <th>12</th>\n      <td>S13015</td>\n      <td>295427.197086</td>\n    </tr>\n  </tbody>\n</table>\n</div>"
     },
     "execution_count": 15,
     "metadata": {},
     "output_type": "execute_result"
    }
   ],
   "source": [
    "df_sales_var = df_receipt.groupby('store_cd').agg(\n",
    "    sales_variance = ('amount', 'var')\n",
    ").reset_index()\n",
    "\n",
    "# Sort\n",
    "df_sales_var = df_sales_var.sort_values(by='sales_variance', ascending=False).head(5)\n",
    "\n",
    "df_sales_var"
   ],
   "metadata": {
    "collapsed": false,
    "ExecuteTime": {
     "end_time": "2024-09-07T05:02:04.783688100Z",
     "start_time": "2024-09-07T05:02:04.750239200Z"
    }
   }
  },
  {
   "cell_type": "markdown",
   "metadata": {},
   "source": [
    "---\n",
    "> P-031: For each store code (store_cd) in the receipt details data (df_receipt), calculate the standard deviation of the sales amount (amount), and display the top 5 in descending order."
   ]
  },
  {
   "cell_type": "markdown",
   "metadata": {},
   "source": [
    "TIPS:\n",
    "\n",
    "Pay attention to the default ddof value difference between Pandas and Numpy.\n",
    "```\n",
    "Pandas：\n",
    "DataFrame.std(self, axis=None, skipna=None, level=None, ddof=1, numeric_only=None, **kwargs)\n",
    "Numpy:\n",
    "numpy.std(a, axis=None, dtype=None, out=None, ddof=0, keepdims=)|\n",
    "```"
   ]
  },
  {
   "cell_type": "code",
   "execution_count": null,
   "metadata": {
    "ExecuteTime": {
     "start_time": "2024-09-06T16:04:01.736319400Z"
    }
   },
   "outputs": [],
   "source": []
  },
  {
   "cell_type": "markdown",
   "metadata": {},
   "source": [
    "---\n",
    "> P-032: For the sales amount (amount) in the receipt details data (df_receipt), calculate the 25th and 75th percentile values."
   ]
  },
  {
   "cell_type": "code",
   "execution_count": null,
   "metadata": {
    "ExecuteTime": {
     "start_time": "2024-09-06T16:04:01.737319500Z"
    }
   },
   "outputs": [],
   "source": []
  },
  {
   "cell_type": "markdown",
   "metadata": {},
   "source": [
    "---\n",
    "> P-033: For the receipt details data (df_receipt), calculate the average sales amount (amount) for each store code (store_cd), and extract those that are 330 or more."
   ]
  },
  {
   "cell_type": "code",
   "execution_count": null,
   "metadata": {
    "ExecuteTime": {
     "start_time": "2024-09-06T16:04:01.739321700Z"
    }
   },
   "outputs": [],
   "source": []
  },
  {
   "cell_type": "markdown",
   "metadata": {},
   "source": [
    "---\n",
    "> P-034: For the receipt details data (df_receipt), calculate the average sales amount (amount) per customer ID (customer_id), and exclude the average sales amount per customer whose ID starts with \"Z\" from the overall average calculation."
   ]
  },
  {
   "cell_type": "code",
   "execution_count": null,
   "metadata": {
    "ExecuteTime": {
     "start_time": "2024-09-06T16:04:01.740319900Z"
    }
   },
   "outputs": [],
   "source": []
  },
  {
   "cell_type": "markdown",
   "metadata": {},
   "source": [
    "---\n",
    "> P-035: For the receipt details data (df_receipt), calculate the average sales amount (amount) per customer ID (customer_id), and extract the top 10 customers with above-average sales amounts. Exclude the average sales amount per customer whose ID starts with \"Z\" from the overall average calculation."
   ]
  },
  {
   "cell_type": "code",
   "execution_count": null,
   "metadata": {
    "ExecuteTime": {
     "start_time": "2024-09-06T16:04:01.741319100Z"
    }
   },
   "outputs": [],
   "source": []
  },
  {
   "cell_type": "markdown",
   "metadata": {},
   "source": [
    "---\n",
    "> P-036: Merge the receipt details data (df_receipt) and the store data (df_store), and display 10 rows of all items, including the store name (store_name) from the store data."
   ]
  },
  {
   "cell_type": "code",
   "execution_count": null,
   "metadata": {
    "ExecuteTime": {
     "start_time": "2024-09-06T16:04:01.742319400Z"
    }
   },
   "outputs": [],
   "source": []
  },
  {
   "cell_type": "markdown",
   "metadata": {},
   "source": [
    "---\n",
    "> P-037: Merge the product data (df_product) and the category data (df_category), and display 10 rows of all items, including the category small name (category_small_name) from the category data."
   ]
  },
  {
   "cell_type": "code",
   "execution_count": null,
   "metadata": {
    "ExecuteTime": {
     "start_time": "2024-09-06T16:04:01.743319500Z"
    }
   },
   "outputs": [],
   "source": []
  },
  {
   "cell_type": "markdown",
   "metadata": {},
   "source": [
    "---\n",
    "> P-038: From the customer data (df_customer) and the receipt details data (df_receipt), calculate the total sales amount for each customer and display the top 10. However, exclude customers without sales data and only display female customers (gender code (gender_cd) = 1)."
   ]
  },
  {
   "cell_type": "code",
   "execution_count": null,
   "metadata": {
    "ExecuteTime": {
     "start_time": "2024-09-06T16:04:01.744319600Z"
    }
   },
   "outputs": [],
   "source": []
  },
  {
   "cell_type": "markdown",
   "metadata": {},
   "source": [
    "---\n",
    "> P-039: From the receipt details data (df_receipt), create a dataset of the top 20 customers with the highest number of sales transactions and another dataset of the top 20 customers with the highest total sales amount, then merge these two datasets to display the top 20. Exclude non-members (customer ID (customer_id) starting with \"Z\")."
   ]
  },
  {
   "cell_type": "code",
   "execution_count": null,
   "metadata": {
    "ExecuteTime": {
     "start_time": "2024-09-06T16:04:01.746319Z"
    }
   },
   "outputs": [],
   "source": []
  },
  {
   "cell_type": "markdown",
   "metadata": {},
   "source": [
    "---\n",
    "> P-040: Create a dataset combining all products from all stores, and merge it with the store data (df_store) and product data (df_product)."
   ]
  },
  {
   "cell_type": "code",
   "execution_count": null,
   "metadata": {
    "ExecuteTime": {
     "start_time": "2024-09-06T16:04:01.747323200Z"
    }
   },
   "outputs": [],
   "source": []
  },
  {
   "cell_type": "markdown",
   "metadata": {},
   "source": [
    "---\n",
    "> P-041: For the sales amount (amount) in the receipt details data (df_receipt), calculate the difference in sales amount for each sales date (sales_ymd) compared to the previous day, then display the top 10 results."
   ]
  },
  {
   "cell_type": "code",
   "execution_count": null,
   "metadata": {
    "ExecuteTime": {
     "start_time": "2024-09-06T16:04:01.748324700Z"
    }
   },
   "outputs": [],
   "source": []
  },
  {
   "cell_type": "markdown",
   "metadata": {},
   "source": [
    "---\n",
    "> P-042: For the sales amount (amount) in the receipt details data (df_receipt), calculate the difference in sales amount for each sales date (sales_ymd) compared to the previous day, two days before, and three days before, then display the top 10 results."
   ]
  },
  {
   "cell_type": "code",
   "execution_count": null,
   "metadata": {
    "ExecuteTime": {
     "start_time": "2024-09-06T16:04:01.749323200Z"
    }
   },
   "outputs": [],
   "source": []
  },
  {
   "cell_type": "markdown",
   "metadata": {},
   "source": [
    "---\n",
    "> P-043: Merge the receipt details data (df_receipt) and customer data (df_customer), and create a summary dataset of total sales amount (amount) by gender code (gender_cd) and age group. Gender code 0 indicates male, 1 indicates female, and 9 indicates unknown. Display the total sales amount for each gender and age group, as well as a crosstabulation of gender and age group. Also, display the top 10 rows."
   ]
  },
  {
   "cell_type": "code",
   "execution_count": null,
   "metadata": {
    "ExecuteTime": {
     "start_time": "2024-09-06T16:04:01.751323100Z"
    }
   },
   "outputs": [],
   "source": []
  },
  {
   "cell_type": "markdown",
   "metadata": {},
   "source": [
    "---\n",
    "> P-044: The summary dataset created in P-043 (df_sales_summary) shows the total sales amount by gender and age group. Change the gender code values to \"00\" for male, \"01\" for female, and \"99\" for unknown, then display the top 10 rows."
   ]
  },
  {
   "cell_type": "code",
   "execution_count": null,
   "metadata": {
    "ExecuteTime": {
     "start_time": "2024-09-06T16:04:01.752323500Z"
    }
   },
   "outputs": [],
   "source": []
  },
  {
   "cell_type": "markdown",
   "metadata": {},
   "source": [
    "---\n",
    "> P-045: The birth date (birth_day) in the customer data (df_customer) is stored as date type data. Convert this to a string in the format YYYYMMDD and display it along with the customer ID (customer_id), showing the top 10 rows."
   ]
  },
  {
   "cell_type": "code",
   "execution_count": null,
   "metadata": {
    "ExecuteTime": {
     "start_time": "2024-09-06T16:04:01.753323100Z"
    }
   },
   "outputs": [],
   "source": []
  },
  {
   "cell_type": "markdown",
   "metadata": {},
   "source": [
    "---\n",
    "> P-046: The application date (application_date) in the customer data (df_customer) is stored as a string in the format YYYYMMDD. Convert this to date type data and display it along with the customer ID (customer_id), showing the top 10 rows."
   ]
  },
  {
   "cell_type": "code",
   "execution_count": null,
   "metadata": {
    "ExecuteTime": {
     "start_time": "2024-09-06T16:04:01.754323400Z"
    }
   },
   "outputs": [],
   "source": []
  },
  {
   "cell_type": "markdown",
   "metadata": {},
   "source": [
    "---\n",
    "> P-047: The sales date (sales_ymd) in the receipt details data (df_receipt) is stored as an integer in the format YYYYMMDD. Convert this to date type data and display it along with the receipt number (receipt_no) and receipt sub-number (receipt_sub_no), showing the top 10 rows."
   ]
  },
  {
   "cell_type": "code",
   "execution_count": null,
   "metadata": {
    "ExecuteTime": {
     "start_time": "2024-09-06T16:04:01.756324200Z"
    }
   },
   "outputs": [],
   "source": []
  },
  {
   "cell_type": "markdown",
   "metadata": {},
   "source": [
    "---\n",
    "> P-048: The sales epoch (sales_epoch) in the receipt details data (df_receipt) is stored as integer UNIX seconds. Convert this to date type data and display it along with the receipt number (receipt_no) and receipt sub-number (receipt_sub_no), showing the top 10 rows."
   ]
  },
  {
   "cell_type": "code",
   "execution_count": null,
   "metadata": {
    "ExecuteTime": {
     "start_time": "2024-09-06T16:04:01.757324900Z"
    }
   },
   "outputs": [],
   "source": []
  },
  {
   "cell_type": "markdown",
   "metadata": {},
   "source": [
    "---\n",
    "> P-049: Convert the sales epoch (sales_epoch) in the receipt details data (df_receipt) to date type data and extract only the \"year\". Display this along with the receipt number (receipt_no) and receipt sub-number (receipt_sub_no), showing the top 10 rows."
   ]
  },
  {
   "cell_type": "code",
   "execution_count": null,
   "metadata": {
    "ExecuteTime": {
     "start_time": "2024-09-06T16:04:01.758323400Z"
    }
   },
   "outputs": [],
   "source": []
  },
  {
   "cell_type": "markdown",
   "metadata": {},
   "source": [
    "---\n",
    "> P-050: Convert the sales epoch (sales_epoch) in the receipt details data (df_receipt) to date type data and extract only the \"month\". Display this along with the receipt number (receipt_no) and receipt sub-number (receipt_sub_no), showing the top 10 rows. Note that \"month\" should be extracted as a 2-digit number."
   ]
  },
  {
   "cell_type": "code",
   "execution_count": null,
   "metadata": {
    "ExecuteTime": {
     "start_time": "2024-09-06T16:04:01.758323400Z"
    }
   },
   "outputs": [],
   "source": []
  },
  {
   "cell_type": "markdown",
   "metadata": {},
   "source": [
    "---\n",
    "> P-051: Convert the sales epoch (sales_epoch) in the receipt details data (df_receipt) to date type data and extract only the \"day\". Display this along with the receipt number (receipt_no) and receipt sub-number (receipt_sub_no), showing the top 10 rows. Note that \"day\" should be extracted as a 2-digit number."
   ]
  },
  {
   "cell_type": "code",
   "execution_count": null,
   "metadata": {
    "ExecuteTime": {
     "start_time": "2024-09-06T16:04:01.760323800Z"
    }
   },
   "outputs": [],
   "source": []
  },
  {
   "cell_type": "markdown",
   "metadata": {},
   "source": [
    "---\n",
    "> P-052: For the receipt details data (df_receipt), calculate the total sales amount (amount) for each customer ID (customer_id). If the total is 2,000 yen or less, double the amount; if it is more than 2,000 yen, halve the amount. Display the customer ID and the calculated sales amount, showing the top 10 rows. Exclude customers whose ID starts with \"Z\"."
   ]
  },
  {
   "cell_type": "code",
   "execution_count": null,
   "metadata": {
    "ExecuteTime": {
     "start_time": "2024-09-06T16:04:01.761827Z"
    }
   },
   "outputs": [],
   "source": []
  },
  {
   "cell_type": "markdown",
   "metadata": {},
   "source": [
    "---\n",
    "> P-053: For the customer data (df_customer), reclassify the postal code (postal_cd) into two categories: \"Tokyo\" (if the first three digits are between 100 and 209) and \"Other\". Merge this with the receipt details data (df_receipt) and count the number of customers with sales records within each category."
   ]
  },
  {
   "cell_type": "code",
   "execution_count": null,
   "metadata": {
    "ExecuteTime": {
     "start_time": "2024-09-06T16:04:01.762831100Z"
    }
   },
   "outputs": [],
   "source": []
  },
  {
   "cell_type": "markdown",
   "metadata": {},
   "source": [
    "---\n",
    "> P-054: The address (address) in the customer data (df_customer) contains prefectures such as Saitama, Chiba, Tokyo, and Kanagawa. Create a code table for these prefectures and display it along with the customer ID and address, showing the top 10 rows. Assign Saitama a code of 11, Chiba 12, Tokyo 13, and Kanagawa 14."
   ]
  },
  {
   "cell_type": "code",
   "execution_count": null,
   "metadata": {
    "ExecuteTime": {
     "start_time": "2024-09-06T16:04:01.763831100Z"
    }
   },
   "outputs": [],
   "source": []
  },
  {
   "cell_type": "markdown",
   "metadata": {},
   "source": [
    "---\n",
    "> P-055: For the receipt details data (df_receipt), calculate the total sales amount (amount) for each customer ID (customer_id) and determine its quartile rank. Based on the quartile rank, create a category with the following values and display the customer ID and total sales amount, showing the top 10 rows:\n",
    "> - 1: Bottom quartile (0-25%)\n",
    "> - 2: Second quartile (25-50%)\n",
    "> - 3: Third quartile (50-75%)\n",
    "> - 4: Top quartile (75-100%)"
   ]
  },
  {
   "cell_type": "code",
   "execution_count": null,
   "metadata": {
    "ExecuteTime": {
     "start_time": "2024-09-06T16:04:01.764831500Z"
    }
   },
   "outputs": [],
   "source": []
  },
  {
   "cell_type": "markdown",
   "metadata": {},
   "source": [
    "---\n",
    "> P-056: Extract the age (age) from the customer data (df_customer) and classify it into age groups by decade. Display the customer ID and birth date (birth_day), showing the top 10 rows. Treat customers aged 60 and above as a single category of \"60+\". The age category should be labeled."
   ]
  },
  {
   "cell_type": "code",
   "execution_count": null,
   "metadata": {
    "ExecuteTime": {
     "start_time": "2024-09-06T16:04:01.765832700Z"
    }
   },
   "outputs": [],
   "source": []
  },
  {
   "cell_type": "markdown",
   "metadata": {},
   "source": [
    "---\n",
    "> P-057: Using the extracted age groups and gender code (gender_cd) from P-056, create a new categorical dataset representing the combination of age group and gender. Display the top 10 rows and list the unique values of the combined category."
   ]
  },
  {
   "cell_type": "code",
   "execution_count": null,
   "metadata": {
    "ExecuteTime": {
     "start_time": "2024-09-06T16:04:01.766831700Z"
    }
   },
   "outputs": [],
   "source": []
  },
  {
   "cell_type": "markdown",
   "metadata": {},
   "source": [
    "---\n",
    "> P-058: P-058: Convert the gender code (gender_cd) in the customer data (df_customer) to dummy variables and display it along with the customer ID (customer_id), showing the top 10 rows."
   ]
  },
  {
   "cell_type": "code",
   "execution_count": null,
   "metadata": {
    "ExecuteTime": {
     "start_time": "2024-09-06T16:04:01.768831700Z"
    }
   },
   "outputs": [],
   "source": []
  },
  {
   "cell_type": "markdown",
   "metadata": {},
   "source": [
    "---\n",
    "> P-059: For the receipt details data (df_receipt), calculate the average, standard deviation, and coefficient of variation of the total sales amount (amount) for each customer ID (customer_id), and display the top 10 rows along with the customer ID and total sales amount. Use either the population standard deviation or the sample standard deviation. Exclude customers whose ID starts with \"Z\"."
   ]
  },
  {
   "cell_type": "markdown",
   "metadata": {},
   "source": [
    "TIPS:\n",
    "- You can specify \"python\" or \"numexpr\" as the query engine in the argument of the query() method. The default is \"numexpr\" if installed, otherwise \"python\" is used. Additionally, the string method engine='python' cannot be used within query().\n"
   ]
  },
  {
   "cell_type": "code",
   "execution_count": null,
   "metadata": {
    "ExecuteTime": {
     "start_time": "2024-09-06T16:04:01.770831900Z"
    }
   },
   "outputs": [],
   "source": []
  },
  {
   "cell_type": "markdown",
   "metadata": {},
   "source": [
    "---\n",
    "> P-060: For the receipt details data (df_receipt), calculate the minimum and maximum total sales amount (amount) for each customer ID (customer_id), and normalize these values. Display the top 10 rows along with the customer ID and total sales amount. Exclude customers whose ID starts with \"Z\"."
   ]
  },
  {
   "cell_type": "code",
   "execution_count": null,
   "metadata": {
    "ExecuteTime": {
     "start_time": "2024-09-06T16:04:01.772831500Z"
    }
   },
   "outputs": [],
   "source": []
  },
  {
   "cell_type": "markdown",
   "metadata": {},
   "source": [
    "---\n",
    "> P-061: For the receipt details data (df_receipt), calculate the total sales amount (amount) for each customer ID (customer_id), and apply the natural logarithm transformation (base 10). Display the top 10 rows along with the customer ID and total sales amount. Exclude customers whose ID starts with \"Z\"."
   ]
  },
  {
   "cell_type": "code",
   "execution_count": null,
   "metadata": {
    "ExecuteTime": {
     "start_time": "2024-09-06T16:04:01.774833500Z"
    }
   },
   "outputs": [],
   "source": []
  },
  {
   "cell_type": "markdown",
   "metadata": {},
   "source": [
    "---\n",
    "> P-062: For the receipt details data (df_receipt), calculate the total sales amount (amount) for each customer ID (customer_id), and apply the natural logarithm transformation (base e). Display the top 10 rows along with the customer ID and total sales amount. Exclude customers whose ID starts with \"Z\"."
   ]
  },
  {
   "cell_type": "code",
   "execution_count": null,
   "metadata": {
    "ExecuteTime": {
     "start_time": "2024-09-06T16:04:01.776832900Z"
    }
   },
   "outputs": [],
   "source": []
  },
  {
   "cell_type": "markdown",
   "metadata": {},
   "source": [
    "---\n",
    "> P-063: For the product data (df_product), calculate the gross profit for each product using the unit price (unit_price) and unit cost (unit_cost), and display the top 10 rows."
   ]
  },
  {
   "cell_type": "code",
   "execution_count": null,
   "metadata": {
    "ExecuteTime": {
     "start_time": "2024-09-06T16:04:01.778832200Z"
    }
   },
   "outputs": [],
   "source": []
  },
  {
   "cell_type": "markdown",
   "metadata": {},
   "source": [
    "---\n",
    "> P-064: For each product in the product data (df_product), calculate the average gross profit margin using the unit price (unit_price) and unit cost (unit_cost). Note that the unit price and unit cost may have missing values."
   ]
  },
  {
   "cell_type": "code",
   "execution_count": null,
   "metadata": {
    "ExecuteTime": {
     "start_time": "2024-09-06T16:04:01.779831800Z"
    }
   },
   "outputs": [],
   "source": []
  },
  {
   "cell_type": "markdown",
   "metadata": {},
   "source": [
    "---\n",
    "> P-065: For each product in the product data (df_product), calculate the new unit price that achieves a gross profit margin of 30%. Round down to the nearest yen. Display the top 10 results and confirm that the gross profit margin is approximately 30%. Note that the unit price (unit_price) and unit cost (unit_cost) may have missing values."
   ]
  },
  {
   "cell_type": "code",
   "execution_count": null,
   "metadata": {
    "ExecuteTime": {
     "start_time": "2024-09-06T16:04:01.781831700Z"
    }
   },
   "outputs": [],
   "source": []
  },
  {
   "cell_type": "markdown",
   "metadata": {},
   "source": [
    "---\n",
    "> P-066: For each product in the product data (df_product), calculate the new unit price that achieves a gross profit margin of 30%. This time, round up to the nearest yen (ceil). Display the top 10 results and confirm that the gross profit margin is approximately 30%. Note that the unit price (unit_price) and unit cost (unit_cost) may have missing values."
   ]
  },
  {
   "cell_type": "code",
   "execution_count": null,
   "metadata": {
    "ExecuteTime": {
     "start_time": "2024-09-06T16:04:01.782831400Z"
    }
   },
   "outputs": [],
   "source": []
  },
  {
   "cell_type": "markdown",
   "metadata": {},
   "source": [
    "---\n",
    "> P-067: For each product in the product data (df_product), calculate the new unit price that achieves a gross profit margin of 30%. This time, round up to the nearest yen. Display the top 10 results and confirm that the gross profit margin is approximately 30%. Note that the unit price (unit_price) and unit cost (unit_cost) may have missing values."
   ]
  },
  {
   "cell_type": "code",
   "execution_count": null,
   "metadata": {
    "ExecuteTime": {
     "start_time": "2024-09-06T16:04:01.784831900Z"
    }
   },
   "outputs": [],
   "source": []
  },
  {
   "cell_type": "markdown",
   "metadata": {},
   "source": [
    "---\n",
    "> P-068: For each product in the product data (df_product), calculate the price including a 10% consumption tax. Round down to the nearest yen and display the top 10 results. Note that the unit price (unit_price) may have missing values."
   ]
  },
  {
   "cell_type": "code",
   "execution_count": null,
   "metadata": {
    "ExecuteTime": {
     "start_time": "2024-09-06T16:04:01.786831300Z"
    }
   },
   "outputs": [],
   "source": []
  },
  {
   "cell_type": "markdown",
   "metadata": {},
   "source": [
    "---\n",
    "> P-069: Merge the receipt details data (df_receipt) and the product data (df_product), then calculate the total sales amount for each customer annually. Calculate the percentage of sales for the category major code (category_major_cd) \"07\" (Household appliances) and display the top 10 results. The extraction target is the category major code \"07\"."
   ]
  },
  {
   "cell_type": "code",
   "execution_count": null,
   "metadata": {
    "ExecuteTime": {
     "start_time": "2024-09-06T16:04:01.787831600Z"
    }
   },
   "outputs": [],
   "source": []
  },
  {
   "cell_type": "markdown",
   "metadata": {},
   "source": [
    "---\n",
    "> P-070: For the receipt details data (df_receipt), calculate the number of elapsed days from the application date (application_date) of the customer data (df_customer) for each sales date (sales_ymd). Display the customer ID (customer_id), sales date, and elapsed days along with the application date, showing the top 10 rows. Note that the application date is stored as a string."
   ]
  },
  {
   "cell_type": "code",
   "execution_count": null,
   "metadata": {
    "ExecuteTime": {
     "start_time": "2024-09-06T16:04:01.789831500Z"
    }
   },
   "outputs": [],
   "source": []
  },
  {
   "cell_type": "markdown",
   "metadata": {},
   "source": [
    "---\n",
    "> P-071: For the receipt details data (df_receipt), calculate the number of elapsed months from the application date (application_date) in the customer data (df_customer) for each sales date (sales_ymd). Display the customer ID (customer_id), sales date, application date, and elapsed months along with the top 10 rows. Note that sales_ymd is stored as an integer."
   ]
  },
  {
   "cell_type": "code",
   "execution_count": null,
   "metadata": {
    "ExecuteTime": {
     "start_time": "2024-09-06T16:04:01.790831600Z"
    }
   },
   "outputs": [],
   "source": []
  },
  {
   "cell_type": "markdown",
   "metadata": {},
   "source": [
    "---\n",
    "> P-072: For the receipt details data (df_receipt), calculate the number of elapsed years from the application date (application_date) in the customer data (df_customer) for each sales date (sales_ymd). Display the customer ID (customer_id), sales date, application date, and elapsed years along with the top 10 rows. Note that sales_ymd is stored as an integer."
   ]
  },
  {
   "cell_type": "code",
   "execution_count": null,
   "metadata": {
    "ExecuteTime": {
     "start_time": "2024-09-06T16:04:01.791833300Z"
    }
   },
   "outputs": [],
   "source": []
  },
  {
   "cell_type": "markdown",
   "metadata": {},
   "source": [
    "---\n",
    "> P-073: For the receipt details data (df_receipt), calculate the elapsed time in epochs from the application date (application_date) in the customer data (df_customer) for each sales date (sales_ymd). Display the customer ID (customer_id), sales date, application date, and elapsed time in epochs along with the top 10 rows. Note that sales_ymd and application_date are stored as integers. Also, assume that the default time for dates without a time component is 00:00:00."
   ]
  },
  {
   "cell_type": "code",
   "execution_count": null,
   "metadata": {
    "ExecuteTime": {
     "start_time": "2024-09-06T16:04:01.793833700Z"
    }
   },
   "outputs": [],
   "source": []
  },
  {
   "cell_type": "markdown",
   "metadata": {},
   "source": [
    "---\n",
    "> P-074: For the receipt details data (df_receipt), calculate the number of elapsed months from the current month to each sales date (sales_ymd). Display the sales date, current month, and elapsed months along with the top 10 rows. Note that sales_ymd is stored as an integer."
   ]
  },
  {
   "cell_type": "code",
   "execution_count": null,
   "metadata": {
    "ExecuteTime": {
     "start_time": "2024-09-06T16:04:01.794834300Z"
    }
   },
   "outputs": [],
   "source": []
  },
  {
   "cell_type": "markdown",
   "metadata": {},
   "source": [
    "---\n",
    "> P-075: Randomly sample 1% of the data from the customer data (df_customer) and display the top 10 rows."
   ]
  },
  {
   "cell_type": "code",
   "execution_count": null,
   "metadata": {
    "ExecuteTime": {
     "start_time": "2024-09-06T16:04:01.795832600Z"
    }
   },
   "outputs": [],
   "source": []
  },
  {
   "cell_type": "markdown",
   "metadata": {},
   "source": [
    "---\n",
    "> P-076: Randomly sample 10% of the data from the customer data (df_customer) by gender (gender_cd), and display the frequency count for each gender."
   ]
  },
  {
   "cell_type": "code",
   "execution_count": null,
   "metadata": {
    "ExecuteTime": {
     "start_time": "2024-09-06T16:04:01.795832600Z"
    }
   },
   "outputs": [],
   "source": []
  },
  {
   "cell_type": "markdown",
   "metadata": {},
   "source": [
    "---\n",
    "> P-077: For the receipt details data (df_receipt), calculate the sales amount per transaction, identify and extract outliers, and calculate the average and standard deviation for the remaining transactions. Consider values that are more than 3 standard deviations away from the average as outliers. Display the results and the top 10 rows."
   ]
  },
  {
   "cell_type": "code",
   "execution_count": null,
   "metadata": {
    "ExecuteTime": {
     "start_time": "2024-09-06T16:04:01.796832600Z"
    }
   },
   "outputs": [],
   "source": []
  },
  {
   "cell_type": "markdown",
   "metadata": {},
   "source": [
    "---\n",
    "> P-078: For the receipt details data (df_receipt), calculate the sales amount (amount) per transaction and identify outliers. Exclude non-members whose customer ID starts with \"Z\" from the calculation. Use the IQR method to identify outliers, defined as values greater than Q3 + 1.5 * IQR or less than Q1 - 1.5 * IQR. Display the results and the top 10 rows."
   ]
  },
  {
   "cell_type": "code",
   "execution_count": null,
   "metadata": {
    "ExecuteTime": {
     "start_time": "2024-09-06T16:04:01.797832100Z"
    }
   },
   "outputs": [],
   "source": []
  },
  {
   "cell_type": "markdown",
   "metadata": {},
   "source": [
    "---\n",
    "> P-079: For the product data (df_product), check for missing values in each item."
   ]
  },
  {
   "cell_type": "code",
   "execution_count": null,
   "metadata": {
    "ExecuteTime": {
     "start_time": "2024-09-06T16:04:01.798832100Z"
    }
   },
   "outputs": [],
   "source": []
  },
  {
   "cell_type": "markdown",
   "metadata": {},
   "source": [
    "---\n",
    "> P-080: For the product data (df_product), create a new dataset by removing records with missing values in any of the items. Confirm that there are no missing values left by verifying the count of records before and after the operation performed in P-079."
   ]
  },
  {
   "cell_type": "code",
   "execution_count": null,
   "metadata": {
    "ExecuteTime": {
     "start_time": "2024-09-06T16:04:01.799832100Z"
    }
   },
   "outputs": [],
   "source": []
  },
  {
   "cell_type": "markdown",
   "metadata": {},
   "source": [
    "---\n",
    "> P-081: For the product data (df_product), impute missing values in unit price (unit_price) and unit cost (unit_cost) with their respective means, and create a new dataset. Round up the means to the nearest yen if necessary. After imputation, confirm that there are no missing values in any of the items."
   ]
  },
  {
   "cell_type": "code",
   "execution_count": null,
   "metadata": {
    "ExecuteTime": {
     "start_time": "2024-09-06T16:04:01.799832100Z"
    }
   },
   "outputs": [],
   "source": []
  },
  {
   "cell_type": "markdown",
   "metadata": {
    "tags": []
   },
   "source": [
    "---\n",
    "> P-082: For the product data (df_product), impute missing values in unit price (unit_price) and unit cost (unit_cost) with their respective medians, and create a new dataset. Round up the medians to the nearest yen if necessary. After imputation, confirm that there are no missing values in any of the items."
   ]
  },
  {
   "cell_type": "code",
   "execution_count": null,
   "metadata": {
    "ExecuteTime": {
     "start_time": "2024-09-06T16:04:01.800831700Z"
    }
   },
   "outputs": [],
   "source": []
  },
  {
   "cell_type": "markdown",
   "metadata": {},
   "source": [
    "---\n",
    "> P-083: For the product data (df_product), impute missing values in unit price (unit_price) and unit cost (unit_cost) by the median of each product's category small code (category_small_cd), and create a new dataset. Round up the medians to the nearest yen if necessary. After imputation, confirm that there are no missing values in any of the items."
   ]
  },
  {
   "cell_type": "code",
   "execution_count": null,
   "metadata": {
    "ExecuteTime": {
     "start_time": "2024-09-06T16:04:01.801832700Z"
    }
   },
   "outputs": [],
   "source": []
  },
  {
   "cell_type": "markdown",
   "metadata": {},
   "source": [
    "---\n",
    "> P-084: For the customer data (df_customer), calculate the total sales amount by occupation and the proportion of sales in 2019. Create a new dataset with these values, assuming no sales information exists if data is missing. Extract the proportion of sales and display the top 10 rows. Additionally, check for any missing values in the newly created data."
   ]
  },
  {
   "cell_type": "code",
   "execution_count": null,
   "metadata": {
    "ExecuteTime": {
     "start_time": "2024-09-06T16:04:01.802832400Z"
    }
   },
   "outputs": [],
   "source": []
  },
  {
   "cell_type": "markdown",
   "metadata": {},
   "source": [
    "---\n",
    "> P-085: For the customer data (df_customer), create new data by adding latitude and longitude coordinates for each postal code (postal_cd) using a geocode table (df_geocode). If a postal code has multiple coordinates, use the average latitude and longitude values. Display the top 10 rows to verify the results."
   ]
  },
  {
   "cell_type": "code",
   "execution_count": null,
   "metadata": {
    "ExecuteTime": {
     "start_time": "2024-09-06T16:04:01.804832800Z"
    }
   },
   "outputs": [],
   "source": []
  },
  {
   "cell_type": "markdown",
   "metadata": {},
   "source": [
    "---\n",
    "> P-086: Using the data created in P-085, combine it with the store data (df_store) based on the application store code (application_store_cd) to create a new dataset. Calculate the distance between the customer's address (latitude, longitude) and the store's address (latitude, longitude) for each application store and display the top 10 rows. You can use a library for distance calculation if necessary.\n",
    "\n",
    "$$\n",
    "\\mbox{緯度（ラジアン）}：\\phi \\\\\n",
    "\\mbox{経度（ラジアン）}：\\lambda \\\\\n",
    "\\mbox{距離}L = 6371 * \\arccos(\\sin \\phi_1 * \\sin \\phi_2\n",
    "+ \\cos \\phi_1 * \\cos \\phi_2 * \\cos(\\lambda_1 − \\lambda_2))\n",
    "$$"
   ]
  },
  {
   "cell_type": "code",
   "execution_count": null,
   "metadata": {
    "ExecuteTime": {
     "start_time": "2024-09-06T16:04:01.805832200Z"
    }
   },
   "outputs": [],
   "source": []
  },
  {
   "cell_type": "markdown",
   "metadata": {},
   "source": [
    "---\n",
    "> P-087: In the customer data (df_customer), there are cases where the same customer is registered at different stores under slightly different names or addresses. Create a new dataset by consolidating records where the customer name (customer_name) and postal code (postal_cd) are considered the same if they match exactly. In cases where there are discrepancies, prioritize the record with the higher total sales amount, or if sales amounts are equal, prioritize the record with the smaller customer ID."
   ]
  },
  {
   "cell_type": "code",
   "execution_count": null,
   "metadata": {
    "ExecuteTime": {
     "start_time": "2024-09-06T16:04:01.806831600Z"
    }
   },
   "outputs": [],
   "source": []
  },
  {
   "cell_type": "markdown",
   "metadata": {},
   "source": [
    "---\n",
    "> P-088: Using the data created in P-087, create a new dataset with consolidated customer data according to the following specifications:\n",
    "> - Retain only the customer ID (customer_id).\n",
    "> - For duplicate records, use the receipt number (receipt_no) from the previous extracted receipt record.\n",
    "> - Ensure the uniqueness of the customer ID in the new dataset."
   ]
  },
  {
   "cell_type": "code",
   "execution_count": null,
   "metadata": {
    "ExecuteTime": {
     "start_time": "2024-09-06T16:04:01.807831900Z"
    }
   },
   "outputs": [],
   "source": []
  },
  {
   "cell_type": "markdown",
   "metadata": {},
   "source": [
    "---\n",
    "> P-089: Split the receipt data (df_receipt) into training and test datasets for predictive modeling. Use an 80:20 ratio for the split."
   ]
  },
  {
   "cell_type": "code",
   "execution_count": null,
   "metadata": {
    "ExecuteTime": {
     "start_time": "2024-09-06T16:04:01.807831900Z"
    }
   },
   "outputs": [],
   "source": []
  },
  {
   "cell_type": "markdown",
   "metadata": {},
   "source": [
    "---\n",
    "> P-090: For the receipt details data (df_receipt), extract data from January 1, 2017, to October 31, 2019. Create three sets of monthly sequential sales data: 12 months for training, 6 months for testing, and 6 months for validation."
   ]
  },
  {
   "cell_type": "code",
   "execution_count": null,
   "metadata": {
    "ExecuteTime": {
     "start_time": "2024-09-06T16:04:01.808831400Z"
    }
   },
   "outputs": [],
   "source": []
  },
  {
   "cell_type": "markdown",
   "metadata": {},
   "source": [
    "---\n",
    "> P-091: For the customer data (df_customer), perform undersampling to ensure that the number of customers without sales records is equal to the number of customers with sales records."
   ]
  },
  {
   "cell_type": "code",
   "execution_count": null,
   "metadata": {
    "ExecuteTime": {
     "start_time": "2024-09-06T16:04:01.809832200Z"
    }
   },
   "outputs": [],
   "source": []
  },
  {
   "cell_type": "markdown",
   "metadata": {},
   "source": [
    "---\n",
    "> P-092: For the customer data (df_customer), normalize the gender code (gender_cd) into three categories: male, female, and unknown."
   ]
  },
  {
   "cell_type": "code",
   "execution_count": null,
   "metadata": {
    "ExecuteTime": {
     "start_time": "2024-09-06T16:04:01.810832200Z"
    }
   },
   "outputs": [],
   "source": []
  },
  {
   "cell_type": "markdown",
   "metadata": {},
   "source": [
    "---\n",
    "> P-093: For the product data (df_product), merge with the category data (df_category) to retain the category name while keeping the category code intact. Create a new product dataset with this combined information."
   ]
  },
  {
   "cell_type": "code",
   "execution_count": null,
   "metadata": {
    "ExecuteTime": {
     "start_time": "2024-09-06T16:04:01.811831500Z"
    }
   },
   "outputs": [],
   "source": []
  },
  {
   "cell_type": "markdown",
   "metadata": {},
   "source": [
    "---\n",
    "> P-094: Save the new product dataset created in P-093 with the category names included as a CSV file with the following specifications:\n",
    "> - File format: CSV (comma-separated values)\n",
    "> - Header: No\n",
    "> - Text encoding: UTF-8\n",
    "> - File output path: /data"
   ]
  },
  {
   "cell_type": "code",
   "execution_count": null,
   "metadata": {
    "ExecuteTime": {
     "start_time": "2024-09-06T16:04:01.812832Z"
    }
   },
   "outputs": [],
   "source": []
  },
  {
   "cell_type": "markdown",
   "metadata": {},
   "source": [
    "---\n",
    "> P-095: Save the new product dataset created in P-093 with the category names included as a CSV file with the following specifications:\n",
    "> - File format: CSV (comma-separated values)\n",
    "> - Header: Yes\n",
    "> - Text encoding: CP932\n",
    "> - File output path: /data"
   ]
  },
  {
   "cell_type": "code",
   "execution_count": null,
   "metadata": {
    "ExecuteTime": {
     "start_time": "2024-09-06T16:04:01.812832Z"
    }
   },
   "outputs": [],
   "source": []
  },
  {
   "cell_type": "markdown",
   "metadata": {},
   "source": [
    "---\n",
    "> P-096: Save the new product dataset created in P-093 with the category names included as a CSV file with the following specifications:\n",
    "> - File format: CSV (comma-separated values)\n",
    "> - Header: No\n",
    "> - Text encoding: UTF-8\n",
    "> - File output path: /data"
   ]
  },
  {
   "cell_type": "code",
   "execution_count": null,
   "metadata": {
    "ExecuteTime": {
     "start_time": "2024-09-06T16:04:01.813832900Z"
    }
   },
   "outputs": [],
   "source": []
  },
  {
   "cell_type": "markdown",
   "metadata": {},
   "source": [
    "---\n",
    "> P-097: Load the file created in P-094 and display 3 rows to confirm that the data is correctly imported. The file specifications are as follows:\n",
    "> - File format: CSV (comma-separated values)\n",
    "> - Header: Yes\n",
    "> - Text encoding: UTF-8"
   ]
  },
  {
   "cell_type": "code",
   "execution_count": null,
   "metadata": {
    "ExecuteTime": {
     "start_time": "2024-09-06T16:04:01.814831500Z"
    }
   },
   "outputs": [],
   "source": []
  },
  {
   "cell_type": "markdown",
   "metadata": {},
   "source": [
    "---\n",
    "> P-098: Load the file created in P-096 and display 3 rows to confirm that the data is correctly imported. The file specifications are as follows:\n",
    "> - File format: CSV (comma-separated values)\n",
    "> - Header: No\n",
    "> - Text encoding: UTF-8"
   ]
  },
  {
   "cell_type": "code",
   "execution_count": null,
   "metadata": {
    "ExecuteTime": {
     "start_time": "2024-09-06T16:04:01.815832Z"
    }
   },
   "outputs": [],
   "source": []
  },
  {
   "cell_type": "markdown",
   "metadata": {},
   "source": [
    "---\n",
    "> P-099: Save the new product dataset created in P-093 with the category names included as a TSV file with the following specifications:\n",
    "> - File format: TSV (tab-separated values)\n",
    "> - Header: Yes\n",
    "> - Text encoding: UTF-8\n",
    "> -File output path: /data"
   ]
  },
  {
   "cell_type": "code",
   "execution_count": null,
   "metadata": {
    "ExecuteTime": {
     "start_time": "2024-09-06T16:04:01.816832800Z"
    }
   },
   "outputs": [],
   "source": []
  },
  {
   "cell_type": "markdown",
   "metadata": {},
   "source": [
    "---\n",
    "> P-100: Load the file created in P-099 with the following specifications, display 3 rows of data, and confirm that the data is correctly imported:\n",
    "> - File format: TSV (tab-separated values)\n",
    "> - Header: Yes\n",
    "> - Text encoding: UTF-8"
   ]
  },
  {
   "cell_type": "code",
   "execution_count": null,
   "metadata": {
    "ExecuteTime": {
     "start_time": "2024-09-06T16:04:01.817832500Z"
    }
   },
   "outputs": [],
   "source": []
  },
  {
   "cell_type": "markdown",
   "metadata": {},
   "source": [
    "## This concludes the 100 exercises. Well done!"
   ]
  },
  {
   "cell_type": "markdown",
   "metadata": {},
   "source": []
  }
 ],
 "metadata": {
  "kernelspec": {
   "display_name": "Python 3 (ipykernel)",
   "language": "python",
   "name": "python3"
  },
  "language_info": {
   "codemirror_mode": {
    "name": "ipython",
    "version": 3
   },
   "file_extension": ".py",
   "mimetype": "text/x-python",
   "name": "python",
   "nbconvert_exporter": "python",
   "pygments_lexer": "ipython3",
   "version": "3.9.19"
  }
 },
 "nbformat": 4,
 "nbformat_minor": 4
}
