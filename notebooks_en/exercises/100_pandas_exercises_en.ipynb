{
 "cells": [
  {
   "cell_type": "markdown",
   "metadata": {},
   "source": [
    "# **Data Science 100 Exercises (Structured Data Processing Edition) - Python**"
   ]
  },
  {
   "cell_type": "markdown",
   "metadata": {},
   "source": [
    "## Basic setting\n"
   ]
  },
  {
   "cell_type": "code",
   "execution_count": 3,
   "metadata": {
    "ExecuteTime": {
     "end_time": "2024-09-05T13:10:27.353093900Z",
     "start_time": "2024-09-05T13:10:23.255962500Z"
    }
   },
   "outputs": [],
   "source": [
    "import os\n",
    "import pandas as pd\n",
    "import numpy as np\n",
    "\n",
    "dtype = {\n",
    "    'customer_id': str,\n",
    "    'gender_cd': str,\n",
    "    'postal_cd': str,\n",
    "    'application_store_cd': str,\n",
    "    'status_cd': str,\n",
    "    'category_major_cd': str,\n",
    "    'category_medium_cd': str,\n",
    "    'category_small_cd': str,\n",
    "    'product_cd': str,\n",
    "    'store_cd': str,\n",
    "    'prefecture_cd': str,\n",
    "    'tel_no': str,\n",
    "    'postal_cd': str,\n",
    "    'street': str\n",
    "}\n",
    "\n",
    "df_customer = pd.read_csv(\"../../data/raw/customer.csv\", dtype=dtype)\n",
    "df_category = pd.read_csv(\"../../data/raw/category.csv\", dtype=dtype)\n",
    "df_product = pd.read_csv(\"../../data/raw/product.csv\", dtype=dtype)\n",
    "df_receipt = pd.read_csv(\"../../data/raw/receipt.csv\", dtype=dtype)\n",
    "df_store = pd.read_csv(\"../../data/raw/store.csv\", dtype=dtype)\n",
    "df_geocode = pd.read_csv(\"../../data/raw/geocode.csv\", dtype=dtype)\n"
   ]
  },
  {
   "cell_type": "markdown",
   "metadata": {},
   "source": [
    "## Exercise Problems"
   ]
  },
  {
   "cell_type": "markdown",
   "metadata": {},
   "source": [
    "---\n",
    "> P-001: Display the first 10 rows of all items from the receipt details data (df_receipt) to visually confirm what kind of data it contains."
   ]
  },
  {
   "cell_type": "code",
   "execution_count": 4,
   "metadata": {
    "ExecuteTime": {
     "end_time": "2024-09-05T13:10:27.357102900Z",
     "start_time": "2024-09-05T13:10:23.689072300Z"
    }
   },
   "outputs": [
    {
     "data": {
      "text/plain": "   sales_ymd  sales_epoch store_cd  receipt_no  receipt_sub_no  \\\n0   20181103   1541203200   S14006         112               1   \n1   20181118   1542499200   S13008        1132               2   \n2   20170712   1499817600   S14028        1102               1   \n3   20190205   1549324800   S14042        1132               1   \n4   20180821   1534809600   S14025        1102               2   \n5   20190605   1559692800   S13003        1112               1   \n6   20181205   1543968000   S14024        1102               2   \n7   20190922   1569110400   S14040        1102               1   \n8   20170504   1493856000   S13020        1112               2   \n9   20191010   1570665600   S14027        1102               1   \n\n      customer_id  product_cd  quantity  amount  \n0  CS006214000001  P070305012         1     158  \n1  CS008415000097  P070701017         1      81  \n2  CS028414000014  P060101005         1     170  \n3  ZZ000000000000  P050301001         1      25  \n4  CS025415000050  P060102007         1      90  \n5  CS003515000195  P050102002         1     138  \n6  CS024514000042  P080101005         1      30  \n7  CS040415000178  P070501004         1     128  \n8  ZZ000000000000  P071302010         1     770  \n9  CS027514000015  P071101003         1     680  ",
      "text/html": "<div>\n<style scoped>\n    .dataframe tbody tr th:only-of-type {\n        vertical-align: middle;\n    }\n\n    .dataframe tbody tr th {\n        vertical-align: top;\n    }\n\n    .dataframe thead th {\n        text-align: right;\n    }\n</style>\n<table border=\"1\" class=\"dataframe\">\n  <thead>\n    <tr style=\"text-align: right;\">\n      <th></th>\n      <th>sales_ymd</th>\n      <th>sales_epoch</th>\n      <th>store_cd</th>\n      <th>receipt_no</th>\n      <th>receipt_sub_no</th>\n      <th>customer_id</th>\n      <th>product_cd</th>\n      <th>quantity</th>\n      <th>amount</th>\n    </tr>\n  </thead>\n  <tbody>\n    <tr>\n      <th>0</th>\n      <td>20181103</td>\n      <td>1541203200</td>\n      <td>S14006</td>\n      <td>112</td>\n      <td>1</td>\n      <td>CS006214000001</td>\n      <td>P070305012</td>\n      <td>1</td>\n      <td>158</td>\n    </tr>\n    <tr>\n      <th>1</th>\n      <td>20181118</td>\n      <td>1542499200</td>\n      <td>S13008</td>\n      <td>1132</td>\n      <td>2</td>\n      <td>CS008415000097</td>\n      <td>P070701017</td>\n      <td>1</td>\n      <td>81</td>\n    </tr>\n    <tr>\n      <th>2</th>\n      <td>20170712</td>\n      <td>1499817600</td>\n      <td>S14028</td>\n      <td>1102</td>\n      <td>1</td>\n      <td>CS028414000014</td>\n      <td>P060101005</td>\n      <td>1</td>\n      <td>170</td>\n    </tr>\n    <tr>\n      <th>3</th>\n      <td>20190205</td>\n      <td>1549324800</td>\n      <td>S14042</td>\n      <td>1132</td>\n      <td>1</td>\n      <td>ZZ000000000000</td>\n      <td>P050301001</td>\n      <td>1</td>\n      <td>25</td>\n    </tr>\n    <tr>\n      <th>4</th>\n      <td>20180821</td>\n      <td>1534809600</td>\n      <td>S14025</td>\n      <td>1102</td>\n      <td>2</td>\n      <td>CS025415000050</td>\n      <td>P060102007</td>\n      <td>1</td>\n      <td>90</td>\n    </tr>\n    <tr>\n      <th>5</th>\n      <td>20190605</td>\n      <td>1559692800</td>\n      <td>S13003</td>\n      <td>1112</td>\n      <td>1</td>\n      <td>CS003515000195</td>\n      <td>P050102002</td>\n      <td>1</td>\n      <td>138</td>\n    </tr>\n    <tr>\n      <th>6</th>\n      <td>20181205</td>\n      <td>1543968000</td>\n      <td>S14024</td>\n      <td>1102</td>\n      <td>2</td>\n      <td>CS024514000042</td>\n      <td>P080101005</td>\n      <td>1</td>\n      <td>30</td>\n    </tr>\n    <tr>\n      <th>7</th>\n      <td>20190922</td>\n      <td>1569110400</td>\n      <td>S14040</td>\n      <td>1102</td>\n      <td>1</td>\n      <td>CS040415000178</td>\n      <td>P070501004</td>\n      <td>1</td>\n      <td>128</td>\n    </tr>\n    <tr>\n      <th>8</th>\n      <td>20170504</td>\n      <td>1493856000</td>\n      <td>S13020</td>\n      <td>1112</td>\n      <td>2</td>\n      <td>ZZ000000000000</td>\n      <td>P071302010</td>\n      <td>1</td>\n      <td>770</td>\n    </tr>\n    <tr>\n      <th>9</th>\n      <td>20191010</td>\n      <td>1570665600</td>\n      <td>S14027</td>\n      <td>1102</td>\n      <td>1</td>\n      <td>CS027514000015</td>\n      <td>P071101003</td>\n      <td>1</td>\n      <td>680</td>\n    </tr>\n  </tbody>\n</table>\n</div>"
     },
     "execution_count": 4,
     "metadata": {},
     "output_type": "execute_result"
    }
   ],
   "source": [
    "df_receipt.head(10)"
   ]
  },
  {
   "cell_type": "markdown",
   "metadata": {},
   "source": [
    "---\n",
    "> P-002: From the receipt details data (df_receipt), specify the columns in the order of sales date (sales_ymd), customer ID (customer_id), product code (product_cd), and sales amount (amount), and display 10 rows."
   ]
  },
  {
   "cell_type": "code",
   "execution_count": 5,
   "metadata": {
    "ExecuteTime": {
     "end_time": "2024-09-05T13:10:27.389424900Z",
     "start_time": "2024-09-05T13:10:23.709431700Z"
    }
   },
   "outputs": [
    {
     "data": {
      "text/plain": "   sales_ymd     customer_id  product_cd  amount\n0   20181103  CS006214000001  P070305012     158\n1   20181118  CS008415000097  P070701017      81\n2   20170712  CS028414000014  P060101005     170\n3   20190205  ZZ000000000000  P050301001      25\n4   20180821  CS025415000050  P060102007      90\n5   20190605  CS003515000195  P050102002     138\n6   20181205  CS024514000042  P080101005      30\n7   20190922  CS040415000178  P070501004     128\n8   20170504  ZZ000000000000  P071302010     770\n9   20191010  CS027514000015  P071101003     680",
      "text/html": "<div>\n<style scoped>\n    .dataframe tbody tr th:only-of-type {\n        vertical-align: middle;\n    }\n\n    .dataframe tbody tr th {\n        vertical-align: top;\n    }\n\n    .dataframe thead th {\n        text-align: right;\n    }\n</style>\n<table border=\"1\" class=\"dataframe\">\n  <thead>\n    <tr style=\"text-align: right;\">\n      <th></th>\n      <th>sales_ymd</th>\n      <th>customer_id</th>\n      <th>product_cd</th>\n      <th>amount</th>\n    </tr>\n  </thead>\n  <tbody>\n    <tr>\n      <th>0</th>\n      <td>20181103</td>\n      <td>CS006214000001</td>\n      <td>P070305012</td>\n      <td>158</td>\n    </tr>\n    <tr>\n      <th>1</th>\n      <td>20181118</td>\n      <td>CS008415000097</td>\n      <td>P070701017</td>\n      <td>81</td>\n    </tr>\n    <tr>\n      <th>2</th>\n      <td>20170712</td>\n      <td>CS028414000014</td>\n      <td>P060101005</td>\n      <td>170</td>\n    </tr>\n    <tr>\n      <th>3</th>\n      <td>20190205</td>\n      <td>ZZ000000000000</td>\n      <td>P050301001</td>\n      <td>25</td>\n    </tr>\n    <tr>\n      <th>4</th>\n      <td>20180821</td>\n      <td>CS025415000050</td>\n      <td>P060102007</td>\n      <td>90</td>\n    </tr>\n    <tr>\n      <th>5</th>\n      <td>20190605</td>\n      <td>CS003515000195</td>\n      <td>P050102002</td>\n      <td>138</td>\n    </tr>\n    <tr>\n      <th>6</th>\n      <td>20181205</td>\n      <td>CS024514000042</td>\n      <td>P080101005</td>\n      <td>30</td>\n    </tr>\n    <tr>\n      <th>7</th>\n      <td>20190922</td>\n      <td>CS040415000178</td>\n      <td>P070501004</td>\n      <td>128</td>\n    </tr>\n    <tr>\n      <th>8</th>\n      <td>20170504</td>\n      <td>ZZ000000000000</td>\n      <td>P071302010</td>\n      <td>770</td>\n    </tr>\n    <tr>\n      <th>9</th>\n      <td>20191010</td>\n      <td>CS027514000015</td>\n      <td>P071101003</td>\n      <td>680</td>\n    </tr>\n  </tbody>\n</table>\n</div>"
     },
     "execution_count": 5,
     "metadata": {},
     "output_type": "execute_result"
    }
   ],
   "source": [
    "# Cách 1\n",
    "df_receipt[['sales_ymd','customer_id','product_cd','amount',]].head(10)"
   ]
  },
  {
   "cell_type": "code",
   "execution_count": 6,
   "outputs": [
    {
     "data": {
      "text/plain": "        sales_ymd     customer_id  product_cd  quantity\n0        20181103  CS006214000001  P070305012         1\n1        20181118  CS008415000097  P070701017         1\n2        20170712  CS028414000014  P060101005         1\n3        20190205  ZZ000000000000  P050301001         1\n4        20180821  CS025415000050  P060102007         1\n...           ...             ...         ...       ...\n104676   20180221  ZZ000000000000  P050101001         1\n104677   20190911  ZZ000000000000  P071006005         1\n104678   20170311  CS040513000195  P050405003         1\n104679   20170331  CS002513000049  P060303001         1\n104680   20190423  ZZ000000000000  P050601001         1\n\n[104681 rows x 4 columns]",
      "text/html": "<div>\n<style scoped>\n    .dataframe tbody tr th:only-of-type {\n        vertical-align: middle;\n    }\n\n    .dataframe tbody tr th {\n        vertical-align: top;\n    }\n\n    .dataframe thead th {\n        text-align: right;\n    }\n</style>\n<table border=\"1\" class=\"dataframe\">\n  <thead>\n    <tr style=\"text-align: right;\">\n      <th></th>\n      <th>sales_ymd</th>\n      <th>customer_id</th>\n      <th>product_cd</th>\n      <th>quantity</th>\n    </tr>\n  </thead>\n  <tbody>\n    <tr>\n      <th>0</th>\n      <td>20181103</td>\n      <td>CS006214000001</td>\n      <td>P070305012</td>\n      <td>1</td>\n    </tr>\n    <tr>\n      <th>1</th>\n      <td>20181118</td>\n      <td>CS008415000097</td>\n      <td>P070701017</td>\n      <td>1</td>\n    </tr>\n    <tr>\n      <th>2</th>\n      <td>20170712</td>\n      <td>CS028414000014</td>\n      <td>P060101005</td>\n      <td>1</td>\n    </tr>\n    <tr>\n      <th>3</th>\n      <td>20190205</td>\n      <td>ZZ000000000000</td>\n      <td>P050301001</td>\n      <td>1</td>\n    </tr>\n    <tr>\n      <th>4</th>\n      <td>20180821</td>\n      <td>CS025415000050</td>\n      <td>P060102007</td>\n      <td>1</td>\n    </tr>\n    <tr>\n      <th>...</th>\n      <td>...</td>\n      <td>...</td>\n      <td>...</td>\n      <td>...</td>\n    </tr>\n    <tr>\n      <th>104676</th>\n      <td>20180221</td>\n      <td>ZZ000000000000</td>\n      <td>P050101001</td>\n      <td>1</td>\n    </tr>\n    <tr>\n      <th>104677</th>\n      <td>20190911</td>\n      <td>ZZ000000000000</td>\n      <td>P071006005</td>\n      <td>1</td>\n    </tr>\n    <tr>\n      <th>104678</th>\n      <td>20170311</td>\n      <td>CS040513000195</td>\n      <td>P050405003</td>\n      <td>1</td>\n    </tr>\n    <tr>\n      <th>104679</th>\n      <td>20170331</td>\n      <td>CS002513000049</td>\n      <td>P060303001</td>\n      <td>1</td>\n    </tr>\n    <tr>\n      <th>104680</th>\n      <td>20190423</td>\n      <td>ZZ000000000000</td>\n      <td>P050601001</td>\n      <td>1</td>\n    </tr>\n  </tbody>\n</table>\n<p>104681 rows × 4 columns</p>\n</div>"
     },
     "execution_count": 6,
     "metadata": {},
     "output_type": "execute_result"
    }
   ],
   "source": [
    "# Cách 2: Slicing Index\n",
    "df_receipt.iloc[:,[0,5,6,7]]"
   ],
   "metadata": {
    "collapsed": false,
    "ExecuteTime": {
     "end_time": "2024-09-05T13:10:27.409776300Z",
     "start_time": "2024-09-05T13:10:23.720819400Z"
    }
   }
  },
  {
   "cell_type": "code",
   "execution_count": 7,
   "outputs": [
    {
     "data": {
      "text/plain": "        sales_ymd     customer_id  product_cd  amount\n0        20181103  CS006214000001  P070305012     158\n1        20181118  CS008415000097  P070701017      81\n2        20170712  CS028414000014  P060101005     170\n3        20190205  ZZ000000000000  P050301001      25\n4        20180821  CS025415000050  P060102007      90\n...           ...             ...         ...     ...\n104676   20180221  ZZ000000000000  P050101001      40\n104677   20190911  ZZ000000000000  P071006005     218\n104678   20170311  CS040513000195  P050405003     168\n104679   20170331  CS002513000049  P060303001     148\n104680   20190423  ZZ000000000000  P050601001     138\n\n[104681 rows x 4 columns]",
      "text/html": "<div>\n<style scoped>\n    .dataframe tbody tr th:only-of-type {\n        vertical-align: middle;\n    }\n\n    .dataframe tbody tr th {\n        vertical-align: top;\n    }\n\n    .dataframe thead th {\n        text-align: right;\n    }\n</style>\n<table border=\"1\" class=\"dataframe\">\n  <thead>\n    <tr style=\"text-align: right;\">\n      <th></th>\n      <th>sales_ymd</th>\n      <th>customer_id</th>\n      <th>product_cd</th>\n      <th>amount</th>\n    </tr>\n  </thead>\n  <tbody>\n    <tr>\n      <th>0</th>\n      <td>20181103</td>\n      <td>CS006214000001</td>\n      <td>P070305012</td>\n      <td>158</td>\n    </tr>\n    <tr>\n      <th>1</th>\n      <td>20181118</td>\n      <td>CS008415000097</td>\n      <td>P070701017</td>\n      <td>81</td>\n    </tr>\n    <tr>\n      <th>2</th>\n      <td>20170712</td>\n      <td>CS028414000014</td>\n      <td>P060101005</td>\n      <td>170</td>\n    </tr>\n    <tr>\n      <th>3</th>\n      <td>20190205</td>\n      <td>ZZ000000000000</td>\n      <td>P050301001</td>\n      <td>25</td>\n    </tr>\n    <tr>\n      <th>4</th>\n      <td>20180821</td>\n      <td>CS025415000050</td>\n      <td>P060102007</td>\n      <td>90</td>\n    </tr>\n    <tr>\n      <th>...</th>\n      <td>...</td>\n      <td>...</td>\n      <td>...</td>\n      <td>...</td>\n    </tr>\n    <tr>\n      <th>104676</th>\n      <td>20180221</td>\n      <td>ZZ000000000000</td>\n      <td>P050101001</td>\n      <td>40</td>\n    </tr>\n    <tr>\n      <th>104677</th>\n      <td>20190911</td>\n      <td>ZZ000000000000</td>\n      <td>P071006005</td>\n      <td>218</td>\n    </tr>\n    <tr>\n      <th>104678</th>\n      <td>20170311</td>\n      <td>CS040513000195</td>\n      <td>P050405003</td>\n      <td>168</td>\n    </tr>\n    <tr>\n      <th>104679</th>\n      <td>20170331</td>\n      <td>CS002513000049</td>\n      <td>P060303001</td>\n      <td>148</td>\n    </tr>\n    <tr>\n      <th>104680</th>\n      <td>20190423</td>\n      <td>ZZ000000000000</td>\n      <td>P050601001</td>\n      <td>138</td>\n    </tr>\n  </tbody>\n</table>\n<p>104681 rows × 4 columns</p>\n</div>"
     },
     "execution_count": 7,
     "metadata": {},
     "output_type": "execute_result"
    }
   ],
   "source": [
    "# Cach 3: Use Location\n",
    "df_receipt.loc[:,['sales_ymd','customer_id','product_cd','amount',]]"
   ],
   "metadata": {
    "collapsed": false,
    "ExecuteTime": {
     "end_time": "2024-09-05T13:10:27.411042800Z",
     "start_time": "2024-09-05T13:10:23.732409100Z"
    }
   }
  },
  {
   "cell_type": "markdown",
   "metadata": {},
   "source": [
    "---\n",
    "> P-003: From the receipt details data (df_receipt), specify the columns in the order of sales date (sales_ymd), customer ID (customer_id), product code (product_cd), and sales amount (amount), and display 10 rows. However, change the item name sales_ymd to sales_date when extracting."
   ]
  },
  {
   "cell_type": "code",
   "execution_count": 8,
   "metadata": {
    "ExecuteTime": {
     "end_time": "2024-09-05T13:10:27.434158600Z",
     "start_time": "2024-09-05T13:10:23.742469500Z"
    }
   },
   "outputs": [
    {
     "data": {
      "text/plain": "        sales_date     customer_id  product_cd  amount\n0         20181103  CS006214000001  P070305012     158\n1         20181118  CS008415000097  P070701017      81\n2         20170712  CS028414000014  P060101005     170\n3         20190205  ZZ000000000000  P050301001      25\n4         20180821  CS025415000050  P060102007      90\n...            ...             ...         ...     ...\n104676    20180221  ZZ000000000000  P050101001      40\n104677    20190911  ZZ000000000000  P071006005     218\n104678    20170311  CS040513000195  P050405003     168\n104679    20170331  CS002513000049  P060303001     148\n104680    20190423  ZZ000000000000  P050601001     138\n\n[104681 rows x 4 columns]",
      "text/html": "<div>\n<style scoped>\n    .dataframe tbody tr th:only-of-type {\n        vertical-align: middle;\n    }\n\n    .dataframe tbody tr th {\n        vertical-align: top;\n    }\n\n    .dataframe thead th {\n        text-align: right;\n    }\n</style>\n<table border=\"1\" class=\"dataframe\">\n  <thead>\n    <tr style=\"text-align: right;\">\n      <th></th>\n      <th>sales_date</th>\n      <th>customer_id</th>\n      <th>product_cd</th>\n      <th>amount</th>\n    </tr>\n  </thead>\n  <tbody>\n    <tr>\n      <th>0</th>\n      <td>20181103</td>\n      <td>CS006214000001</td>\n      <td>P070305012</td>\n      <td>158</td>\n    </tr>\n    <tr>\n      <th>1</th>\n      <td>20181118</td>\n      <td>CS008415000097</td>\n      <td>P070701017</td>\n      <td>81</td>\n    </tr>\n    <tr>\n      <th>2</th>\n      <td>20170712</td>\n      <td>CS028414000014</td>\n      <td>P060101005</td>\n      <td>170</td>\n    </tr>\n    <tr>\n      <th>3</th>\n      <td>20190205</td>\n      <td>ZZ000000000000</td>\n      <td>P050301001</td>\n      <td>25</td>\n    </tr>\n    <tr>\n      <th>4</th>\n      <td>20180821</td>\n      <td>CS025415000050</td>\n      <td>P060102007</td>\n      <td>90</td>\n    </tr>\n    <tr>\n      <th>...</th>\n      <td>...</td>\n      <td>...</td>\n      <td>...</td>\n      <td>...</td>\n    </tr>\n    <tr>\n      <th>104676</th>\n      <td>20180221</td>\n      <td>ZZ000000000000</td>\n      <td>P050101001</td>\n      <td>40</td>\n    </tr>\n    <tr>\n      <th>104677</th>\n      <td>20190911</td>\n      <td>ZZ000000000000</td>\n      <td>P071006005</td>\n      <td>218</td>\n    </tr>\n    <tr>\n      <th>104678</th>\n      <td>20170311</td>\n      <td>CS040513000195</td>\n      <td>P050405003</td>\n      <td>168</td>\n    </tr>\n    <tr>\n      <th>104679</th>\n      <td>20170331</td>\n      <td>CS002513000049</td>\n      <td>P060303001</td>\n      <td>148</td>\n    </tr>\n    <tr>\n      <th>104680</th>\n      <td>20190423</td>\n      <td>ZZ000000000000</td>\n      <td>P050601001</td>\n      <td>138</td>\n    </tr>\n  </tbody>\n</table>\n<p>104681 rows × 4 columns</p>\n</div>"
     },
     "execution_count": 8,
     "metadata": {},
     "output_type": "execute_result"
    }
   ],
   "source": [
    "# Option 1: Reassign the result\n",
    "df_receipt.loc[:,['sales_ymd','customer_id','product_cd','amount',]].rename(columns={'sales_ymd': 'sales_date'})"
   ]
  },
  {
   "cell_type": "code",
   "execution_count": 9,
   "outputs": [],
   "source": [
    "# Option 2: Modify In-Place DO NOT RUN\n",
    "df_receipt.rename(columns={'sales_ymd': 'sales_date'}, inplace=True)"
   ],
   "metadata": {
    "collapsed": false,
    "ExecuteTime": {
     "end_time": "2024-09-05T13:10:27.434158600Z",
     "start_time": "2024-09-05T13:10:23.755003600Z"
    }
   }
  },
  {
   "cell_type": "markdown",
   "metadata": {},
   "source": [
    "---\n",
    "> P-004: From the receipt details data (df_receipt), specify the columns in the order of sales date (sales_ymd), customer ID (customer_id), product code (product_cd), and sales amount (amount), and extract the data that meets the following condition:\n",
    "> * The customer ID (customer_id) is \"CS018205000001\"."
   ]
  },
  {
   "cell_type": "code",
   "execution_count": 10,
   "metadata": {
    "ExecuteTime": {
     "end_time": "2024-09-05T13:10:27.455124800Z",
     "start_time": "2024-09-05T13:10:23.759725600Z"
    }
   },
   "outputs": [
    {
     "data": {
      "text/plain": "       sales_date  sales_epoch store_cd  receipt_no  receipt_sub_no  \\\n36       20180911   1536624000   S13018        1122               2   \n9843     20180414   1523664000   S13018        1142               2   \n21110    20170614   1497398400   S13018        1112               2   \n27673    20170614   1497398400   S13018        1112               1   \n27840    20190216   1550275200   S13018        1152               2   \n28757    20180414   1523664000   S13018        1142               1   \n39256    20190226   1551139200   S13018        1132               2   \n58121    20190924   1569283200   S13018        1102               1   \n68117    20190226   1551139200   S13018        1132               1   \n72254    20180911   1536624000   S13018        1122               1   \n88508    20190216   1550275200   S13018        1152               1   \n91525    20190924   1569283200   S13018        1102               2   \n\n          customer_id  product_cd  quantity  amount  \n36     CS018205000001  P071401012         1    2200  \n9843   CS018205000001  P060104007         6     600  \n21110  CS018205000001  P050206001         5     990  \n27673  CS018205000001  P060702015         1     108  \n27840  CS018205000001  P071005024         1     102  \n28757  CS018205000001  P071101002         1     278  \n39256  CS018205000001  P070902035         1     168  \n58121  CS018205000001  P060805001         1     495  \n68117  CS018205000001  P071401020         1    2200  \n72254  CS018205000001  P071401005         1    1100  \n88508  CS018205000001  P040101002         1     218  \n91525  CS018205000001  P091503001         1     280  ",
      "text/html": "<div>\n<style scoped>\n    .dataframe tbody tr th:only-of-type {\n        vertical-align: middle;\n    }\n\n    .dataframe tbody tr th {\n        vertical-align: top;\n    }\n\n    .dataframe thead th {\n        text-align: right;\n    }\n</style>\n<table border=\"1\" class=\"dataframe\">\n  <thead>\n    <tr style=\"text-align: right;\">\n      <th></th>\n      <th>sales_date</th>\n      <th>sales_epoch</th>\n      <th>store_cd</th>\n      <th>receipt_no</th>\n      <th>receipt_sub_no</th>\n      <th>customer_id</th>\n      <th>product_cd</th>\n      <th>quantity</th>\n      <th>amount</th>\n    </tr>\n  </thead>\n  <tbody>\n    <tr>\n      <th>36</th>\n      <td>20180911</td>\n      <td>1536624000</td>\n      <td>S13018</td>\n      <td>1122</td>\n      <td>2</td>\n      <td>CS018205000001</td>\n      <td>P071401012</td>\n      <td>1</td>\n      <td>2200</td>\n    </tr>\n    <tr>\n      <th>9843</th>\n      <td>20180414</td>\n      <td>1523664000</td>\n      <td>S13018</td>\n      <td>1142</td>\n      <td>2</td>\n      <td>CS018205000001</td>\n      <td>P060104007</td>\n      <td>6</td>\n      <td>600</td>\n    </tr>\n    <tr>\n      <th>21110</th>\n      <td>20170614</td>\n      <td>1497398400</td>\n      <td>S13018</td>\n      <td>1112</td>\n      <td>2</td>\n      <td>CS018205000001</td>\n      <td>P050206001</td>\n      <td>5</td>\n      <td>990</td>\n    </tr>\n    <tr>\n      <th>27673</th>\n      <td>20170614</td>\n      <td>1497398400</td>\n      <td>S13018</td>\n      <td>1112</td>\n      <td>1</td>\n      <td>CS018205000001</td>\n      <td>P060702015</td>\n      <td>1</td>\n      <td>108</td>\n    </tr>\n    <tr>\n      <th>27840</th>\n      <td>20190216</td>\n      <td>1550275200</td>\n      <td>S13018</td>\n      <td>1152</td>\n      <td>2</td>\n      <td>CS018205000001</td>\n      <td>P071005024</td>\n      <td>1</td>\n      <td>102</td>\n    </tr>\n    <tr>\n      <th>28757</th>\n      <td>20180414</td>\n      <td>1523664000</td>\n      <td>S13018</td>\n      <td>1142</td>\n      <td>1</td>\n      <td>CS018205000001</td>\n      <td>P071101002</td>\n      <td>1</td>\n      <td>278</td>\n    </tr>\n    <tr>\n      <th>39256</th>\n      <td>20190226</td>\n      <td>1551139200</td>\n      <td>S13018</td>\n      <td>1132</td>\n      <td>2</td>\n      <td>CS018205000001</td>\n      <td>P070902035</td>\n      <td>1</td>\n      <td>168</td>\n    </tr>\n    <tr>\n      <th>58121</th>\n      <td>20190924</td>\n      <td>1569283200</td>\n      <td>S13018</td>\n      <td>1102</td>\n      <td>1</td>\n      <td>CS018205000001</td>\n      <td>P060805001</td>\n      <td>1</td>\n      <td>495</td>\n    </tr>\n    <tr>\n      <th>68117</th>\n      <td>20190226</td>\n      <td>1551139200</td>\n      <td>S13018</td>\n      <td>1132</td>\n      <td>1</td>\n      <td>CS018205000001</td>\n      <td>P071401020</td>\n      <td>1</td>\n      <td>2200</td>\n    </tr>\n    <tr>\n      <th>72254</th>\n      <td>20180911</td>\n      <td>1536624000</td>\n      <td>S13018</td>\n      <td>1122</td>\n      <td>1</td>\n      <td>CS018205000001</td>\n      <td>P071401005</td>\n      <td>1</td>\n      <td>1100</td>\n    </tr>\n    <tr>\n      <th>88508</th>\n      <td>20190216</td>\n      <td>1550275200</td>\n      <td>S13018</td>\n      <td>1152</td>\n      <td>1</td>\n      <td>CS018205000001</td>\n      <td>P040101002</td>\n      <td>1</td>\n      <td>218</td>\n    </tr>\n    <tr>\n      <th>91525</th>\n      <td>20190924</td>\n      <td>1569283200</td>\n      <td>S13018</td>\n      <td>1102</td>\n      <td>2</td>\n      <td>CS018205000001</td>\n      <td>P091503001</td>\n      <td>1</td>\n      <td>280</td>\n    </tr>\n  </tbody>\n</table>\n</div>"
     },
     "execution_count": 10,
     "metadata": {},
     "output_type": "execute_result"
    }
   ],
   "source": [
    "get_data = df_receipt[df_receipt['customer_id'] == 'CS018205000001']\n",
    "get_data"
   ]
  },
  {
   "cell_type": "markdown",
   "metadata": {},
   "source": [
    "---\n",
    "> P-005: From the receipt details data (df_receipt), specify the columns in the order of sales date (sales_ymd), customer ID (customer_id), product code (product_cd), and sales amount (amount), and extract the data that meets all of the following conditions:\n",
    "> * The customer ID (customer_id) is \"CS018205000001\".\n",
    "> * The sales amount (amount) is 1,000 or more."
   ]
  },
  {
   "cell_type": "code",
   "execution_count": 11,
   "metadata": {
    "ExecuteTime": {
     "end_time": "2024-09-05T13:10:27.509616100Z",
     "start_time": "2024-09-05T13:10:23.775057800Z"
    }
   },
   "outputs": [
    {
     "data": {
      "text/plain": "       sales_date  sales_epoch store_cd  receipt_no  receipt_sub_no  \\\n36       20180911   1536624000   S13018        1122               2   \n68117    20190226   1551139200   S13018        1132               1   \n72254    20180911   1536624000   S13018        1122               1   \n\n          customer_id  product_cd  quantity  amount  \n36     CS018205000001  P071401012         1    2200  \n68117  CS018205000001  P071401020         1    2200  \n72254  CS018205000001  P071401005         1    1100  ",
      "text/html": "<div>\n<style scoped>\n    .dataframe tbody tr th:only-of-type {\n        vertical-align: middle;\n    }\n\n    .dataframe tbody tr th {\n        vertical-align: top;\n    }\n\n    .dataframe thead th {\n        text-align: right;\n    }\n</style>\n<table border=\"1\" class=\"dataframe\">\n  <thead>\n    <tr style=\"text-align: right;\">\n      <th></th>\n      <th>sales_date</th>\n      <th>sales_epoch</th>\n      <th>store_cd</th>\n      <th>receipt_no</th>\n      <th>receipt_sub_no</th>\n      <th>customer_id</th>\n      <th>product_cd</th>\n      <th>quantity</th>\n      <th>amount</th>\n    </tr>\n  </thead>\n  <tbody>\n    <tr>\n      <th>36</th>\n      <td>20180911</td>\n      <td>1536624000</td>\n      <td>S13018</td>\n      <td>1122</td>\n      <td>2</td>\n      <td>CS018205000001</td>\n      <td>P071401012</td>\n      <td>1</td>\n      <td>2200</td>\n    </tr>\n    <tr>\n      <th>68117</th>\n      <td>20190226</td>\n      <td>1551139200</td>\n      <td>S13018</td>\n      <td>1132</td>\n      <td>1</td>\n      <td>CS018205000001</td>\n      <td>P071401020</td>\n      <td>1</td>\n      <td>2200</td>\n    </tr>\n    <tr>\n      <th>72254</th>\n      <td>20180911</td>\n      <td>1536624000</td>\n      <td>S13018</td>\n      <td>1122</td>\n      <td>1</td>\n      <td>CS018205000001</td>\n      <td>P071401005</td>\n      <td>1</td>\n      <td>1100</td>\n    </tr>\n  </tbody>\n</table>\n</div>"
     },
     "execution_count": 11,
     "metadata": {},
     "output_type": "execute_result"
    }
   ],
   "source": [
    "get_data = df_receipt[(df_receipt['customer_id'] == 'CS018205000001') & (df_receipt['amount'] > 1000)]\n",
    "get_data"
   ]
  },
  {
   "cell_type": "markdown",
   "metadata": {},
   "source": [
    "---\n",
    "> P-006: From the receipt details data (df_receipt), specify the columns in the order of sales date (sales_ymd), customer ID (customer_id), product code (product_cd), sales quantity (quantity), and sales amount (amount), and extract the data that meets all of the following conditions:\n",
    "> * The customer ID (customer_id) is \"CS018205000001\".\n",
    "> * The sales amount (amount) is 1,000 or more or the sales quantity (quantity) is 5 or more."
   ]
  },
  {
   "cell_type": "code",
   "execution_count": 16,
   "metadata": {
    "ExecuteTime": {
     "end_time": "2024-09-05T13:10:56.979486400Z",
     "start_time": "2024-09-05T13:10:56.940762700Z"
    }
   },
   "outputs": [
    {
     "data": {
      "text/plain": "       sales_date     customer_id  product_cd  quantity  amount\n36       20180911  CS018205000001  P071401012         1    2200\n9843     20180414  CS018205000001  P060104007         6     600\n21110    20170614  CS018205000001  P050206001         5     990\n68117    20190226  CS018205000001  P071401020         1    2200\n72254    20180911  CS018205000001  P071401005         1    1100",
      "text/html": "<div>\n<style scoped>\n    .dataframe tbody tr th:only-of-type {\n        vertical-align: middle;\n    }\n\n    .dataframe tbody tr th {\n        vertical-align: top;\n    }\n\n    .dataframe thead th {\n        text-align: right;\n    }\n</style>\n<table border=\"1\" class=\"dataframe\">\n  <thead>\n    <tr style=\"text-align: right;\">\n      <th></th>\n      <th>sales_date</th>\n      <th>customer_id</th>\n      <th>product_cd</th>\n      <th>quantity</th>\n      <th>amount</th>\n    </tr>\n  </thead>\n  <tbody>\n    <tr>\n      <th>36</th>\n      <td>20180911</td>\n      <td>CS018205000001</td>\n      <td>P071401012</td>\n      <td>1</td>\n      <td>2200</td>\n    </tr>\n    <tr>\n      <th>9843</th>\n      <td>20180414</td>\n      <td>CS018205000001</td>\n      <td>P060104007</td>\n      <td>6</td>\n      <td>600</td>\n    </tr>\n    <tr>\n      <th>21110</th>\n      <td>20170614</td>\n      <td>CS018205000001</td>\n      <td>P050206001</td>\n      <td>5</td>\n      <td>990</td>\n    </tr>\n    <tr>\n      <th>68117</th>\n      <td>20190226</td>\n      <td>CS018205000001</td>\n      <td>P071401020</td>\n      <td>1</td>\n      <td>2200</td>\n    </tr>\n    <tr>\n      <th>72254</th>\n      <td>20180911</td>\n      <td>CS018205000001</td>\n      <td>P071401005</td>\n      <td>1</td>\n      <td>1100</td>\n    </tr>\n  </tbody>\n</table>\n</div>"
     },
     "execution_count": 16,
     "metadata": {},
     "output_type": "execute_result"
    }
   ],
   "source": [
    "new_df = df_receipt[(df_receipt['customer_id'] == 'CS018205000001') & \n",
    "                         ((df_receipt['amount'] >= 1000) | (df_receipt['quantity'] >= 5))]\n",
    "\n",
    "result_df = new_df[['sales_date', 'customer_id', 'product_cd', 'quantity', 'amount']]\n",
    "result_df"
   ]
  },
  {
   "cell_type": "markdown",
   "metadata": {},
   "source": [
    "---\n",
    "> P-007: From the receipt details data (df_receipt), specify the columns in the order of sales date (sales_ymd), customer ID (customer_id), product code (product_cd), and sales amount (amount), and extract the data that meets all of the following conditions:\n",
    "> * The customer ID (customer_id) is \"CS018205000001\".\n",
    "> * The sales amount (amount) is 1,000 or more and 2,000 or less."
   ]
  },
  {
   "cell_type": "code",
   "execution_count": 14,
   "metadata": {
    "ExecuteTime": {
     "end_time": "2024-09-05T13:10:47.248482600Z",
     "start_time": "2024-09-05T13:10:47.209698700Z"
    }
   },
   "outputs": [
    {
     "data": {
      "text/plain": "       sales_date  sales_epoch store_cd  receipt_no  receipt_sub_no  \\\n72254    20180911   1536624000   S13018        1122               1   \n\n          customer_id  product_cd  quantity  amount  \n72254  CS018205000001  P071401005         1    1100  ",
      "text/html": "<div>\n<style scoped>\n    .dataframe tbody tr th:only-of-type {\n        vertical-align: middle;\n    }\n\n    .dataframe tbody tr th {\n        vertical-align: top;\n    }\n\n    .dataframe thead th {\n        text-align: right;\n    }\n</style>\n<table border=\"1\" class=\"dataframe\">\n  <thead>\n    <tr style=\"text-align: right;\">\n      <th></th>\n      <th>sales_date</th>\n      <th>sales_epoch</th>\n      <th>store_cd</th>\n      <th>receipt_no</th>\n      <th>receipt_sub_no</th>\n      <th>customer_id</th>\n      <th>product_cd</th>\n      <th>quantity</th>\n      <th>amount</th>\n    </tr>\n  </thead>\n  <tbody>\n    <tr>\n      <th>72254</th>\n      <td>20180911</td>\n      <td>1536624000</td>\n      <td>S13018</td>\n      <td>1122</td>\n      <td>1</td>\n      <td>CS018205000001</td>\n      <td>P071401005</td>\n      <td>1</td>\n      <td>1100</td>\n    </tr>\n  </tbody>\n</table>\n</div>"
     },
     "execution_count": 14,
     "metadata": {},
     "output_type": "execute_result"
    }
   ],
   "source": [
    "# OPTION 1: Use Bitwise\n",
    "df_receipt[(df_receipt['customer_id'] == 'CS018205000001') & (1000 < df_receipt['amount']) &  (df_receipt['amount']< 2000)]"
   ]
  },
  {
   "cell_type": "code",
   "execution_count": 15,
   "outputs": [
    {
     "data": {
      "text/plain": "       sales_date  sales_epoch store_cd  receipt_no  receipt_sub_no  \\\n72254    20180911   1536624000   S13018        1122               1   \n\n          customer_id  product_cd  quantity  amount  \n72254  CS018205000001  P071401005         1    1100  ",
      "text/html": "<div>\n<style scoped>\n    .dataframe tbody tr th:only-of-type {\n        vertical-align: middle;\n    }\n\n    .dataframe tbody tr th {\n        vertical-align: top;\n    }\n\n    .dataframe thead th {\n        text-align: right;\n    }\n</style>\n<table border=\"1\" class=\"dataframe\">\n  <thead>\n    <tr style=\"text-align: right;\">\n      <th></th>\n      <th>sales_date</th>\n      <th>sales_epoch</th>\n      <th>store_cd</th>\n      <th>receipt_no</th>\n      <th>receipt_sub_no</th>\n      <th>customer_id</th>\n      <th>product_cd</th>\n      <th>quantity</th>\n      <th>amount</th>\n    </tr>\n  </thead>\n  <tbody>\n    <tr>\n      <th>72254</th>\n      <td>20180911</td>\n      <td>1536624000</td>\n      <td>S13018</td>\n      <td>1122</td>\n      <td>1</td>\n      <td>CS018205000001</td>\n      <td>P071401005</td>\n      <td>1</td>\n      <td>1100</td>\n    </tr>\n  </tbody>\n</table>\n</div>"
     },
     "execution_count": 15,
     "metadata": {},
     "output_type": "execute_result"
    }
   ],
   "source": [
    "# OPTION 2: Use df.between(1001,1999) ([1001,1999])\n",
    "df_receipt[(df_receipt['customer_id'] == 'CS018205000001') & (df_receipt['amount']).between(1001, 1999)]"
   ],
   "metadata": {
    "collapsed": false,
    "ExecuteTime": {
     "end_time": "2024-09-05T13:10:49.440714400Z",
     "start_time": "2024-09-05T13:10:49.415026100Z"
    }
   }
  },
  {
   "cell_type": "markdown",
   "metadata": {},
   "source": [
    "---\n",
    "> P-008: From the receipt details data (df_receipt), specify the columns in the order of sales date (sales_ymd), customer ID (customer_id), product code (product_cd), and sales amount (amount), and extract the data that meets all of the following conditions:\n",
    "> * The customer ID (customer_id) is \"CS018205000001\".\n",
    "> * The product code (product_cd) is not \"P071401019\"."
   ]
  },
  {
   "cell_type": "code",
   "execution_count": null,
   "metadata": {
    "ExecuteTime": {
     "start_time": "2024-09-05T13:10:24.359026900Z"
    }
   },
   "outputs": [],
   "source": [
    "new_df = df_receipt[(df_receipt['customer_id'] == 'CS018205000001') & (df_receipt['product_cd'] != 'P071401019')]\n",
    "result_df = new_df[['sales_ymd', 'customer_id', 'product_cd', 'amount']]\n",
    "result_df"
   ]
  },
  {
   "cell_type": "markdown",
   "source": [],
   "metadata": {
    "collapsed": false
   }
  },
  {
   "cell_type": "markdown",
   "metadata": {},
   "source": [
    "---\n",
    "> P-009: Rewrite the following process without changing the output results, replacing the OR condition with AND.\n",
    "> \n",
    "> `df_store.query('not(prefecture_cd == \"13\" | floor_area > 900)')`"
   ]
  },
  {
   "cell_type": "code",
   "execution_count": null,
   "metadata": {
    "ExecuteTime": {
     "start_time": "2024-09-05T13:10:24.362029500Z"
    }
   },
   "outputs": [],
   "source": [
    "df_store.query('prefecture_cd != \"13\" & floor_area <= 900')"
   ]
  },
  {
   "cell_type": "code",
   "execution_count": null,
   "outputs": [],
   "source": [
    "df_store.query('~(prefecture_cd == \"13\") & ~(floor_area > 900)')"
   ],
   "metadata": {
    "collapsed": false,
    "ExecuteTime": {
     "start_time": "2024-09-05T13:10:24.364026500Z"
    }
   }
  },
  {
   "cell_type": "markdown",
   "metadata": {},
   "source": [
    "---\n",
    "> P-010: From the store data (df_store), extract and display 10 rows of all items where the store code (store_cd) starts with \"S14\"."
   ]
  },
  {
   "cell_type": "code",
   "execution_count": 17,
   "metadata": {
    "ExecuteTime": {
     "end_time": "2024-09-05T13:11:03.812787500Z",
     "start_time": "2024-09-05T13:11:03.785867300Z"
    }
   },
   "outputs": [
    {
     "data": {
      "text/plain": "   store_cd store_name prefecture_cd prefecture              address  \\\n2    S14010        菊名店            14       神奈川県      神奈川県横浜市港北区菊名一丁目   \n3    S14033       阿久和店            14       神奈川県    神奈川県横浜市瀬谷区阿久和西一丁目   \n4    S14036     相模原中央店            14       神奈川県        神奈川県相模原市中央二丁目   \n7    S14040       長津田店            14       神奈川県  神奈川県横浜市緑区長津田みなみ台五丁目   \n9    S14050      阿久和西店            14       神奈川県    神奈川県横浜市瀬谷区阿久和西一丁目   \n12   S14028       二ツ橋店            14       神奈川県       神奈川県横浜市瀬谷区二ツ橋町   \n16   S14012      本牧和田店            14       神奈川県        神奈川県横浜市中区本牧和田   \n18   S14046       北山田店            14       神奈川県     神奈川県横浜市都筑区北山田一丁目   \n19   S14022        逗子店            14       神奈川県         神奈川県逗子市逗子一丁目   \n20   S14011      日吉本町店            14       神奈川県    神奈川県横浜市港北区日吉本町四丁目   \n\n                      address_kana        tel_no  longitude  latitude  \\\n2        カナガワケンヨコハマシコウホククキクナイッチョウメ  045-123-4032   139.6326  35.50049   \n3        カナガワケンヨコハマシセヤクアクワニシイッチョウメ  045-123-4043   139.4961  35.45918   \n4           カナガワケンサガミハラシチュウオウニチョウメ  042-123-4045   139.3716  35.57327   \n7    カナガワケンヨコハマシミドリクナガツタミナミダイゴチョウメ  045-123-4046   139.4994  35.52398   \n9        カナガワケンヨコハマシセヤクアクワニシイッチョウメ  045-123-4053   139.4961  35.45918   \n12          カナガワケンヨコハマシセヤクフタツバシチョウ  045-123-4042   139.4963  35.46304   \n16            カナガワケンヨコハマシナカクホンモクワダ  045-123-4034   139.6582  35.42156   \n18      カナガワケンヨコハマシツヅキクキタヤマタイッチョウメ  045-123-4049   139.5916  35.56189   \n19               カナガワケンズシシズシイッチョウメ  046-123-4036   139.5789  35.29642   \n20  カナガワケンヨコハマシコウホククヒヨシホンチョウヨンチョウメ  045-123-4033   139.6316  35.54655   \n\n    floor_area  \n2       1732.0  \n3       1495.0  \n4       1679.0  \n7       1548.0  \n9       1830.0  \n12      1574.0  \n16      1341.0  \n18       831.0  \n19      1838.0  \n20       890.0  ",
      "text/html": "<div>\n<style scoped>\n    .dataframe tbody tr th:only-of-type {\n        vertical-align: middle;\n    }\n\n    .dataframe tbody tr th {\n        vertical-align: top;\n    }\n\n    .dataframe thead th {\n        text-align: right;\n    }\n</style>\n<table border=\"1\" class=\"dataframe\">\n  <thead>\n    <tr style=\"text-align: right;\">\n      <th></th>\n      <th>store_cd</th>\n      <th>store_name</th>\n      <th>prefecture_cd</th>\n      <th>prefecture</th>\n      <th>address</th>\n      <th>address_kana</th>\n      <th>tel_no</th>\n      <th>longitude</th>\n      <th>latitude</th>\n      <th>floor_area</th>\n    </tr>\n  </thead>\n  <tbody>\n    <tr>\n      <th>2</th>\n      <td>S14010</td>\n      <td>菊名店</td>\n      <td>14</td>\n      <td>神奈川県</td>\n      <td>神奈川県横浜市港北区菊名一丁目</td>\n      <td>カナガワケンヨコハマシコウホククキクナイッチョウメ</td>\n      <td>045-123-4032</td>\n      <td>139.6326</td>\n      <td>35.50049</td>\n      <td>1732.0</td>\n    </tr>\n    <tr>\n      <th>3</th>\n      <td>S14033</td>\n      <td>阿久和店</td>\n      <td>14</td>\n      <td>神奈川県</td>\n      <td>神奈川県横浜市瀬谷区阿久和西一丁目</td>\n      <td>カナガワケンヨコハマシセヤクアクワニシイッチョウメ</td>\n      <td>045-123-4043</td>\n      <td>139.4961</td>\n      <td>35.45918</td>\n      <td>1495.0</td>\n    </tr>\n    <tr>\n      <th>4</th>\n      <td>S14036</td>\n      <td>相模原中央店</td>\n      <td>14</td>\n      <td>神奈川県</td>\n      <td>神奈川県相模原市中央二丁目</td>\n      <td>カナガワケンサガミハラシチュウオウニチョウメ</td>\n      <td>042-123-4045</td>\n      <td>139.3716</td>\n      <td>35.57327</td>\n      <td>1679.0</td>\n    </tr>\n    <tr>\n      <th>7</th>\n      <td>S14040</td>\n      <td>長津田店</td>\n      <td>14</td>\n      <td>神奈川県</td>\n      <td>神奈川県横浜市緑区長津田みなみ台五丁目</td>\n      <td>カナガワケンヨコハマシミドリクナガツタミナミダイゴチョウメ</td>\n      <td>045-123-4046</td>\n      <td>139.4994</td>\n      <td>35.52398</td>\n      <td>1548.0</td>\n    </tr>\n    <tr>\n      <th>9</th>\n      <td>S14050</td>\n      <td>阿久和西店</td>\n      <td>14</td>\n      <td>神奈川県</td>\n      <td>神奈川県横浜市瀬谷区阿久和西一丁目</td>\n      <td>カナガワケンヨコハマシセヤクアクワニシイッチョウメ</td>\n      <td>045-123-4053</td>\n      <td>139.4961</td>\n      <td>35.45918</td>\n      <td>1830.0</td>\n    </tr>\n    <tr>\n      <th>12</th>\n      <td>S14028</td>\n      <td>二ツ橋店</td>\n      <td>14</td>\n      <td>神奈川県</td>\n      <td>神奈川県横浜市瀬谷区二ツ橋町</td>\n      <td>カナガワケンヨコハマシセヤクフタツバシチョウ</td>\n      <td>045-123-4042</td>\n      <td>139.4963</td>\n      <td>35.46304</td>\n      <td>1574.0</td>\n    </tr>\n    <tr>\n      <th>16</th>\n      <td>S14012</td>\n      <td>本牧和田店</td>\n      <td>14</td>\n      <td>神奈川県</td>\n      <td>神奈川県横浜市中区本牧和田</td>\n      <td>カナガワケンヨコハマシナカクホンモクワダ</td>\n      <td>045-123-4034</td>\n      <td>139.6582</td>\n      <td>35.42156</td>\n      <td>1341.0</td>\n    </tr>\n    <tr>\n      <th>18</th>\n      <td>S14046</td>\n      <td>北山田店</td>\n      <td>14</td>\n      <td>神奈川県</td>\n      <td>神奈川県横浜市都筑区北山田一丁目</td>\n      <td>カナガワケンヨコハマシツヅキクキタヤマタイッチョウメ</td>\n      <td>045-123-4049</td>\n      <td>139.5916</td>\n      <td>35.56189</td>\n      <td>831.0</td>\n    </tr>\n    <tr>\n      <th>19</th>\n      <td>S14022</td>\n      <td>逗子店</td>\n      <td>14</td>\n      <td>神奈川県</td>\n      <td>神奈川県逗子市逗子一丁目</td>\n      <td>カナガワケンズシシズシイッチョウメ</td>\n      <td>046-123-4036</td>\n      <td>139.5789</td>\n      <td>35.29642</td>\n      <td>1838.0</td>\n    </tr>\n    <tr>\n      <th>20</th>\n      <td>S14011</td>\n      <td>日吉本町店</td>\n      <td>14</td>\n      <td>神奈川県</td>\n      <td>神奈川県横浜市港北区日吉本町四丁目</td>\n      <td>カナガワケンヨコハマシコウホククヒヨシホンチョウヨンチョウメ</td>\n      <td>045-123-4033</td>\n      <td>139.6316</td>\n      <td>35.54655</td>\n      <td>890.0</td>\n    </tr>\n  </tbody>\n</table>\n</div>"
     },
     "execution_count": 17,
     "metadata": {},
     "output_type": "execute_result"
    }
   ],
   "source": [
    "df_store[df_store['store_cd'].str.startswith('S14')].head(10)"
   ]
  },
  {
   "cell_type": "markdown",
   "metadata": {},
   "source": [
    "---\n",
    "> P-011: From the customer data (df_customer), extract and display 10 rows of all items where the customer ID (customer_id) ends with \"01\"."
   ]
  },
  {
   "cell_type": "code",
   "execution_count": 20,
   "metadata": {
    "ExecuteTime": {
     "end_time": "2024-09-05T13:13:54.440595900Z",
     "start_time": "2024-09-05T13:13:54.380726900Z"
    }
   },
   "outputs": [
    {
     "data": {
      "text/plain": "        customer_id customer_name gender_cd gender   birth_day  age postal_cd  \\\n3    CS028811000001        堀井 かおり         1     女性  1933-03-27   86  245-0016   \n74   CS041515000001         栗田 千夏         1     女性  1967-01-02   52  206-0001   \n141  CS003512000601         倉本 季衣         1     女性  1967-01-06   52  214-0013   \n170  CS001413000601         大塚 奈央         1     女性  1971-11-04   47  144-0035   \n374  CS037315000101        安部 たまき         9     不明  1981-09-21   37  135-0012   \n387  CS038802000001         草村 雅之         0     男性  1935-08-16   83  132-0015   \n422  CS006605000001        佐久間 信吾         0     男性  1954-08-21   64  224-0057   \n540  CS011612000101        渡部 あや子         1     女性  1949-04-11   69  211-0025   \n555  CS003415000301         小杉 芽以         1     女性  1972-05-15   46  182-0023   \n579  CS038515000001         長尾 千夏         1     女性  1963-06-30   55  279-0042   \n\n                      address application_store_cd  application_date  \\\n3      神奈川県横浜市泉区和泉町**********               S14028          20160115   \n74         東京都多摩市和田**********               S13041          20160422   \n141  神奈川県川崎市多摩区登戸新町**********               S13003          20171013   \n170       東京都大田区南蒲田**********               S13001          20171010   \n374        東京都江東区海辺**********               S13037          20160115   \n387      東京都江戸川区西瑞江**********               S13038          20150901   \n422   神奈川県横浜市都筑区川和町**********               S14006          20150513   \n540    神奈川県川崎市中原区木月**********               S14011          20150711   \n555        東京都調布市染地**********               S13003          20160221   \n579        千葉県浦安市東野**********               S13038          20150310   \n\n        status_cd  \n3    0-00000000-0  \n74   E-20100803-F  \n141  0-00000000-0  \n170  0-00000000-0  \n374  6-20090214-4  \n387  7-20091101-6  \n422  C-20100618-D  \n540  0-00000000-0  \n555  9-20090820-B  \n579  B-20100905-B  ",
      "text/html": "<div>\n<style scoped>\n    .dataframe tbody tr th:only-of-type {\n        vertical-align: middle;\n    }\n\n    .dataframe tbody tr th {\n        vertical-align: top;\n    }\n\n    .dataframe thead th {\n        text-align: right;\n    }\n</style>\n<table border=\"1\" class=\"dataframe\">\n  <thead>\n    <tr style=\"text-align: right;\">\n      <th></th>\n      <th>customer_id</th>\n      <th>customer_name</th>\n      <th>gender_cd</th>\n      <th>gender</th>\n      <th>birth_day</th>\n      <th>age</th>\n      <th>postal_cd</th>\n      <th>address</th>\n      <th>application_store_cd</th>\n      <th>application_date</th>\n      <th>status_cd</th>\n    </tr>\n  </thead>\n  <tbody>\n    <tr>\n      <th>3</th>\n      <td>CS028811000001</td>\n      <td>堀井 かおり</td>\n      <td>1</td>\n      <td>女性</td>\n      <td>1933-03-27</td>\n      <td>86</td>\n      <td>245-0016</td>\n      <td>神奈川県横浜市泉区和泉町**********</td>\n      <td>S14028</td>\n      <td>20160115</td>\n      <td>0-00000000-0</td>\n    </tr>\n    <tr>\n      <th>74</th>\n      <td>CS041515000001</td>\n      <td>栗田 千夏</td>\n      <td>1</td>\n      <td>女性</td>\n      <td>1967-01-02</td>\n      <td>52</td>\n      <td>206-0001</td>\n      <td>東京都多摩市和田**********</td>\n      <td>S13041</td>\n      <td>20160422</td>\n      <td>E-20100803-F</td>\n    </tr>\n    <tr>\n      <th>141</th>\n      <td>CS003512000601</td>\n      <td>倉本 季衣</td>\n      <td>1</td>\n      <td>女性</td>\n      <td>1967-01-06</td>\n      <td>52</td>\n      <td>214-0013</td>\n      <td>神奈川県川崎市多摩区登戸新町**********</td>\n      <td>S13003</td>\n      <td>20171013</td>\n      <td>0-00000000-0</td>\n    </tr>\n    <tr>\n      <th>170</th>\n      <td>CS001413000601</td>\n      <td>大塚 奈央</td>\n      <td>1</td>\n      <td>女性</td>\n      <td>1971-11-04</td>\n      <td>47</td>\n      <td>144-0035</td>\n      <td>東京都大田区南蒲田**********</td>\n      <td>S13001</td>\n      <td>20171010</td>\n      <td>0-00000000-0</td>\n    </tr>\n    <tr>\n      <th>374</th>\n      <td>CS037315000101</td>\n      <td>安部 たまき</td>\n      <td>9</td>\n      <td>不明</td>\n      <td>1981-09-21</td>\n      <td>37</td>\n      <td>135-0012</td>\n      <td>東京都江東区海辺**********</td>\n      <td>S13037</td>\n      <td>20160115</td>\n      <td>6-20090214-4</td>\n    </tr>\n    <tr>\n      <th>387</th>\n      <td>CS038802000001</td>\n      <td>草村 雅之</td>\n      <td>0</td>\n      <td>男性</td>\n      <td>1935-08-16</td>\n      <td>83</td>\n      <td>132-0015</td>\n      <td>東京都江戸川区西瑞江**********</td>\n      <td>S13038</td>\n      <td>20150901</td>\n      <td>7-20091101-6</td>\n    </tr>\n    <tr>\n      <th>422</th>\n      <td>CS006605000001</td>\n      <td>佐久間 信吾</td>\n      <td>0</td>\n      <td>男性</td>\n      <td>1954-08-21</td>\n      <td>64</td>\n      <td>224-0057</td>\n      <td>神奈川県横浜市都筑区川和町**********</td>\n      <td>S14006</td>\n      <td>20150513</td>\n      <td>C-20100618-D</td>\n    </tr>\n    <tr>\n      <th>540</th>\n      <td>CS011612000101</td>\n      <td>渡部 あや子</td>\n      <td>1</td>\n      <td>女性</td>\n      <td>1949-04-11</td>\n      <td>69</td>\n      <td>211-0025</td>\n      <td>神奈川県川崎市中原区木月**********</td>\n      <td>S14011</td>\n      <td>20150711</td>\n      <td>0-00000000-0</td>\n    </tr>\n    <tr>\n      <th>555</th>\n      <td>CS003415000301</td>\n      <td>小杉 芽以</td>\n      <td>1</td>\n      <td>女性</td>\n      <td>1972-05-15</td>\n      <td>46</td>\n      <td>182-0023</td>\n      <td>東京都調布市染地**********</td>\n      <td>S13003</td>\n      <td>20160221</td>\n      <td>9-20090820-B</td>\n    </tr>\n    <tr>\n      <th>579</th>\n      <td>CS038515000001</td>\n      <td>長尾 千夏</td>\n      <td>1</td>\n      <td>女性</td>\n      <td>1963-06-30</td>\n      <td>55</td>\n      <td>279-0042</td>\n      <td>千葉県浦安市東野**********</td>\n      <td>S13038</td>\n      <td>20150310</td>\n      <td>B-20100905-B</td>\n    </tr>\n  </tbody>\n</table>\n</div>"
     },
     "execution_count": 20,
     "metadata": {},
     "output_type": "execute_result"
    }
   ],
   "source": [
    "df_customer[df_customer['customer_id'].str.endswith('01')].head(10)"
   ]
  },
  {
   "cell_type": "markdown",
   "metadata": {},
   "source": [
    "---\n",
    "> P-012: From the store data (df_store), display all items that include \"Yokohama City\" in the address (address)."
   ]
  },
  {
   "cell_type": "code",
   "execution_count": 22,
   "metadata": {
    "ExecuteTime": {
     "end_time": "2024-09-05T13:15:22.054897400Z",
     "start_time": "2024-09-05T13:15:22.018122Z"
    }
   },
   "outputs": [
    {
     "data": {
      "text/plain": "Empty DataFrame\nColumns: [store_cd, store_name, prefecture_cd, prefecture, address, address_kana, tel_no, longitude, latitude, floor_area]\nIndex: []",
      "text/html": "<div>\n<style scoped>\n    .dataframe tbody tr th:only-of-type {\n        vertical-align: middle;\n    }\n\n    .dataframe tbody tr th {\n        vertical-align: top;\n    }\n\n    .dataframe thead th {\n        text-align: right;\n    }\n</style>\n<table border=\"1\" class=\"dataframe\">\n  <thead>\n    <tr style=\"text-align: right;\">\n      <th></th>\n      <th>store_cd</th>\n      <th>store_name</th>\n      <th>prefecture_cd</th>\n      <th>prefecture</th>\n      <th>address</th>\n      <th>address_kana</th>\n      <th>tel_no</th>\n      <th>longitude</th>\n      <th>latitude</th>\n      <th>floor_area</th>\n    </tr>\n  </thead>\n  <tbody>\n  </tbody>\n</table>\n</div>"
     },
     "execution_count": 22,
     "metadata": {},
     "output_type": "execute_result"
    }
   ],
   "source": [
    "df_store[df_store['address'].str.contains('Yokohama City', case=False)]"
   ]
  },
  {
   "cell_type": "code",
   "execution_count": 23,
   "outputs": [
    {
     "data": {
      "text/plain": "Empty DataFrame\nColumns: [store_cd, store_name, prefecture_cd, prefecture, address, address_kana, tel_no, longitude, latitude, floor_area]\nIndex: []",
      "text/html": "<div>\n<style scoped>\n    .dataframe tbody tr th:only-of-type {\n        vertical-align: middle;\n    }\n\n    .dataframe tbody tr th {\n        vertical-align: top;\n    }\n\n    .dataframe thead th {\n        text-align: right;\n    }\n</style>\n<table border=\"1\" class=\"dataframe\">\n  <thead>\n    <tr style=\"text-align: right;\">\n      <th></th>\n      <th>store_cd</th>\n      <th>store_name</th>\n      <th>prefecture_cd</th>\n      <th>prefecture</th>\n      <th>address</th>\n      <th>address_kana</th>\n      <th>tel_no</th>\n      <th>longitude</th>\n      <th>latitude</th>\n      <th>floor_area</th>\n    </tr>\n  </thead>\n  <tbody>\n  </tbody>\n</table>\n</div>"
     },
     "execution_count": 23,
     "metadata": {},
     "output_type": "execute_result"
    }
   ],
   "source": [
    "df_store[df_store['address'].str.contains('Yokohama City', case=True)]"
   ],
   "metadata": {
    "collapsed": false,
    "ExecuteTime": {
     "end_time": "2024-09-05T13:15:29.802364Z",
     "start_time": "2024-09-05T13:15:29.760377100Z"
    }
   }
  },
  {
   "cell_type": "markdown",
   "metadata": {},
   "source": [
    "---\n",
    "> P-013: From the customer data (df_customer), extract and display 10 rows of all items where the status code (status_cd) starts with an alphabet from A to F."
   ]
  },
  {
   "cell_type": "code",
   "execution_count": 34,
   "metadata": {
    "ExecuteTime": {
     "end_time": "2024-09-05T13:21:30.189945700Z",
     "start_time": "2024-09-05T13:21:30.122219Z"
    }
   },
   "outputs": [
    {
     "data": {
      "text/plain": "       customer_id customer_name gender_cd gender   birth_day  age postal_cd  \\\n2   CS031415000172       宇多田 貴美子         1     女性  1976-10-04   42  151-0053   \n6   CS015414000103         奥野 陽子         1     女性  1977-08-09   41  136-0073   \n12  CS011215000048         芦田 沙耶         1     女性  1992-02-01   27  223-0062   \n15  CS029415000023         梅田 里穂         1     女性  1976-01-17   43  279-0043   \n21  CS035415000029         寺沢 真希         9     不明  1977-09-27   41  158-0096   \n32  CS031415000106        宇野 由美子         1     女性  1970-02-26   49  151-0053   \n33  CS029215000025         石倉 美帆         1     女性  1993-09-28   25  279-0022   \n40  CS033605000005         猪股 雄太         0     男性  1955-12-05   63  246-0031   \n44  CS033415000229        板垣 菜々美         1     女性  1977-11-07   41  246-0021   \n53  CS008415000145         黒谷 麻緒         1     女性  1977-06-27   41  157-0067   \n\n                     address application_store_cd  application_date  \\\n2        東京都渋谷区代々木**********               S13031          20150529   \n6         東京都江東区北砂**********               S13015          20150722   \n12  神奈川県横浜市港北区日吉本町**********               S14011          20150228   \n15       千葉県浦安市富士見**********               S12029          20150610   \n21      東京都世田谷区玉川台**********               S13035          20141220   \n32       東京都渋谷区代々木**********               S13031          20150201   \n33        千葉県浦安市今川**********               S12029          20150708   \n40    神奈川県横浜市瀬谷区瀬谷**********               S14033          20150425   \n44  神奈川県横浜市瀬谷区二ツ橋町**********               S14033          20150712   \n53      東京都世田谷区喜多見**********               S13008          20150829   \n\n       status_cd  \n2   D-20100325-C  \n6   B-20100609-B  \n12  C-20100421-9  \n15  D-20100918-E  \n21  F-20101029-F  \n32  F-20100511-E  \n33  B-20100820-C  \n40  F-20100917-E  \n44  F-20100326-E  \n53  F-20100622-F  ",
      "text/html": "<div>\n<style scoped>\n    .dataframe tbody tr th:only-of-type {\n        vertical-align: middle;\n    }\n\n    .dataframe tbody tr th {\n        vertical-align: top;\n    }\n\n    .dataframe thead th {\n        text-align: right;\n    }\n</style>\n<table border=\"1\" class=\"dataframe\">\n  <thead>\n    <tr style=\"text-align: right;\">\n      <th></th>\n      <th>customer_id</th>\n      <th>customer_name</th>\n      <th>gender_cd</th>\n      <th>gender</th>\n      <th>birth_day</th>\n      <th>age</th>\n      <th>postal_cd</th>\n      <th>address</th>\n      <th>application_store_cd</th>\n      <th>application_date</th>\n      <th>status_cd</th>\n    </tr>\n  </thead>\n  <tbody>\n    <tr>\n      <th>2</th>\n      <td>CS031415000172</td>\n      <td>宇多田 貴美子</td>\n      <td>1</td>\n      <td>女性</td>\n      <td>1976-10-04</td>\n      <td>42</td>\n      <td>151-0053</td>\n      <td>東京都渋谷区代々木**********</td>\n      <td>S13031</td>\n      <td>20150529</td>\n      <td>D-20100325-C</td>\n    </tr>\n    <tr>\n      <th>6</th>\n      <td>CS015414000103</td>\n      <td>奥野 陽子</td>\n      <td>1</td>\n      <td>女性</td>\n      <td>1977-08-09</td>\n      <td>41</td>\n      <td>136-0073</td>\n      <td>東京都江東区北砂**********</td>\n      <td>S13015</td>\n      <td>20150722</td>\n      <td>B-20100609-B</td>\n    </tr>\n    <tr>\n      <th>12</th>\n      <td>CS011215000048</td>\n      <td>芦田 沙耶</td>\n      <td>1</td>\n      <td>女性</td>\n      <td>1992-02-01</td>\n      <td>27</td>\n      <td>223-0062</td>\n      <td>神奈川県横浜市港北区日吉本町**********</td>\n      <td>S14011</td>\n      <td>20150228</td>\n      <td>C-20100421-9</td>\n    </tr>\n    <tr>\n      <th>15</th>\n      <td>CS029415000023</td>\n      <td>梅田 里穂</td>\n      <td>1</td>\n      <td>女性</td>\n      <td>1976-01-17</td>\n      <td>43</td>\n      <td>279-0043</td>\n      <td>千葉県浦安市富士見**********</td>\n      <td>S12029</td>\n      <td>20150610</td>\n      <td>D-20100918-E</td>\n    </tr>\n    <tr>\n      <th>21</th>\n      <td>CS035415000029</td>\n      <td>寺沢 真希</td>\n      <td>9</td>\n      <td>不明</td>\n      <td>1977-09-27</td>\n      <td>41</td>\n      <td>158-0096</td>\n      <td>東京都世田谷区玉川台**********</td>\n      <td>S13035</td>\n      <td>20141220</td>\n      <td>F-20101029-F</td>\n    </tr>\n    <tr>\n      <th>32</th>\n      <td>CS031415000106</td>\n      <td>宇野 由美子</td>\n      <td>1</td>\n      <td>女性</td>\n      <td>1970-02-26</td>\n      <td>49</td>\n      <td>151-0053</td>\n      <td>東京都渋谷区代々木**********</td>\n      <td>S13031</td>\n      <td>20150201</td>\n      <td>F-20100511-E</td>\n    </tr>\n    <tr>\n      <th>33</th>\n      <td>CS029215000025</td>\n      <td>石倉 美帆</td>\n      <td>1</td>\n      <td>女性</td>\n      <td>1993-09-28</td>\n      <td>25</td>\n      <td>279-0022</td>\n      <td>千葉県浦安市今川**********</td>\n      <td>S12029</td>\n      <td>20150708</td>\n      <td>B-20100820-C</td>\n    </tr>\n    <tr>\n      <th>40</th>\n      <td>CS033605000005</td>\n      <td>猪股 雄太</td>\n      <td>0</td>\n      <td>男性</td>\n      <td>1955-12-05</td>\n      <td>63</td>\n      <td>246-0031</td>\n      <td>神奈川県横浜市瀬谷区瀬谷**********</td>\n      <td>S14033</td>\n      <td>20150425</td>\n      <td>F-20100917-E</td>\n    </tr>\n    <tr>\n      <th>44</th>\n      <td>CS033415000229</td>\n      <td>板垣 菜々美</td>\n      <td>1</td>\n      <td>女性</td>\n      <td>1977-11-07</td>\n      <td>41</td>\n      <td>246-0021</td>\n      <td>神奈川県横浜市瀬谷区二ツ橋町**********</td>\n      <td>S14033</td>\n      <td>20150712</td>\n      <td>F-20100326-E</td>\n    </tr>\n    <tr>\n      <th>53</th>\n      <td>CS008415000145</td>\n      <td>黒谷 麻緒</td>\n      <td>1</td>\n      <td>女性</td>\n      <td>1977-06-27</td>\n      <td>41</td>\n      <td>157-0067</td>\n      <td>東京都世田谷区喜多見**********</td>\n      <td>S13008</td>\n      <td>20150829</td>\n      <td>F-20100622-F</td>\n    </tr>\n  </tbody>\n</table>\n</div>"
     },
     "execution_count": 34,
     "metadata": {},
     "output_type": "execute_result"
    }
   ],
   "source": [
    "df_customer[df_customer['status_cd'].str.match('^[A-F]', case=False)].head(10)"
   ]
  },
  {
   "cell_type": "markdown",
   "metadata": {},
   "source": [
    "---\n",
    "> P-014: From the customer data (df_customer), extract and display 10 rows of all items where the status code (status_cd) ends with a number from 1 to 9."
   ]
  },
  {
   "cell_type": "code",
   "execution_count": 37,
   "metadata": {
    "ExecuteTime": {
     "end_time": "2024-09-05T13:23:32.016162400Z",
     "start_time": "2024-09-05T13:23:31.984283700Z"
    }
   },
   "outputs": [
    {
     "data": {
      "text/plain": "Empty DataFrame\nColumns: [customer_id, customer_name, gender_cd, gender, birth_day, age, postal_cd, address, application_store_cd, application_date, status_cd]\nIndex: []",
      "text/html": "<div>\n<style scoped>\n    .dataframe tbody tr th:only-of-type {\n        vertical-align: middle;\n    }\n\n    .dataframe tbody tr th {\n        vertical-align: top;\n    }\n\n    .dataframe thead th {\n        text-align: right;\n    }\n</style>\n<table border=\"1\" class=\"dataframe\">\n  <thead>\n    <tr style=\"text-align: right;\">\n      <th></th>\n      <th>customer_id</th>\n      <th>customer_name</th>\n      <th>gender_cd</th>\n      <th>gender</th>\n      <th>birth_day</th>\n      <th>age</th>\n      <th>postal_cd</th>\n      <th>address</th>\n      <th>application_store_cd</th>\n      <th>application_date</th>\n      <th>status_cd</th>\n    </tr>\n  </thead>\n  <tbody>\n  </tbody>\n</table>\n</div>"
     },
     "execution_count": 37,
     "metadata": {},
     "output_type": "execute_result"
    }
   ],
   "source": [
    "df_customer[df_customer['status_cd'].str.match('[1-9]$', case=False)].head(10)"
   ]
  },
  {
   "cell_type": "markdown",
   "metadata": {},
   "source": [
    "---\n",
    "> P-015: From the customer data (df_customer), extract and display 10 rows of all items where the status code (status_cd) starts with an alphabet from A to F and ends with a number from 1 to 9.\n"
   ]
  },
  {
   "cell_type": "code",
   "execution_count": 35,
   "metadata": {
    "ExecuteTime": {
     "end_time": "2024-09-05T13:23:11.219009Z",
     "start_time": "2024-09-05T13:23:11.185699100Z"
    }
   },
   "outputs": [
    {
     "data": {
      "text/plain": "        customer_id customer_name gender_cd gender   birth_day  age postal_cd  \\\n12   CS011215000048         芦田 沙耶         1     女性  1992-02-01   27  223-0062   \n68   CS022513000105        島村 貴美子         1     女性  1962-03-12   57  249-0002   \n71   CS001515000096         水野 陽子         9     不明  1960-11-29   58  144-0053   \n122  CS013615000053         西脇 季衣         1     女性  1953-10-18   65  261-0026   \n144  CS020412000161          小宮 薫         1     女性  1974-05-21   44  174-0042   \n178  CS001215000097        竹中 あさみ         1     女性  1990-07-25   28  146-0095   \n252  CS035212000007        内村 恵梨香         1     女性  1990-12-04   28  152-0023   \n259  CS002515000386         野田 コウ         1     女性  1963-05-30   55  185-0013   \n293  CS001615000372        稲垣 寿々花         1     女性  1956-10-29   62  144-0035   \n297  CS032512000121         松井 知世         1     女性  1962-09-04   56  210-0011   \n\n                      address application_store_cd  application_date  \\\n12   神奈川県横浜市港北区日吉本町**********               S14011          20150228   \n68       神奈川県逗子市山の根**********               S14022          20150320   \n71       東京都大田区蒲田本町**********               S13001          20150614   \n122    千葉県千葉市美浜区幕張西**********               S12013          20150128   \n144       東京都板橋区東坂下**********               S13020          20150822   \n178       東京都大田区多摩川**********               S13001          20170315   \n252        東京都目黒区八雲**********               S13035          20151013   \n259     東京都国分寺市西恋ケ窪**********               S13002          20160410   \n293       東京都大田区南蒲田**********               S13001          20170403   \n297   神奈川県川崎市川崎区富士見**********               S13032          20150727   \n\n        status_cd  \n12   C-20100421-9  \n68   A-20091115-7  \n71   A-20100724-7  \n122  B-20100329-6  \n144  B-20081021-3  \n178  A-20100211-2  \n252  B-20101018-6  \n259  C-20100127-8  \n293  A-20100104-1  \n297  A-20100103-5  ",
      "text/html": "<div>\n<style scoped>\n    .dataframe tbody tr th:only-of-type {\n        vertical-align: middle;\n    }\n\n    .dataframe tbody tr th {\n        vertical-align: top;\n    }\n\n    .dataframe thead th {\n        text-align: right;\n    }\n</style>\n<table border=\"1\" class=\"dataframe\">\n  <thead>\n    <tr style=\"text-align: right;\">\n      <th></th>\n      <th>customer_id</th>\n      <th>customer_name</th>\n      <th>gender_cd</th>\n      <th>gender</th>\n      <th>birth_day</th>\n      <th>age</th>\n      <th>postal_cd</th>\n      <th>address</th>\n      <th>application_store_cd</th>\n      <th>application_date</th>\n      <th>status_cd</th>\n    </tr>\n  </thead>\n  <tbody>\n    <tr>\n      <th>12</th>\n      <td>CS011215000048</td>\n      <td>芦田 沙耶</td>\n      <td>1</td>\n      <td>女性</td>\n      <td>1992-02-01</td>\n      <td>27</td>\n      <td>223-0062</td>\n      <td>神奈川県横浜市港北区日吉本町**********</td>\n      <td>S14011</td>\n      <td>20150228</td>\n      <td>C-20100421-9</td>\n    </tr>\n    <tr>\n      <th>68</th>\n      <td>CS022513000105</td>\n      <td>島村 貴美子</td>\n      <td>1</td>\n      <td>女性</td>\n      <td>1962-03-12</td>\n      <td>57</td>\n      <td>249-0002</td>\n      <td>神奈川県逗子市山の根**********</td>\n      <td>S14022</td>\n      <td>20150320</td>\n      <td>A-20091115-7</td>\n    </tr>\n    <tr>\n      <th>71</th>\n      <td>CS001515000096</td>\n      <td>水野 陽子</td>\n      <td>9</td>\n      <td>不明</td>\n      <td>1960-11-29</td>\n      <td>58</td>\n      <td>144-0053</td>\n      <td>東京都大田区蒲田本町**********</td>\n      <td>S13001</td>\n      <td>20150614</td>\n      <td>A-20100724-7</td>\n    </tr>\n    <tr>\n      <th>122</th>\n      <td>CS013615000053</td>\n      <td>西脇 季衣</td>\n      <td>1</td>\n      <td>女性</td>\n      <td>1953-10-18</td>\n      <td>65</td>\n      <td>261-0026</td>\n      <td>千葉県千葉市美浜区幕張西**********</td>\n      <td>S12013</td>\n      <td>20150128</td>\n      <td>B-20100329-6</td>\n    </tr>\n    <tr>\n      <th>144</th>\n      <td>CS020412000161</td>\n      <td>小宮 薫</td>\n      <td>1</td>\n      <td>女性</td>\n      <td>1974-05-21</td>\n      <td>44</td>\n      <td>174-0042</td>\n      <td>東京都板橋区東坂下**********</td>\n      <td>S13020</td>\n      <td>20150822</td>\n      <td>B-20081021-3</td>\n    </tr>\n    <tr>\n      <th>178</th>\n      <td>CS001215000097</td>\n      <td>竹中 あさみ</td>\n      <td>1</td>\n      <td>女性</td>\n      <td>1990-07-25</td>\n      <td>28</td>\n      <td>146-0095</td>\n      <td>東京都大田区多摩川**********</td>\n      <td>S13001</td>\n      <td>20170315</td>\n      <td>A-20100211-2</td>\n    </tr>\n    <tr>\n      <th>252</th>\n      <td>CS035212000007</td>\n      <td>内村 恵梨香</td>\n      <td>1</td>\n      <td>女性</td>\n      <td>1990-12-04</td>\n      <td>28</td>\n      <td>152-0023</td>\n      <td>東京都目黒区八雲**********</td>\n      <td>S13035</td>\n      <td>20151013</td>\n      <td>B-20101018-6</td>\n    </tr>\n    <tr>\n      <th>259</th>\n      <td>CS002515000386</td>\n      <td>野田 コウ</td>\n      <td>1</td>\n      <td>女性</td>\n      <td>1963-05-30</td>\n      <td>55</td>\n      <td>185-0013</td>\n      <td>東京都国分寺市西恋ケ窪**********</td>\n      <td>S13002</td>\n      <td>20160410</td>\n      <td>C-20100127-8</td>\n    </tr>\n    <tr>\n      <th>293</th>\n      <td>CS001615000372</td>\n      <td>稲垣 寿々花</td>\n      <td>1</td>\n      <td>女性</td>\n      <td>1956-10-29</td>\n      <td>62</td>\n      <td>144-0035</td>\n      <td>東京都大田区南蒲田**********</td>\n      <td>S13001</td>\n      <td>20170403</td>\n      <td>A-20100104-1</td>\n    </tr>\n    <tr>\n      <th>297</th>\n      <td>CS032512000121</td>\n      <td>松井 知世</td>\n      <td>1</td>\n      <td>女性</td>\n      <td>1962-09-04</td>\n      <td>56</td>\n      <td>210-0011</td>\n      <td>神奈川県川崎市川崎区富士見**********</td>\n      <td>S13032</td>\n      <td>20150727</td>\n      <td>A-20100103-5</td>\n    </tr>\n  </tbody>\n</table>\n</div>"
     },
     "execution_count": 35,
     "metadata": {},
     "output_type": "execute_result"
    }
   ],
   "source": [
    "df_customer[df_customer['status_cd'].str.match('^[A-F].*[1-9]$',case=False)].head(10)"
   ]
  },
  {
   "cell_type": "markdown",
   "metadata": {},
   "source": [
    "---\n",
    "> P-016: From the store data (df_store), display all items where the telephone number (tel_no) starts with 3 digits and ends with 4 digits."
   ]
  },
  {
   "cell_type": "code",
   "execution_count": 42,
   "metadata": {
    "ExecuteTime": {
     "end_time": "2024-09-05T13:31:49.120603400Z",
     "start_time": "2024-09-05T13:31:49.088550600Z"
    }
   },
   "outputs": [
    {
     "data": {
      "text/plain": "   store_cd store_name prefecture_cd prefecture              address  \\\n0    S12014       千草台店            12        千葉県      千葉県千葉市稲毛区千草台一丁目   \n1    S13002       国分寺店            13        東京都         東京都国分寺市本多二丁目   \n2    S14010        菊名店            14       神奈川県      神奈川県横浜市港北区菊名一丁目   \n3    S14033       阿久和店            14       神奈川県    神奈川県横浜市瀬谷区阿久和西一丁目   \n4    S14036     相模原中央店            14       神奈川県        神奈川県相模原市中央二丁目   \n7    S14040       長津田店            14       神奈川県  神奈川県横浜市緑区長津田みなみ台五丁目   \n9    S14050      阿久和西店            14       神奈川県    神奈川県横浜市瀬谷区阿久和西一丁目   \n11   S13052        森野店            13        東京都          東京都町田市森野三丁目   \n12   S14028       二ツ橋店            14       神奈川県       神奈川県横浜市瀬谷区二ツ橋町   \n16   S14012      本牧和田店            14       神奈川県        神奈川県横浜市中区本牧和田   \n18   S14046       北山田店            14       神奈川県     神奈川県横浜市都筑区北山田一丁目   \n19   S14022        逗子店            14       神奈川県         神奈川県逗子市逗子一丁目   \n20   S14011      日吉本町店            14       神奈川県    神奈川県横浜市港北区日吉本町四丁目   \n21   S13016       小金井店            13        東京都         東京都小金井市本町一丁目   \n22   S14034      川崎野川店            14       神奈川県         神奈川県川崎市宮前区野川   \n26   S14048      中川中央店            14       神奈川県    神奈川県横浜市都筑区中川中央二丁目   \n27   S12007        佐倉店            12        千葉県            千葉県佐倉市上志津   \n28   S14026     辻堂西海岸店            14       神奈川県      神奈川県藤沢市辻堂西海岸二丁目   \n29   S13041       八王子店            13        東京都            東京都八王子市大塚   \n31   S14049      川崎大師店            14       神奈川県      神奈川県川崎市川崎区中瀬三丁目   \n32   S14023        川崎店            14       神奈川県      神奈川県川崎市川崎区本町二丁目   \n33   S13018        清瀬店            13        東京都          東京都清瀬市松山一丁目   \n35   S14027       南藤沢店            14       神奈川県           神奈川県藤沢市南藤沢   \n36   S14021       伊勢原店            14       神奈川県       神奈川県伊勢原市伊勢原四丁目   \n37   S14047       相模原店            14       神奈川県       神奈川県相模原市千代田六丁目   \n38   S12013       習志野店            12        千葉県         千葉県習志野市芝園一丁目   \n40   S14042       新山下店            14       神奈川県      神奈川県横浜市中区新山下二丁目   \n42   S12030        八幡店            12        千葉県          千葉県市川市八幡三丁目   \n44   S14025        大和店            14       神奈川県           神奈川県大和市下和田   \n45   S14045        厚木店            14       神奈川県         神奈川県厚木市中町二丁目   \n47   S12029        東野店            12        千葉県          千葉県浦安市東野一丁目   \n49   S12053        高洲店            12        千葉県          千葉県浦安市高洲五丁目   \n51   S14024        三田店            14       神奈川県      神奈川県川崎市多摩区三田四丁目   \n52   S14006       葛が谷店            14       神奈川県        神奈川県横浜市都筑区葛が谷   \n\n                      address_kana        tel_no  longitude  latitude  \\\n0           チバケンチバシイナゲクチグサダイイッチョウメ  043-123-4003   140.1180  35.63559   \n1             トウキョウトコクブンジシホンダニチョウメ  042-123-4008   139.4802  35.70566   \n2        カナガワケンヨコハマシコウホククキクナイッチョウメ  045-123-4032   139.6326  35.50049   \n3        カナガワケンヨコハマシセヤクアクワニシイッチョウメ  045-123-4043   139.4961  35.45918   \n4           カナガワケンサガミハラシチュウオウニチョウメ  042-123-4045   139.3716  35.57327   \n7    カナガワケンヨコハマシミドリクナガツタミナミダイゴチョウメ  045-123-4046   139.4994  35.52398   \n9        カナガワケンヨコハマシセヤクアクワニシイッチョウメ  045-123-4053   139.4961  35.45918   \n11             トウキョウトマチダシモリノサンチョウメ  042-123-4030   139.4383  35.55293   \n12          カナガワケンヨコハマシセヤクフタツバシチョウ  045-123-4042   139.4963  35.46304   \n16            カナガワケンヨコハマシナカクホンモクワダ  045-123-4034   139.6582  35.42156   \n18      カナガワケンヨコハマシツヅキクキタヤマタイッチョウメ  045-123-4049   139.5916  35.56189   \n19               カナガワケンズシシズシイッチョウメ  046-123-4036   139.5789  35.29642   \n20  カナガワケンヨコハマシコウホククヒヨシホンチョウヨンチョウメ  045-123-4033   139.6316  35.54655   \n21          トウキョウトコガネイシホンチョウイッチョウメ  042-123-4015   139.5094  35.70018   \n22             カナガワケンカワサキシミヤマエクノガワ  044-123-4044   139.5998  35.57693   \n26   カナガワケンヨコハマシツヅキクナカガワチュウオウニチョウメ  045-123-4051   139.5758  35.54912   \n27                    チバケンサクラシカミシヅ  043-123-4001   140.1452  35.71872   \n28      カナガワケンフジサワシツジドウニシカイガンニチョウメ  046-123-4040   139.4466  35.32464   \n29                トウキョウトハチオウジシオオツカ  042-123-4026   139.4235  35.63787   \n31       カナガワケンカワサキシカワサキクナカゼサンチョウメ  044-123-4052   139.7327  35.53759   \n32      カナガワケンカワサキシカワサキクホンチョウニチョウメ  044-123-4037   139.7028  35.53599   \n33            トウキョウトキヨセシマツヤマイッチョウメ  042-123-4017   139.5178  35.76885   \n35              カナガワケンフジサワシミナミフジサワ  046-123-4041   139.4896  35.33762   \n36           カナガワケンイセハラシイセハラヨンチョウメ  046-123-4035   139.3129  35.40169   \n37           カナガワケンサガミハラシチヨダロクチョウメ  042-123-4050   139.3748  35.55959   \n38             チバケンナラシノシシバゾノイッチョウメ  047-123-4002   140.0220  35.66122   \n40       カナガワケンヨコハマシナカクシンヤマシタニチョウメ  045-123-4047   139.6593  35.43894   \n42              チバケンイチカワシヤワタサンチョウメ  047-123-4005   139.9240  35.72318   \n44                  カナガワケンヤマトシシモワダ  046-123-4039   139.4680  35.43414   \n45            カナガワケンアツギシナカチョウニチョウメ  046-123-4048   139.3651  35.44182   \n47             チバケンウラヤスシヒガシノイッチョウメ  047-123-4004   139.8968  35.65086   \n49               チバケンウラヤスシタカスゴチョウメ  047-123-4006   139.9176  35.63755   \n51          カナガワケンカワサキシタマクミタヨンチョウメ  044-123-4038   139.5424  35.60770   \n52             カナガワケンヨコハマシツヅキククズガヤ  045-123-4031   139.5633  35.53573   \n\n    floor_area  \n0       1698.0  \n1       1735.0  \n2       1732.0  \n3       1495.0  \n4       1679.0  \n7       1548.0  \n9       1830.0  \n11      1087.0  \n12      1574.0  \n16      1341.0  \n18       831.0  \n19      1838.0  \n20       890.0  \n21      1399.0  \n22      1318.0  \n26      1657.0  \n27      1895.0  \n28      1732.0  \n29       810.0  \n31       962.0  \n32      1804.0  \n33      1220.0  \n35      1521.0  \n36       962.0  \n37      1047.0  \n38       808.0  \n40      1044.0  \n42      1162.0  \n44      1011.0  \n45       980.0  \n47      1101.0  \n49      1555.0  \n51       972.0  \n52      1886.0  ",
      "text/html": "<div>\n<style scoped>\n    .dataframe tbody tr th:only-of-type {\n        vertical-align: middle;\n    }\n\n    .dataframe tbody tr th {\n        vertical-align: top;\n    }\n\n    .dataframe thead th {\n        text-align: right;\n    }\n</style>\n<table border=\"1\" class=\"dataframe\">\n  <thead>\n    <tr style=\"text-align: right;\">\n      <th></th>\n      <th>store_cd</th>\n      <th>store_name</th>\n      <th>prefecture_cd</th>\n      <th>prefecture</th>\n      <th>address</th>\n      <th>address_kana</th>\n      <th>tel_no</th>\n      <th>longitude</th>\n      <th>latitude</th>\n      <th>floor_area</th>\n    </tr>\n  </thead>\n  <tbody>\n    <tr>\n      <th>0</th>\n      <td>S12014</td>\n      <td>千草台店</td>\n      <td>12</td>\n      <td>千葉県</td>\n      <td>千葉県千葉市稲毛区千草台一丁目</td>\n      <td>チバケンチバシイナゲクチグサダイイッチョウメ</td>\n      <td>043-123-4003</td>\n      <td>140.1180</td>\n      <td>35.63559</td>\n      <td>1698.0</td>\n    </tr>\n    <tr>\n      <th>1</th>\n      <td>S13002</td>\n      <td>国分寺店</td>\n      <td>13</td>\n      <td>東京都</td>\n      <td>東京都国分寺市本多二丁目</td>\n      <td>トウキョウトコクブンジシホンダニチョウメ</td>\n      <td>042-123-4008</td>\n      <td>139.4802</td>\n      <td>35.70566</td>\n      <td>1735.0</td>\n    </tr>\n    <tr>\n      <th>2</th>\n      <td>S14010</td>\n      <td>菊名店</td>\n      <td>14</td>\n      <td>神奈川県</td>\n      <td>神奈川県横浜市港北区菊名一丁目</td>\n      <td>カナガワケンヨコハマシコウホククキクナイッチョウメ</td>\n      <td>045-123-4032</td>\n      <td>139.6326</td>\n      <td>35.50049</td>\n      <td>1732.0</td>\n    </tr>\n    <tr>\n      <th>3</th>\n      <td>S14033</td>\n      <td>阿久和店</td>\n      <td>14</td>\n      <td>神奈川県</td>\n      <td>神奈川県横浜市瀬谷区阿久和西一丁目</td>\n      <td>カナガワケンヨコハマシセヤクアクワニシイッチョウメ</td>\n      <td>045-123-4043</td>\n      <td>139.4961</td>\n      <td>35.45918</td>\n      <td>1495.0</td>\n    </tr>\n    <tr>\n      <th>4</th>\n      <td>S14036</td>\n      <td>相模原中央店</td>\n      <td>14</td>\n      <td>神奈川県</td>\n      <td>神奈川県相模原市中央二丁目</td>\n      <td>カナガワケンサガミハラシチュウオウニチョウメ</td>\n      <td>042-123-4045</td>\n      <td>139.3716</td>\n      <td>35.57327</td>\n      <td>1679.0</td>\n    </tr>\n    <tr>\n      <th>7</th>\n      <td>S14040</td>\n      <td>長津田店</td>\n      <td>14</td>\n      <td>神奈川県</td>\n      <td>神奈川県横浜市緑区長津田みなみ台五丁目</td>\n      <td>カナガワケンヨコハマシミドリクナガツタミナミダイゴチョウメ</td>\n      <td>045-123-4046</td>\n      <td>139.4994</td>\n      <td>35.52398</td>\n      <td>1548.0</td>\n    </tr>\n    <tr>\n      <th>9</th>\n      <td>S14050</td>\n      <td>阿久和西店</td>\n      <td>14</td>\n      <td>神奈川県</td>\n      <td>神奈川県横浜市瀬谷区阿久和西一丁目</td>\n      <td>カナガワケンヨコハマシセヤクアクワニシイッチョウメ</td>\n      <td>045-123-4053</td>\n      <td>139.4961</td>\n      <td>35.45918</td>\n      <td>1830.0</td>\n    </tr>\n    <tr>\n      <th>11</th>\n      <td>S13052</td>\n      <td>森野店</td>\n      <td>13</td>\n      <td>東京都</td>\n      <td>東京都町田市森野三丁目</td>\n      <td>トウキョウトマチダシモリノサンチョウメ</td>\n      <td>042-123-4030</td>\n      <td>139.4383</td>\n      <td>35.55293</td>\n      <td>1087.0</td>\n    </tr>\n    <tr>\n      <th>12</th>\n      <td>S14028</td>\n      <td>二ツ橋店</td>\n      <td>14</td>\n      <td>神奈川県</td>\n      <td>神奈川県横浜市瀬谷区二ツ橋町</td>\n      <td>カナガワケンヨコハマシセヤクフタツバシチョウ</td>\n      <td>045-123-4042</td>\n      <td>139.4963</td>\n      <td>35.46304</td>\n      <td>1574.0</td>\n    </tr>\n    <tr>\n      <th>16</th>\n      <td>S14012</td>\n      <td>本牧和田店</td>\n      <td>14</td>\n      <td>神奈川県</td>\n      <td>神奈川県横浜市中区本牧和田</td>\n      <td>カナガワケンヨコハマシナカクホンモクワダ</td>\n      <td>045-123-4034</td>\n      <td>139.6582</td>\n      <td>35.42156</td>\n      <td>1341.0</td>\n    </tr>\n    <tr>\n      <th>18</th>\n      <td>S14046</td>\n      <td>北山田店</td>\n      <td>14</td>\n      <td>神奈川県</td>\n      <td>神奈川県横浜市都筑区北山田一丁目</td>\n      <td>カナガワケンヨコハマシツヅキクキタヤマタイッチョウメ</td>\n      <td>045-123-4049</td>\n      <td>139.5916</td>\n      <td>35.56189</td>\n      <td>831.0</td>\n    </tr>\n    <tr>\n      <th>19</th>\n      <td>S14022</td>\n      <td>逗子店</td>\n      <td>14</td>\n      <td>神奈川県</td>\n      <td>神奈川県逗子市逗子一丁目</td>\n      <td>カナガワケンズシシズシイッチョウメ</td>\n      <td>046-123-4036</td>\n      <td>139.5789</td>\n      <td>35.29642</td>\n      <td>1838.0</td>\n    </tr>\n    <tr>\n      <th>20</th>\n      <td>S14011</td>\n      <td>日吉本町店</td>\n      <td>14</td>\n      <td>神奈川県</td>\n      <td>神奈川県横浜市港北区日吉本町四丁目</td>\n      <td>カナガワケンヨコハマシコウホククヒヨシホンチョウヨンチョウメ</td>\n      <td>045-123-4033</td>\n      <td>139.6316</td>\n      <td>35.54655</td>\n      <td>890.0</td>\n    </tr>\n    <tr>\n      <th>21</th>\n      <td>S13016</td>\n      <td>小金井店</td>\n      <td>13</td>\n      <td>東京都</td>\n      <td>東京都小金井市本町一丁目</td>\n      <td>トウキョウトコガネイシホンチョウイッチョウメ</td>\n      <td>042-123-4015</td>\n      <td>139.5094</td>\n      <td>35.70018</td>\n      <td>1399.0</td>\n    </tr>\n    <tr>\n      <th>22</th>\n      <td>S14034</td>\n      <td>川崎野川店</td>\n      <td>14</td>\n      <td>神奈川県</td>\n      <td>神奈川県川崎市宮前区野川</td>\n      <td>カナガワケンカワサキシミヤマエクノガワ</td>\n      <td>044-123-4044</td>\n      <td>139.5998</td>\n      <td>35.57693</td>\n      <td>1318.0</td>\n    </tr>\n    <tr>\n      <th>26</th>\n      <td>S14048</td>\n      <td>中川中央店</td>\n      <td>14</td>\n      <td>神奈川県</td>\n      <td>神奈川県横浜市都筑区中川中央二丁目</td>\n      <td>カナガワケンヨコハマシツヅキクナカガワチュウオウニチョウメ</td>\n      <td>045-123-4051</td>\n      <td>139.5758</td>\n      <td>35.54912</td>\n      <td>1657.0</td>\n    </tr>\n    <tr>\n      <th>27</th>\n      <td>S12007</td>\n      <td>佐倉店</td>\n      <td>12</td>\n      <td>千葉県</td>\n      <td>千葉県佐倉市上志津</td>\n      <td>チバケンサクラシカミシヅ</td>\n      <td>043-123-4001</td>\n      <td>140.1452</td>\n      <td>35.71872</td>\n      <td>1895.0</td>\n    </tr>\n    <tr>\n      <th>28</th>\n      <td>S14026</td>\n      <td>辻堂西海岸店</td>\n      <td>14</td>\n      <td>神奈川県</td>\n      <td>神奈川県藤沢市辻堂西海岸二丁目</td>\n      <td>カナガワケンフジサワシツジドウニシカイガンニチョウメ</td>\n      <td>046-123-4040</td>\n      <td>139.4466</td>\n      <td>35.32464</td>\n      <td>1732.0</td>\n    </tr>\n    <tr>\n      <th>29</th>\n      <td>S13041</td>\n      <td>八王子店</td>\n      <td>13</td>\n      <td>東京都</td>\n      <td>東京都八王子市大塚</td>\n      <td>トウキョウトハチオウジシオオツカ</td>\n      <td>042-123-4026</td>\n      <td>139.4235</td>\n      <td>35.63787</td>\n      <td>810.0</td>\n    </tr>\n    <tr>\n      <th>31</th>\n      <td>S14049</td>\n      <td>川崎大師店</td>\n      <td>14</td>\n      <td>神奈川県</td>\n      <td>神奈川県川崎市川崎区中瀬三丁目</td>\n      <td>カナガワケンカワサキシカワサキクナカゼサンチョウメ</td>\n      <td>044-123-4052</td>\n      <td>139.7327</td>\n      <td>35.53759</td>\n      <td>962.0</td>\n    </tr>\n    <tr>\n      <th>32</th>\n      <td>S14023</td>\n      <td>川崎店</td>\n      <td>14</td>\n      <td>神奈川県</td>\n      <td>神奈川県川崎市川崎区本町二丁目</td>\n      <td>カナガワケンカワサキシカワサキクホンチョウニチョウメ</td>\n      <td>044-123-4037</td>\n      <td>139.7028</td>\n      <td>35.53599</td>\n      <td>1804.0</td>\n    </tr>\n    <tr>\n      <th>33</th>\n      <td>S13018</td>\n      <td>清瀬店</td>\n      <td>13</td>\n      <td>東京都</td>\n      <td>東京都清瀬市松山一丁目</td>\n      <td>トウキョウトキヨセシマツヤマイッチョウメ</td>\n      <td>042-123-4017</td>\n      <td>139.5178</td>\n      <td>35.76885</td>\n      <td>1220.0</td>\n    </tr>\n    <tr>\n      <th>35</th>\n      <td>S14027</td>\n      <td>南藤沢店</td>\n      <td>14</td>\n      <td>神奈川県</td>\n      <td>神奈川県藤沢市南藤沢</td>\n      <td>カナガワケンフジサワシミナミフジサワ</td>\n      <td>046-123-4041</td>\n      <td>139.4896</td>\n      <td>35.33762</td>\n      <td>1521.0</td>\n    </tr>\n    <tr>\n      <th>36</th>\n      <td>S14021</td>\n      <td>伊勢原店</td>\n      <td>14</td>\n      <td>神奈川県</td>\n      <td>神奈川県伊勢原市伊勢原四丁目</td>\n      <td>カナガワケンイセハラシイセハラヨンチョウメ</td>\n      <td>046-123-4035</td>\n      <td>139.3129</td>\n      <td>35.40169</td>\n      <td>962.0</td>\n    </tr>\n    <tr>\n      <th>37</th>\n      <td>S14047</td>\n      <td>相模原店</td>\n      <td>14</td>\n      <td>神奈川県</td>\n      <td>神奈川県相模原市千代田六丁目</td>\n      <td>カナガワケンサガミハラシチヨダロクチョウメ</td>\n      <td>042-123-4050</td>\n      <td>139.3748</td>\n      <td>35.55959</td>\n      <td>1047.0</td>\n    </tr>\n    <tr>\n      <th>38</th>\n      <td>S12013</td>\n      <td>習志野店</td>\n      <td>12</td>\n      <td>千葉県</td>\n      <td>千葉県習志野市芝園一丁目</td>\n      <td>チバケンナラシノシシバゾノイッチョウメ</td>\n      <td>047-123-4002</td>\n      <td>140.0220</td>\n      <td>35.66122</td>\n      <td>808.0</td>\n    </tr>\n    <tr>\n      <th>40</th>\n      <td>S14042</td>\n      <td>新山下店</td>\n      <td>14</td>\n      <td>神奈川県</td>\n      <td>神奈川県横浜市中区新山下二丁目</td>\n      <td>カナガワケンヨコハマシナカクシンヤマシタニチョウメ</td>\n      <td>045-123-4047</td>\n      <td>139.6593</td>\n      <td>35.43894</td>\n      <td>1044.0</td>\n    </tr>\n    <tr>\n      <th>42</th>\n      <td>S12030</td>\n      <td>八幡店</td>\n      <td>12</td>\n      <td>千葉県</td>\n      <td>千葉県市川市八幡三丁目</td>\n      <td>チバケンイチカワシヤワタサンチョウメ</td>\n      <td>047-123-4005</td>\n      <td>139.9240</td>\n      <td>35.72318</td>\n      <td>1162.0</td>\n    </tr>\n    <tr>\n      <th>44</th>\n      <td>S14025</td>\n      <td>大和店</td>\n      <td>14</td>\n      <td>神奈川県</td>\n      <td>神奈川県大和市下和田</td>\n      <td>カナガワケンヤマトシシモワダ</td>\n      <td>046-123-4039</td>\n      <td>139.4680</td>\n      <td>35.43414</td>\n      <td>1011.0</td>\n    </tr>\n    <tr>\n      <th>45</th>\n      <td>S14045</td>\n      <td>厚木店</td>\n      <td>14</td>\n      <td>神奈川県</td>\n      <td>神奈川県厚木市中町二丁目</td>\n      <td>カナガワケンアツギシナカチョウニチョウメ</td>\n      <td>046-123-4048</td>\n      <td>139.3651</td>\n      <td>35.44182</td>\n      <td>980.0</td>\n    </tr>\n    <tr>\n      <th>47</th>\n      <td>S12029</td>\n      <td>東野店</td>\n      <td>12</td>\n      <td>千葉県</td>\n      <td>千葉県浦安市東野一丁目</td>\n      <td>チバケンウラヤスシヒガシノイッチョウメ</td>\n      <td>047-123-4004</td>\n      <td>139.8968</td>\n      <td>35.65086</td>\n      <td>1101.0</td>\n    </tr>\n    <tr>\n      <th>49</th>\n      <td>S12053</td>\n      <td>高洲店</td>\n      <td>12</td>\n      <td>千葉県</td>\n      <td>千葉県浦安市高洲五丁目</td>\n      <td>チバケンウラヤスシタカスゴチョウメ</td>\n      <td>047-123-4006</td>\n      <td>139.9176</td>\n      <td>35.63755</td>\n      <td>1555.0</td>\n    </tr>\n    <tr>\n      <th>51</th>\n      <td>S14024</td>\n      <td>三田店</td>\n      <td>14</td>\n      <td>神奈川県</td>\n      <td>神奈川県川崎市多摩区三田四丁目</td>\n      <td>カナガワケンカワサキシタマクミタヨンチョウメ</td>\n      <td>044-123-4038</td>\n      <td>139.5424</td>\n      <td>35.60770</td>\n      <td>972.0</td>\n    </tr>\n    <tr>\n      <th>52</th>\n      <td>S14006</td>\n      <td>葛が谷店</td>\n      <td>14</td>\n      <td>神奈川県</td>\n      <td>神奈川県横浜市都筑区葛が谷</td>\n      <td>カナガワケンヨコハマシツヅキククズガヤ</td>\n      <td>045-123-4031</td>\n      <td>139.5633</td>\n      <td>35.53573</td>\n      <td>1886.0</td>\n    </tr>\n  </tbody>\n</table>\n</div>"
     },
     "execution_count": 42,
     "metadata": {},
     "output_type": "execute_result"
    }
   ],
   "source": [
    "df_store[df_store['tel_no'].str.match(r'^\\d{3}.*\\d{4}$')]"
   ]
  },
  {
   "cell_type": "markdown",
   "metadata": {},
   "source": [
    "---\n",
    "> P-017: Sort the customer data (df_customer) in descending order by birth date (birth_day), and display the first 10 rows of all items."
   ]
  },
  {
   "cell_type": "code",
   "execution_count": 47,
   "metadata": {
    "ExecuteTime": {
     "end_time": "2024-09-05T13:36:23.554474500Z",
     "start_time": "2024-09-05T13:36:23.479752600Z"
    }
   },
   "outputs": [
    {
     "data": {
      "text/plain": "          customer_id customer_name gender_cd gender   birth_day  age  \\\n15639  CS035114000004         大村 美里         1     女性  2007-11-25   11   \n7468   CS022103000002        福山 はじめ         9     不明  2007-10-02   11   \n10745  CS002113000009        柴田 真悠子         1     女性  2007-09-17   11   \n19811  CS004115000014         松井 京子         1     女性  2007-08-09   11   \n7039   CS002114000010          山内 遥         1     女性  2007-06-03   11   \n...               ...           ...       ...    ...         ...  ...   \n1681   CS013801000003         天野 拓郎         0     男性  1929-01-15   90   \n15302  CS027803000004         内村 拓郎         0     男性  1929-01-12   90   \n15682  CS018811000003         熊沢 美里         1     女性  1929-01-07   90   \n12328  CS026813000004         吉村 朝陽         1     女性  1928-12-14   90   \n18817  CS003813000014        村山 菜々美         1     女性  1928-11-26   90   \n\n      postal_cd                 address application_store_cd  \\\n15639  156-0053      東京都世田谷区桜**********               S13035   \n7468   249-0006     神奈川県逗子市逗子**********               S14022   \n10745  184-0014   東京都小金井市貫井南町**********               S13002   \n19811  165-0031     東京都中野区上鷺宮**********               S13004   \n7039   184-0015   東京都小金井市貫井北町**********               S13002   \n...         ...                     ...                  ...   \n1681   274-0824     千葉県船橋市前原東**********               S12013   \n15302  251-0031  神奈川県藤沢市鵠沼藤が谷**********               S14027   \n15682  204-0004      東京都清瀬市野塩**********               S13018   \n12328  251-0043   神奈川県藤沢市辻堂元町**********               S14026   \n18817  182-0007     東京都調布市菊野台**********               S13003   \n\n       application_date     status_cd  \n15639          20150619  6-20091205-6  \n7468           20160909  0-00000000-0  \n10745          20160304  0-00000000-0  \n19811          20161120  1-20081231-1  \n7039           20160920  6-20100510-1  \n...                 ...           ...  \n1681           20160120  0-00000000-0  \n15302          20151227  0-00000000-0  \n15682          20150403  0-00000000-0  \n12328          20150723  0-00000000-0  \n18817          20160214  0-00000000-0  \n\n[21971 rows x 11 columns]",
      "text/html": "<div>\n<style scoped>\n    .dataframe tbody tr th:only-of-type {\n        vertical-align: middle;\n    }\n\n    .dataframe tbody tr th {\n        vertical-align: top;\n    }\n\n    .dataframe thead th {\n        text-align: right;\n    }\n</style>\n<table border=\"1\" class=\"dataframe\">\n  <thead>\n    <tr style=\"text-align: right;\">\n      <th></th>\n      <th>customer_id</th>\n      <th>customer_name</th>\n      <th>gender_cd</th>\n      <th>gender</th>\n      <th>birth_day</th>\n      <th>age</th>\n      <th>postal_cd</th>\n      <th>address</th>\n      <th>application_store_cd</th>\n      <th>application_date</th>\n      <th>status_cd</th>\n    </tr>\n  </thead>\n  <tbody>\n    <tr>\n      <th>15639</th>\n      <td>CS035114000004</td>\n      <td>大村 美里</td>\n      <td>1</td>\n      <td>女性</td>\n      <td>2007-11-25</td>\n      <td>11</td>\n      <td>156-0053</td>\n      <td>東京都世田谷区桜**********</td>\n      <td>S13035</td>\n      <td>20150619</td>\n      <td>6-20091205-6</td>\n    </tr>\n    <tr>\n      <th>7468</th>\n      <td>CS022103000002</td>\n      <td>福山 はじめ</td>\n      <td>9</td>\n      <td>不明</td>\n      <td>2007-10-02</td>\n      <td>11</td>\n      <td>249-0006</td>\n      <td>神奈川県逗子市逗子**********</td>\n      <td>S14022</td>\n      <td>20160909</td>\n      <td>0-00000000-0</td>\n    </tr>\n    <tr>\n      <th>10745</th>\n      <td>CS002113000009</td>\n      <td>柴田 真悠子</td>\n      <td>1</td>\n      <td>女性</td>\n      <td>2007-09-17</td>\n      <td>11</td>\n      <td>184-0014</td>\n      <td>東京都小金井市貫井南町**********</td>\n      <td>S13002</td>\n      <td>20160304</td>\n      <td>0-00000000-0</td>\n    </tr>\n    <tr>\n      <th>19811</th>\n      <td>CS004115000014</td>\n      <td>松井 京子</td>\n      <td>1</td>\n      <td>女性</td>\n      <td>2007-08-09</td>\n      <td>11</td>\n      <td>165-0031</td>\n      <td>東京都中野区上鷺宮**********</td>\n      <td>S13004</td>\n      <td>20161120</td>\n      <td>1-20081231-1</td>\n    </tr>\n    <tr>\n      <th>7039</th>\n      <td>CS002114000010</td>\n      <td>山内 遥</td>\n      <td>1</td>\n      <td>女性</td>\n      <td>2007-06-03</td>\n      <td>11</td>\n      <td>184-0015</td>\n      <td>東京都小金井市貫井北町**********</td>\n      <td>S13002</td>\n      <td>20160920</td>\n      <td>6-20100510-1</td>\n    </tr>\n    <tr>\n      <th>...</th>\n      <td>...</td>\n      <td>...</td>\n      <td>...</td>\n      <td>...</td>\n      <td>...</td>\n      <td>...</td>\n      <td>...</td>\n      <td>...</td>\n      <td>...</td>\n      <td>...</td>\n      <td>...</td>\n    </tr>\n    <tr>\n      <th>1681</th>\n      <td>CS013801000003</td>\n      <td>天野 拓郎</td>\n      <td>0</td>\n      <td>男性</td>\n      <td>1929-01-15</td>\n      <td>90</td>\n      <td>274-0824</td>\n      <td>千葉県船橋市前原東**********</td>\n      <td>S12013</td>\n      <td>20160120</td>\n      <td>0-00000000-0</td>\n    </tr>\n    <tr>\n      <th>15302</th>\n      <td>CS027803000004</td>\n      <td>内村 拓郎</td>\n      <td>0</td>\n      <td>男性</td>\n      <td>1929-01-12</td>\n      <td>90</td>\n      <td>251-0031</td>\n      <td>神奈川県藤沢市鵠沼藤が谷**********</td>\n      <td>S14027</td>\n      <td>20151227</td>\n      <td>0-00000000-0</td>\n    </tr>\n    <tr>\n      <th>15682</th>\n      <td>CS018811000003</td>\n      <td>熊沢 美里</td>\n      <td>1</td>\n      <td>女性</td>\n      <td>1929-01-07</td>\n      <td>90</td>\n      <td>204-0004</td>\n      <td>東京都清瀬市野塩**********</td>\n      <td>S13018</td>\n      <td>20150403</td>\n      <td>0-00000000-0</td>\n    </tr>\n    <tr>\n      <th>12328</th>\n      <td>CS026813000004</td>\n      <td>吉村 朝陽</td>\n      <td>1</td>\n      <td>女性</td>\n      <td>1928-12-14</td>\n      <td>90</td>\n      <td>251-0043</td>\n      <td>神奈川県藤沢市辻堂元町**********</td>\n      <td>S14026</td>\n      <td>20150723</td>\n      <td>0-00000000-0</td>\n    </tr>\n    <tr>\n      <th>18817</th>\n      <td>CS003813000014</td>\n      <td>村山 菜々美</td>\n      <td>1</td>\n      <td>女性</td>\n      <td>1928-11-26</td>\n      <td>90</td>\n      <td>182-0007</td>\n      <td>東京都調布市菊野台**********</td>\n      <td>S13003</td>\n      <td>20160214</td>\n      <td>0-00000000-0</td>\n    </tr>\n  </tbody>\n</table>\n<p>21971 rows × 11 columns</p>\n</div>"
     },
     "execution_count": 47,
     "metadata": {},
     "output_type": "execute_result"
    }
   ],
   "source": [
    "df_sorted = df_customer.sort_values(by='birth_day', ascending=False)\n",
    "df_sorted"
   ]
  },
  {
   "cell_type": "markdown",
   "metadata": {},
   "source": [
    "---\n",
    "> P-018: Sort the customer data (df_customer) in ascending order by birth date (birth_day), and display the first 10 rows of all items."
   ]
  },
  {
   "cell_type": "code",
   "execution_count": 49,
   "metadata": {
    "ExecuteTime": {
     "end_time": "2024-09-05T13:37:02.897240300Z",
     "start_time": "2024-09-05T13:37:02.859089800Z"
    }
   },
   "outputs": [
    {
     "data": {
      "text/plain": "          customer_id customer_name gender_cd gender   birth_day  age  \\\n18817  CS003813000014        村山 菜々美         1     女性  1928-11-26   90   \n12328  CS026813000004         吉村 朝陽         1     女性  1928-12-14   90   \n15682  CS018811000003         熊沢 美里         1     女性  1929-01-07   90   \n15302  CS027803000004         内村 拓郎         0     男性  1929-01-12   90   \n1681   CS013801000003         天野 拓郎         0     男性  1929-01-15   90   \n7511   CS001814000022         鶴田 里穂         1     女性  1929-01-28   90   \n2378   CS016815000002         山元 美紀         1     女性  1929-02-22   90   \n4680   CS009815000003         中田 里穂         1     女性  1929-04-08   89   \n16070  CS005813000015        金谷 恵梨香         1     女性  1929-04-09   89   \n6305   CS012813000013         宇野 南朋         1     女性  1929-04-09   89   \n\n      postal_cd                 address application_store_cd  \\\n18817  182-0007     東京都調布市菊野台**********               S13003   \n12328  251-0043   神奈川県藤沢市辻堂元町**********               S14026   \n15682  204-0004      東京都清瀬市野塩**********               S13018   \n15302  251-0031  神奈川県藤沢市鵠沼藤が谷**********               S14027   \n1681   274-0824     千葉県船橋市前原東**********               S12013   \n7511   144-0045     東京都大田区南六郷**********               S13001   \n2378   184-0005     東京都小金井市桜町**********               S13016   \n4680   154-0014     東京都世田谷区新町**********               S13009   \n16070  165-0032      東京都中野区鷺宮**********               S13005   \n6305   231-0806  神奈川県横浜市中区本牧町**********               S14012   \n\n       application_date     status_cd  \n18817          20160214  0-00000000-0  \n12328          20150723  0-00000000-0  \n15682          20150403  0-00000000-0  \n15302          20151227  0-00000000-0  \n1681           20160120  0-00000000-0  \n7511           20161012  A-20090415-7  \n2378           20150629  C-20090923-C  \n4680           20150421  D-20091021-E  \n16070          20150506  0-00000000-0  \n6305           20150712  0-00000000-0  ",
      "text/html": "<div>\n<style scoped>\n    .dataframe tbody tr th:only-of-type {\n        vertical-align: middle;\n    }\n\n    .dataframe tbody tr th {\n        vertical-align: top;\n    }\n\n    .dataframe thead th {\n        text-align: right;\n    }\n</style>\n<table border=\"1\" class=\"dataframe\">\n  <thead>\n    <tr style=\"text-align: right;\">\n      <th></th>\n      <th>customer_id</th>\n      <th>customer_name</th>\n      <th>gender_cd</th>\n      <th>gender</th>\n      <th>birth_day</th>\n      <th>age</th>\n      <th>postal_cd</th>\n      <th>address</th>\n      <th>application_store_cd</th>\n      <th>application_date</th>\n      <th>status_cd</th>\n    </tr>\n  </thead>\n  <tbody>\n    <tr>\n      <th>18817</th>\n      <td>CS003813000014</td>\n      <td>村山 菜々美</td>\n      <td>1</td>\n      <td>女性</td>\n      <td>1928-11-26</td>\n      <td>90</td>\n      <td>182-0007</td>\n      <td>東京都調布市菊野台**********</td>\n      <td>S13003</td>\n      <td>20160214</td>\n      <td>0-00000000-0</td>\n    </tr>\n    <tr>\n      <th>12328</th>\n      <td>CS026813000004</td>\n      <td>吉村 朝陽</td>\n      <td>1</td>\n      <td>女性</td>\n      <td>1928-12-14</td>\n      <td>90</td>\n      <td>251-0043</td>\n      <td>神奈川県藤沢市辻堂元町**********</td>\n      <td>S14026</td>\n      <td>20150723</td>\n      <td>0-00000000-0</td>\n    </tr>\n    <tr>\n      <th>15682</th>\n      <td>CS018811000003</td>\n      <td>熊沢 美里</td>\n      <td>1</td>\n      <td>女性</td>\n      <td>1929-01-07</td>\n      <td>90</td>\n      <td>204-0004</td>\n      <td>東京都清瀬市野塩**********</td>\n      <td>S13018</td>\n      <td>20150403</td>\n      <td>0-00000000-0</td>\n    </tr>\n    <tr>\n      <th>15302</th>\n      <td>CS027803000004</td>\n      <td>内村 拓郎</td>\n      <td>0</td>\n      <td>男性</td>\n      <td>1929-01-12</td>\n      <td>90</td>\n      <td>251-0031</td>\n      <td>神奈川県藤沢市鵠沼藤が谷**********</td>\n      <td>S14027</td>\n      <td>20151227</td>\n      <td>0-00000000-0</td>\n    </tr>\n    <tr>\n      <th>1681</th>\n      <td>CS013801000003</td>\n      <td>天野 拓郎</td>\n      <td>0</td>\n      <td>男性</td>\n      <td>1929-01-15</td>\n      <td>90</td>\n      <td>274-0824</td>\n      <td>千葉県船橋市前原東**********</td>\n      <td>S12013</td>\n      <td>20160120</td>\n      <td>0-00000000-0</td>\n    </tr>\n    <tr>\n      <th>7511</th>\n      <td>CS001814000022</td>\n      <td>鶴田 里穂</td>\n      <td>1</td>\n      <td>女性</td>\n      <td>1929-01-28</td>\n      <td>90</td>\n      <td>144-0045</td>\n      <td>東京都大田区南六郷**********</td>\n      <td>S13001</td>\n      <td>20161012</td>\n      <td>A-20090415-7</td>\n    </tr>\n    <tr>\n      <th>2378</th>\n      <td>CS016815000002</td>\n      <td>山元 美紀</td>\n      <td>1</td>\n      <td>女性</td>\n      <td>1929-02-22</td>\n      <td>90</td>\n      <td>184-0005</td>\n      <td>東京都小金井市桜町**********</td>\n      <td>S13016</td>\n      <td>20150629</td>\n      <td>C-20090923-C</td>\n    </tr>\n    <tr>\n      <th>4680</th>\n      <td>CS009815000003</td>\n      <td>中田 里穂</td>\n      <td>1</td>\n      <td>女性</td>\n      <td>1929-04-08</td>\n      <td>89</td>\n      <td>154-0014</td>\n      <td>東京都世田谷区新町**********</td>\n      <td>S13009</td>\n      <td>20150421</td>\n      <td>D-20091021-E</td>\n    </tr>\n    <tr>\n      <th>16070</th>\n      <td>CS005813000015</td>\n      <td>金谷 恵梨香</td>\n      <td>1</td>\n      <td>女性</td>\n      <td>1929-04-09</td>\n      <td>89</td>\n      <td>165-0032</td>\n      <td>東京都中野区鷺宮**********</td>\n      <td>S13005</td>\n      <td>20150506</td>\n      <td>0-00000000-0</td>\n    </tr>\n    <tr>\n      <th>6305</th>\n      <td>CS012813000013</td>\n      <td>宇野 南朋</td>\n      <td>1</td>\n      <td>女性</td>\n      <td>1929-04-09</td>\n      <td>89</td>\n      <td>231-0806</td>\n      <td>神奈川県横浜市中区本牧町**********</td>\n      <td>S14012</td>\n      <td>20150712</td>\n      <td>0-00000000-0</td>\n    </tr>\n  </tbody>\n</table>\n</div>"
     },
     "execution_count": 49,
     "metadata": {},
     "output_type": "execute_result"
    }
   ],
   "source": [
    "df_sorted = df_customer.sort_values(by='birth_day', ascending=True).head(10)\n",
    "df_sorted"
   ]
  },
  {
   "cell_type": "markdown",
   "metadata": {},
   "source": [
    "---\n",
    "> P-019: For the receipt details data (df_receipt), rank the items in descending order by sales amount per item (amount), and display the top 10 rows with the assigned rank. The columns to display are customer ID (customer_id) and sales amount (amount). In the case of ties in sales amount, assign the same rank and skip the next rank."
   ]
  },
  {
   "cell_type": "code",
   "execution_count": 62,
   "metadata": {
    "ExecuteTime": {
     "end_time": "2024-09-05T13:45:43.598979500Z",
     "start_time": "2024-09-05T13:45:43.539167700Z"
    }
   },
   "outputs": [
    {
     "data": {
      "text/plain": "          customer_id  amount  rank\n1202   CS011415000006   10925   1.0\n62317  ZZ000000000000    6800   2.0\n54095  CS028605000002    5780   3.0\n4632   CS015515000034    5480   4.0\n72747  ZZ000000000000    5480   4.0\n10320  ZZ000000000000    5480   4.0\n97294  CS021515000089    5440   7.0\n28304  ZZ000000000000    5440   7.0\n92246  CS009415000038    5280   9.0\n68553  CS040415000200    5280   9.0",
      "text/html": "<div>\n<style scoped>\n    .dataframe tbody tr th:only-of-type {\n        vertical-align: middle;\n    }\n\n    .dataframe tbody tr th {\n        vertical-align: top;\n    }\n\n    .dataframe thead th {\n        text-align: right;\n    }\n</style>\n<table border=\"1\" class=\"dataframe\">\n  <thead>\n    <tr style=\"text-align: right;\">\n      <th></th>\n      <th>customer_id</th>\n      <th>amount</th>\n      <th>rank</th>\n    </tr>\n  </thead>\n  <tbody>\n    <tr>\n      <th>1202</th>\n      <td>CS011415000006</td>\n      <td>10925</td>\n      <td>1.0</td>\n    </tr>\n    <tr>\n      <th>62317</th>\n      <td>ZZ000000000000</td>\n      <td>6800</td>\n      <td>2.0</td>\n    </tr>\n    <tr>\n      <th>54095</th>\n      <td>CS028605000002</td>\n      <td>5780</td>\n      <td>3.0</td>\n    </tr>\n    <tr>\n      <th>4632</th>\n      <td>CS015515000034</td>\n      <td>5480</td>\n      <td>4.0</td>\n    </tr>\n    <tr>\n      <th>72747</th>\n      <td>ZZ000000000000</td>\n      <td>5480</td>\n      <td>4.0</td>\n    </tr>\n    <tr>\n      <th>10320</th>\n      <td>ZZ000000000000</td>\n      <td>5480</td>\n      <td>4.0</td>\n    </tr>\n    <tr>\n      <th>97294</th>\n      <td>CS021515000089</td>\n      <td>5440</td>\n      <td>7.0</td>\n    </tr>\n    <tr>\n      <th>28304</th>\n      <td>ZZ000000000000</td>\n      <td>5440</td>\n      <td>7.0</td>\n    </tr>\n    <tr>\n      <th>92246</th>\n      <td>CS009415000038</td>\n      <td>5280</td>\n      <td>9.0</td>\n    </tr>\n    <tr>\n      <th>68553</th>\n      <td>CS040415000200</td>\n      <td>5280</td>\n      <td>9.0</td>\n    </tr>\n  </tbody>\n</table>\n</div>"
     },
     "execution_count": 62,
     "metadata": {},
     "output_type": "execute_result"
    }
   ],
   "source": [
    "df_receipt['rank'] = df_receipt['amount'].rank(method='min',ascending=False)\n",
    "new_df = df_receipt.sort_values(by='rank').head(10)\n",
    "result = new_df[['customer_id', 'amount', 'rank']]\n",
    "result"
   ]
  },
  {
   "cell_type": "markdown",
   "metadata": {},
   "source": [
    "---\n",
    "> P-020: For the receipt details data (df_receipt), rank the items in descending order by sales amount per item (amount), and display the top 10 rows with the assigned rank. The columns to display are customer ID (customer_id) and sales amount (amount). In the case of ties in sales amount, assign the same rank but give the next rank to the following item."
   ]
  },
  {
   "cell_type": "code",
   "execution_count": 63,
   "metadata": {
    "ExecuteTime": {
     "end_time": "2024-09-05T13:45:48.409955400Z",
     "start_time": "2024-09-05T13:45:48.348236900Z"
    }
   },
   "outputs": [
    {
     "data": {
      "text/plain": "          customer_id  amount  rank\n1202   CS011415000006   10925   1.0\n62317  ZZ000000000000    6800   2.0\n54095  CS028605000002    5780   3.0\n4632   CS015515000034    5480   4.0\n72747  ZZ000000000000    5480   4.0\n10320  ZZ000000000000    5480   4.0\n97294  CS021515000089    5440   5.0\n28304  ZZ000000000000    5440   5.0\n92246  CS009415000038    5280   6.0\n68553  CS040415000200    5280   6.0",
      "text/html": "<div>\n<style scoped>\n    .dataframe tbody tr th:only-of-type {\n        vertical-align: middle;\n    }\n\n    .dataframe tbody tr th {\n        vertical-align: top;\n    }\n\n    .dataframe thead th {\n        text-align: right;\n    }\n</style>\n<table border=\"1\" class=\"dataframe\">\n  <thead>\n    <tr style=\"text-align: right;\">\n      <th></th>\n      <th>customer_id</th>\n      <th>amount</th>\n      <th>rank</th>\n    </tr>\n  </thead>\n  <tbody>\n    <tr>\n      <th>1202</th>\n      <td>CS011415000006</td>\n      <td>10925</td>\n      <td>1.0</td>\n    </tr>\n    <tr>\n      <th>62317</th>\n      <td>ZZ000000000000</td>\n      <td>6800</td>\n      <td>2.0</td>\n    </tr>\n    <tr>\n      <th>54095</th>\n      <td>CS028605000002</td>\n      <td>5780</td>\n      <td>3.0</td>\n    </tr>\n    <tr>\n      <th>4632</th>\n      <td>CS015515000034</td>\n      <td>5480</td>\n      <td>4.0</td>\n    </tr>\n    <tr>\n      <th>72747</th>\n      <td>ZZ000000000000</td>\n      <td>5480</td>\n      <td>4.0</td>\n    </tr>\n    <tr>\n      <th>10320</th>\n      <td>ZZ000000000000</td>\n      <td>5480</td>\n      <td>4.0</td>\n    </tr>\n    <tr>\n      <th>97294</th>\n      <td>CS021515000089</td>\n      <td>5440</td>\n      <td>5.0</td>\n    </tr>\n    <tr>\n      <th>28304</th>\n      <td>ZZ000000000000</td>\n      <td>5440</td>\n      <td>5.0</td>\n    </tr>\n    <tr>\n      <th>92246</th>\n      <td>CS009415000038</td>\n      <td>5280</td>\n      <td>6.0</td>\n    </tr>\n    <tr>\n      <th>68553</th>\n      <td>CS040415000200</td>\n      <td>5280</td>\n      <td>6.0</td>\n    </tr>\n  </tbody>\n</table>\n</div>"
     },
     "execution_count": 63,
     "metadata": {},
     "output_type": "execute_result"
    }
   ],
   "source": [
    "df_receipt['rank'] = df_receipt['amount'].rank(method='dense',ascending=False)\n",
    "new_df = df_receipt.sort_values(by='rank').head(10)\n",
    "result = new_df[['customer_id', 'amount', 'rank']]\n",
    "result"
   ]
  },
  {
   "cell_type": "markdown",
   "metadata": {},
   "source": [
    "---\n",
    "> P-021: Count the number of items in the receipt details data (df_receipt)."
   ]
  },
  {
   "cell_type": "code",
   "execution_count": null,
   "metadata": {
    "ExecuteTime": {
     "start_time": "2024-09-05T13:10:24.389023900Z"
    }
   },
   "outputs": [],
   "source": []
  },
  {
   "cell_type": "markdown",
   "metadata": {},
   "source": [
    "---\n",
    "> P-022: Count the number of unique values in the customer ID (customer_id) column in the receipt details data (df_receipt)."
   ]
  },
  {
   "cell_type": "code",
   "execution_count": null,
   "metadata": {
    "ExecuteTime": {
     "start_time": "2024-09-05T13:10:24.391023900Z"
    }
   },
   "outputs": [],
   "source": []
  },
  {
   "cell_type": "markdown",
   "metadata": {},
   "source": [
    "---\n",
    "> P-023: For the receipt details data (df_receipt), sum the sales amount (amount) and sales quantity (quantity) for each store code (store_cd)."
   ]
  },
  {
   "cell_type": "code",
   "execution_count": null,
   "metadata": {
    "ExecuteTime": {
     "start_time": "2024-09-05T13:10:24.392023900Z"
    }
   },
   "outputs": [],
   "source": []
  },
  {
   "cell_type": "markdown",
   "metadata": {},
   "source": [
    "---\n",
    "> P-024: For each customer ID (customer_id) in the receipt details data (df_receipt), find the most recent sales date (sales_ymd), and display the top 10 rows."
   ]
  },
  {
   "cell_type": "code",
   "execution_count": null,
   "metadata": {
    "ExecuteTime": {
     "start_time": "2024-09-05T13:10:24.393023900Z"
    }
   },
   "outputs": [],
   "source": []
  },
  {
   "cell_type": "markdown",
   "metadata": {},
   "source": [
    "---\n",
    "> P-025: For each customer ID (customer_id) in the receipt details data (df_receipt), find the oldest sales date (sales_ymd), and display the top 10 rows."
   ]
  },
  {
   "cell_type": "code",
   "execution_count": null,
   "metadata": {
    "ExecuteTime": {
     "start_time": "2024-09-05T13:10:24.394025300Z"
    }
   },
   "outputs": [],
   "source": []
  },
  {
   "cell_type": "markdown",
   "metadata": {},
   "source": [
    "---\n",
    "> P-026: For each customer ID (customer_id) in the receipt details data (df_receipt), find the most recent and the oldest sales dates (sales_ymd), and display the top 10 rows where the gap is the smallest."
   ]
  },
  {
   "cell_type": "code",
   "execution_count": null,
   "metadata": {
    "ExecuteTime": {
     "start_time": "2024-09-05T13:10:24.395025800Z"
    }
   },
   "outputs": [],
   "source": []
  },
  {
   "cell_type": "markdown",
   "metadata": {},
   "source": [
    "---\n",
    "> P-027: For each store code (store_cd) in the receipt details data (df_receipt), calculate the average sales amount (amount), and display the top 5 in descending order."
   ]
  },
  {
   "cell_type": "code",
   "execution_count": null,
   "metadata": {
    "ExecuteTime": {
     "start_time": "2024-09-05T13:10:24.397023900Z"
    }
   },
   "outputs": [],
   "source": []
  },
  {
   "cell_type": "markdown",
   "metadata": {},
   "source": [
    "---\n",
    "> P-028: For each store code (store_cd) in the receipt details data (df_receipt), calculate the median sales amount (amount), and display the top 5 in descending order."
   ]
  },
  {
   "cell_type": "code",
   "execution_count": null,
   "metadata": {
    "ExecuteTime": {
     "start_time": "2024-09-05T13:10:24.398024700Z"
    }
   },
   "outputs": [],
   "source": []
  },
  {
   "cell_type": "markdown",
   "metadata": {},
   "source": [
    "---\n",
    "> P-029: For each store code (store_cd) in the receipt details data (df_receipt), find the most frequent product code (product_cd), and display the top 10."
   ]
  },
  {
   "cell_type": "code",
   "execution_count": null,
   "metadata": {
    "ExecuteTime": {
     "start_time": "2024-09-05T13:10:24.399025900Z"
    }
   },
   "outputs": [],
   "source": []
  },
  {
   "cell_type": "markdown",
   "metadata": {},
   "source": [
    "---\n",
    "> P-030: For each store code (store_cd) in the receipt details data (df_receipt), calculate the variance of the sales amount (amount), and display the top 5 in descending order."
   ]
  },
  {
   "cell_type": "code",
   "execution_count": null,
   "metadata": {
    "ExecuteTime": {
     "start_time": "2024-09-05T13:10:24.400023400Z"
    }
   },
   "outputs": [],
   "source": []
  },
  {
   "cell_type": "markdown",
   "metadata": {},
   "source": [
    "---\n",
    "> P-031: For each store code (store_cd) in the receipt details data (df_receipt), calculate the standard deviation of the sales amount (amount), and display the top 5 in descending order."
   ]
  },
  {
   "cell_type": "markdown",
   "metadata": {},
   "source": [
    "TIPS:\n",
    "\n",
    "Pay attention to the default ddof value difference between Pandas and Numpy.\n",
    "```\n",
    "Pandas：\n",
    "DataFrame.std(self, axis=None, skipna=None, level=None, ddof=1, numeric_only=None, **kwargs)\n",
    "Numpy:\n",
    "numpy.std(a, axis=None, dtype=None, out=None, ddof=0, keepdims=)\n",
    "```"
   ]
  },
  {
   "cell_type": "code",
   "execution_count": null,
   "metadata": {
    "ExecuteTime": {
     "start_time": "2024-09-05T13:10:24.401262100Z"
    }
   },
   "outputs": [],
   "source": []
  },
  {
   "cell_type": "markdown",
   "metadata": {},
   "source": [
    "---\n",
    "> P-032: For the sales amount (amount) in the receipt details data (df_receipt), calculate the 25th and 75th percentile values."
   ]
  },
  {
   "cell_type": "code",
   "execution_count": null,
   "metadata": {
    "ExecuteTime": {
     "start_time": "2024-09-05T13:10:24.401262100Z"
    }
   },
   "outputs": [],
   "source": []
  },
  {
   "cell_type": "markdown",
   "metadata": {},
   "source": [
    "---\n",
    "> P-033: For the receipt details data (df_receipt), calculate the average sales amount (amount) for each store code (store_cd), and extract those that are 330 or more."
   ]
  },
  {
   "cell_type": "code",
   "execution_count": null,
   "metadata": {
    "ExecuteTime": {
     "start_time": "2024-09-05T13:10:24.402263200Z"
    }
   },
   "outputs": [],
   "source": []
  },
  {
   "cell_type": "markdown",
   "metadata": {},
   "source": [
    "---\n",
    "> P-034: For the receipt details data (df_receipt), calculate the average sales amount (amount) per customer ID (customer_id), and exclude the average sales amount per customer whose ID starts with \"Z\" from the overall average calculation."
   ]
  },
  {
   "cell_type": "code",
   "execution_count": null,
   "metadata": {
    "ExecuteTime": {
     "start_time": "2024-09-05T13:10:24.403264800Z"
    }
   },
   "outputs": [],
   "source": []
  },
  {
   "cell_type": "markdown",
   "metadata": {},
   "source": [
    "---\n",
    "> P-035: For the receipt details data (df_receipt), calculate the average sales amount (amount) per customer ID (customer_id), and extract the top 10 customers with above-average sales amounts. Exclude the average sales amount per customer whose ID starts with \"Z\" from the overall average calculation."
   ]
  },
  {
   "cell_type": "code",
   "execution_count": null,
   "metadata": {
    "ExecuteTime": {
     "start_time": "2024-09-05T13:10:24.404263800Z"
    }
   },
   "outputs": [],
   "source": []
  },
  {
   "cell_type": "markdown",
   "metadata": {},
   "source": [
    "---\n",
    "> P-036: Merge the receipt details data (df_receipt) and the store data (df_store), and display 10 rows of all items, including the store name (store_name) from the store data."
   ]
  },
  {
   "cell_type": "code",
   "execution_count": null,
   "metadata": {
    "ExecuteTime": {
     "start_time": "2024-09-05T13:10:24.405263400Z"
    }
   },
   "outputs": [],
   "source": []
  },
  {
   "cell_type": "markdown",
   "metadata": {},
   "source": [
    "---\n",
    "> P-037: Merge the product data (df_product) and the category data (df_category), and display 10 rows of all items, including the category small name (category_small_name) from the category data."
   ]
  },
  {
   "cell_type": "code",
   "execution_count": null,
   "metadata": {
    "ExecuteTime": {
     "start_time": "2024-09-05T13:10:24.406263600Z"
    }
   },
   "outputs": [],
   "source": []
  },
  {
   "cell_type": "markdown",
   "metadata": {},
   "source": [
    "---\n",
    "> P-038: From the customer data (df_customer) and the receipt details data (df_receipt), calculate the total sales amount for each customer and display the top 10. However, exclude customers without sales data and only display female customers (gender code (gender_cd) = 1)."
   ]
  },
  {
   "cell_type": "code",
   "execution_count": null,
   "metadata": {
    "ExecuteTime": {
     "start_time": "2024-09-05T13:10:24.407263800Z"
    }
   },
   "outputs": [],
   "source": []
  },
  {
   "cell_type": "markdown",
   "metadata": {},
   "source": [
    "---\n",
    "> P-039: From the receipt details data (df_receipt), create a dataset of the top 20 customers with the highest number of sales transactions and another dataset of the top 20 customers with the highest total sales amount, then merge these two datasets to display the top 20. Exclude non-members (customer ID (customer_id) starting with \"Z\")."
   ]
  },
  {
   "cell_type": "code",
   "execution_count": null,
   "metadata": {
    "ExecuteTime": {
     "start_time": "2024-09-05T13:10:24.408268400Z"
    }
   },
   "outputs": [],
   "source": []
  },
  {
   "cell_type": "markdown",
   "metadata": {},
   "source": [
    "---\n",
    "> P-040: Create a dataset combining all products from all stores, and merge it with the store data (df_store) and product data (df_product)."
   ]
  },
  {
   "cell_type": "code",
   "execution_count": null,
   "metadata": {
    "ExecuteTime": {
     "start_time": "2024-09-05T13:10:24.410271700Z"
    }
   },
   "outputs": [],
   "source": []
  },
  {
   "cell_type": "markdown",
   "metadata": {},
   "source": [
    "---\n",
    "> P-041: For the sales amount (amount) in the receipt details data (df_receipt), calculate the difference in sales amount for each sales date (sales_ymd) compared to the previous day, then display the top 10 results."
   ]
  },
  {
   "cell_type": "code",
   "execution_count": null,
   "metadata": {
    "ExecuteTime": {
     "start_time": "2024-09-05T13:10:24.411271800Z"
    }
   },
   "outputs": [],
   "source": []
  },
  {
   "cell_type": "markdown",
   "metadata": {},
   "source": [
    "---\n",
    "> P-042: For the sales amount (amount) in the receipt details data (df_receipt), calculate the difference in sales amount for each sales date (sales_ymd) compared to the previous day, two days before, and three days before, then display the top 10 results."
   ]
  },
  {
   "cell_type": "code",
   "execution_count": null,
   "metadata": {
    "ExecuteTime": {
     "start_time": "2024-09-05T13:10:24.412269300Z"
    }
   },
   "outputs": [],
   "source": []
  },
  {
   "cell_type": "markdown",
   "metadata": {},
   "source": [
    "---\n",
    "> P-043: Merge the receipt details data (df_receipt) and customer data (df_customer), and create a summary dataset of total sales amount (amount) by gender code (gender_cd) and age group. Gender code 0 indicates male, 1 indicates female, and 9 indicates unknown. Display the total sales amount for each gender and age group, as well as a crosstabulation of gender and age group. Also, display the top 10 rows."
   ]
  },
  {
   "cell_type": "code",
   "execution_count": null,
   "metadata": {
    "ExecuteTime": {
     "start_time": "2024-09-05T13:10:24.413268100Z"
    }
   },
   "outputs": [],
   "source": []
  },
  {
   "cell_type": "markdown",
   "metadata": {},
   "source": [
    "---\n",
    "> P-044: The summary dataset created in P-043 (df_sales_summary) shows the total sales amount by gender and age group. Change the gender code values to \"00\" for male, \"01\" for female, and \"99\" for unknown, then display the top 10 rows."
   ]
  },
  {
   "cell_type": "code",
   "execution_count": null,
   "metadata": {
    "ExecuteTime": {
     "start_time": "2024-09-05T13:10:24.414269400Z"
    }
   },
   "outputs": [],
   "source": []
  },
  {
   "cell_type": "markdown",
   "metadata": {},
   "source": [
    "---\n",
    "> P-045: The birth date (birth_day) in the customer data (df_customer) is stored as date type data. Convert this to a string in the format YYYYMMDD and display it along with the customer ID (customer_id), showing the top 10 rows."
   ]
  },
  {
   "cell_type": "code",
   "execution_count": null,
   "metadata": {
    "ExecuteTime": {
     "start_time": "2024-09-05T13:10:24.415268400Z"
    }
   },
   "outputs": [],
   "source": []
  },
  {
   "cell_type": "markdown",
   "metadata": {},
   "source": [
    "---\n",
    "> P-046: The application date (application_date) in the customer data (df_customer) is stored as a string in the format YYYYMMDD. Convert this to date type data and display it along with the customer ID (customer_id), showing the top 10 rows."
   ]
  },
  {
   "cell_type": "code",
   "execution_count": null,
   "metadata": {
    "ExecuteTime": {
     "start_time": "2024-09-05T13:10:24.416268600Z"
    }
   },
   "outputs": [],
   "source": []
  },
  {
   "cell_type": "markdown",
   "metadata": {},
   "source": [
    "---\n",
    "> P-047: The sales date (sales_ymd) in the receipt details data (df_receipt) is stored as an integer in the format YYYYMMDD. Convert this to date type data and display it along with the receipt number (receipt_no) and receipt sub-number (receipt_sub_no), showing the top 10 rows."
   ]
  },
  {
   "cell_type": "code",
   "execution_count": null,
   "metadata": {
    "ExecuteTime": {
     "start_time": "2024-09-05T13:10:24.416268600Z"
    }
   },
   "outputs": [],
   "source": []
  },
  {
   "cell_type": "markdown",
   "metadata": {},
   "source": [
    "---\n",
    "> P-048: The sales epoch (sales_epoch) in the receipt details data (df_receipt) is stored as integer UNIX seconds. Convert this to date type data and display it along with the receipt number (receipt_no) and receipt sub-number (receipt_sub_no), showing the top 10 rows."
   ]
  },
  {
   "cell_type": "code",
   "execution_count": null,
   "metadata": {
    "ExecuteTime": {
     "start_time": "2024-09-05T13:10:24.417269700Z"
    }
   },
   "outputs": [],
   "source": []
  },
  {
   "cell_type": "markdown",
   "metadata": {},
   "source": [
    "---\n",
    "> P-049: Convert the sales epoch (sales_epoch) in the receipt details data (df_receipt) to date type data and extract only the \"year\". Display this along with the receipt number (receipt_no) and receipt sub-number (receipt_sub_no), showing the top 10 rows."
   ]
  },
  {
   "cell_type": "code",
   "execution_count": null,
   "metadata": {
    "ExecuteTime": {
     "start_time": "2024-09-05T13:10:24.418270700Z"
    }
   },
   "outputs": [],
   "source": []
  },
  {
   "cell_type": "markdown",
   "metadata": {},
   "source": [
    "---\n",
    "> P-050: Convert the sales epoch (sales_epoch) in the receipt details data (df_receipt) to date type data and extract only the \"month\". Display this along with the receipt number (receipt_no) and receipt sub-number (receipt_sub_no), showing the top 10 rows. Note that \"month\" should be extracted as a 2-digit number."
   ]
  },
  {
   "cell_type": "code",
   "execution_count": null,
   "metadata": {
    "ExecuteTime": {
     "start_time": "2024-09-05T13:10:24.419268600Z"
    }
   },
   "outputs": [],
   "source": []
  },
  {
   "cell_type": "markdown",
   "metadata": {},
   "source": [
    "---\n",
    "> P-051: Convert the sales epoch (sales_epoch) in the receipt details data (df_receipt) to date type data and extract only the \"day\". Display this along with the receipt number (receipt_no) and receipt sub-number (receipt_sub_no), showing the top 10 rows. Note that \"day\" should be extracted as a 2-digit number."
   ]
  },
  {
   "cell_type": "code",
   "execution_count": null,
   "metadata": {
    "ExecuteTime": {
     "start_time": "2024-09-05T13:10:24.420269Z"
    }
   },
   "outputs": [],
   "source": []
  },
  {
   "cell_type": "markdown",
   "metadata": {},
   "source": [
    "---\n",
    "> P-052: For the receipt details data (df_receipt), calculate the total sales amount (amount) for each customer ID (customer_id). If the total is 2,000 yen or less, double the amount; if it is more than 2,000 yen, halve the amount. Display the customer ID and the calculated sales amount, showing the top 10 rows. Exclude customers whose ID starts with \"Z\"."
   ]
  },
  {
   "cell_type": "code",
   "execution_count": null,
   "metadata": {
    "ExecuteTime": {
     "start_time": "2024-09-05T13:10:24.421174900Z"
    }
   },
   "outputs": [],
   "source": []
  },
  {
   "cell_type": "markdown",
   "metadata": {},
   "source": [
    "---\n",
    "> P-053: For the customer data (df_customer), reclassify the postal code (postal_cd) into two categories: \"Tokyo\" (if the first three digits are between 100 and 209) and \"Other\". Merge this with the receipt details data (df_receipt) and count the number of customers with sales records within each category."
   ]
  },
  {
   "cell_type": "code",
   "execution_count": null,
   "metadata": {
    "ExecuteTime": {
     "start_time": "2024-09-05T13:10:24.421680400Z"
    }
   },
   "outputs": [],
   "source": []
  },
  {
   "cell_type": "markdown",
   "metadata": {},
   "source": [
    "---\n",
    "> P-054: The address (address) in the customer data (df_customer) contains prefectures such as Saitama, Chiba, Tokyo, and Kanagawa. Create a code table for these prefectures and display it along with the customer ID and address, showing the top 10 rows. Assign Saitama a code of 11, Chiba 12, Tokyo 13, and Kanagawa 14."
   ]
  },
  {
   "cell_type": "code",
   "execution_count": 12,
   "metadata": {
    "ExecuteTime": {
     "end_time": "2024-09-05T13:10:28.090873500Z",
     "start_time": "2024-09-05T13:10:24.422686100Z"
    }
   },
   "outputs": [],
   "source": []
  },
  {
   "cell_type": "markdown",
   "metadata": {},
   "source": [
    "---\n",
    "> P-055: For the receipt details data (df_receipt), calculate the total sales amount (amount) for each customer ID (customer_id) and determine its quartile rank. Based on the quartile rank, create a category with the following values and display the customer ID and total sales amount, showing the top 10 rows:\n",
    "> - 1: Bottom quartile (0-25%)\n",
    "> - 2: Second quartile (25-50%)\n",
    "> - 3: Third quartile (50-75%)\n",
    "> - 4: Top quartile (75-100%)"
   ]
  },
  {
   "cell_type": "code",
   "execution_count": 12,
   "metadata": {
    "ExecuteTime": {
     "end_time": "2024-09-05T13:10:28.113380900Z",
     "start_time": "2024-09-05T13:10:24.441777900Z"
    }
   },
   "outputs": [],
   "source": []
  },
  {
   "cell_type": "markdown",
   "metadata": {},
   "source": [
    "---\n",
    "> P-056: Extract the age (age) from the customer data (df_customer) and classify it into age groups by decade. Display the customer ID and birth date (birth_day), showing the top 10 rows. Treat customers aged 60 and above as a single category of \"60+\". The age category should be labeled."
   ]
  },
  {
   "cell_type": "code",
   "execution_count": 12,
   "metadata": {
    "ExecuteTime": {
     "end_time": "2024-09-05T13:10:28.133428100Z",
     "start_time": "2024-09-05T13:10:24.455909700Z"
    }
   },
   "outputs": [],
   "source": []
  },
  {
   "cell_type": "markdown",
   "metadata": {},
   "source": [
    "---\n",
    "> P-057: Using the extracted age groups and gender code (gender_cd) from P-056, create a new categorical dataset representing the combination of age group and gender. Display the top 10 rows and list the unique values of the combined category."
   ]
  },
  {
   "cell_type": "code",
   "execution_count": 12,
   "metadata": {
    "ExecuteTime": {
     "end_time": "2024-09-05T13:10:28.152229700Z",
     "start_time": "2024-09-05T13:10:24.469101Z"
    }
   },
   "outputs": [],
   "source": []
  },
  {
   "cell_type": "markdown",
   "metadata": {},
   "source": [
    "---\n",
    "> P-058: P-058: Convert the gender code (gender_cd) in the customer data (df_customer) to dummy variables and display it along with the customer ID (customer_id), showing the top 10 rows."
   ]
  },
  {
   "cell_type": "code",
   "execution_count": 12,
   "metadata": {
    "ExecuteTime": {
     "end_time": "2024-09-05T13:10:28.170658Z",
     "start_time": "2024-09-05T13:10:24.482991900Z"
    }
   },
   "outputs": [],
   "source": []
  },
  {
   "cell_type": "markdown",
   "metadata": {},
   "source": [
    "---\n",
    "> P-059: For the receipt details data (df_receipt), calculate the average, standard deviation, and coefficient of variation of the total sales amount (amount) for each customer ID (customer_id), and display the top 10 rows along with the customer ID and total sales amount. Use either the population standard deviation or the sample standard deviation. Exclude customers whose ID starts with \"Z\"."
   ]
  },
  {
   "cell_type": "markdown",
   "metadata": {},
   "source": [
    "TIPS:\n",
    "- You can specify \"python\" or \"numexpr\" as the query engine in the argument of the query() method. The default is \"numexpr\" if installed, otherwise \"python\" is used. Additionally, the string method engine='python' cannot be used within query().\n"
   ]
  },
  {
   "cell_type": "code",
   "execution_count": 12,
   "metadata": {
    "ExecuteTime": {
     "end_time": "2024-09-05T13:10:28.193560700Z",
     "start_time": "2024-09-05T13:10:24.514312600Z"
    }
   },
   "outputs": [],
   "source": []
  },
  {
   "cell_type": "markdown",
   "metadata": {},
   "source": [
    "---\n",
    "> P-060: For the receipt details data (df_receipt), calculate the minimum and maximum total sales amount (amount) for each customer ID (customer_id), and normalize these values. Display the top 10 rows along with the customer ID and total sales amount. Exclude customers whose ID starts with \"Z\"."
   ]
  },
  {
   "cell_type": "code",
   "execution_count": 12,
   "metadata": {
    "ExecuteTime": {
     "end_time": "2024-09-05T13:10:28.221453600Z",
     "start_time": "2024-09-05T13:10:24.531362Z"
    }
   },
   "outputs": [],
   "source": []
  },
  {
   "cell_type": "markdown",
   "metadata": {},
   "source": [
    "---\n",
    "> P-061: For the receipt details data (df_receipt), calculate the total sales amount (amount) for each customer ID (customer_id), and apply the natural logarithm transformation (base 10). Display the top 10 rows along with the customer ID and total sales amount. Exclude customers whose ID starts with \"Z\"."
   ]
  },
  {
   "cell_type": "code",
   "execution_count": 12,
   "metadata": {
    "ExecuteTime": {
     "end_time": "2024-09-05T13:10:28.259733700Z",
     "start_time": "2024-09-05T13:10:24.546360500Z"
    }
   },
   "outputs": [],
   "source": []
  },
  {
   "cell_type": "markdown",
   "metadata": {},
   "source": [
    "---\n",
    "> P-062: For the receipt details data (df_receipt), calculate the total sales amount (amount) for each customer ID (customer_id), and apply the natural logarithm transformation (base e). Display the top 10 rows along with the customer ID and total sales amount. Exclude customers whose ID starts with \"Z\"."
   ]
  },
  {
   "cell_type": "code",
   "execution_count": 12,
   "metadata": {
    "ExecuteTime": {
     "end_time": "2024-09-05T13:10:28.285024300Z",
     "start_time": "2024-09-05T13:10:24.562381400Z"
    }
   },
   "outputs": [],
   "source": []
  },
  {
   "cell_type": "markdown",
   "metadata": {},
   "source": [
    "---\n",
    "> P-063: For the product data (df_product), calculate the gross profit for each product using the unit price (unit_price) and unit cost (unit_cost), and display the top 10 rows."
   ]
  },
  {
   "cell_type": "code",
   "execution_count": 12,
   "metadata": {
    "ExecuteTime": {
     "end_time": "2024-09-05T13:10:28.297307Z",
     "start_time": "2024-09-05T13:10:24.578309100Z"
    }
   },
   "outputs": [],
   "source": []
  },
  {
   "cell_type": "markdown",
   "metadata": {},
   "source": [
    "---\n",
    "> P-064: For each product in the product data (df_product), calculate the average gross profit margin using the unit price (unit_price) and unit cost (unit_cost). Note that the unit price and unit cost may have missing values."
   ]
  },
  {
   "cell_type": "code",
   "execution_count": 12,
   "metadata": {
    "ExecuteTime": {
     "end_time": "2024-09-05T13:10:28.332877300Z",
     "start_time": "2024-09-05T13:10:24.593271100Z"
    }
   },
   "outputs": [],
   "source": []
  },
  {
   "cell_type": "markdown",
   "metadata": {},
   "source": [
    "---\n",
    "> P-065: For each product in the product data (df_product), calculate the new unit price that achieves a gross profit margin of 30%. Round down to the nearest yen. Display the top 10 results and confirm that the gross profit margin is approximately 30%. Note that the unit price (unit_price) and unit cost (unit_cost) may have missing values."
   ]
  },
  {
   "cell_type": "code",
   "execution_count": 12,
   "metadata": {
    "ExecuteTime": {
     "end_time": "2024-09-05T13:10:28.352841300Z",
     "start_time": "2024-09-05T13:10:24.608046200Z"
    }
   },
   "outputs": [],
   "source": []
  },
  {
   "cell_type": "markdown",
   "metadata": {},
   "source": [
    "---\n",
    "> P-066: For each product in the product data (df_product), calculate the new unit price that achieves a gross profit margin of 30%. This time, round up to the nearest yen (ceil). Display the top 10 results and confirm that the gross profit margin is approximately 30%. Note that the unit price (unit_price) and unit cost (unit_cost) may have missing values."
   ]
  },
  {
   "cell_type": "code",
   "execution_count": 12,
   "metadata": {
    "ExecuteTime": {
     "end_time": "2024-09-05T13:10:28.361946100Z",
     "start_time": "2024-09-05T13:10:24.621254100Z"
    }
   },
   "outputs": [],
   "source": []
  },
  {
   "cell_type": "markdown",
   "metadata": {},
   "source": [
    "---\n",
    "> P-067: For each product in the product data (df_product), calculate the new unit price that achieves a gross profit margin of 30%. This time, round up to the nearest yen. Display the top 10 results and confirm that the gross profit margin is approximately 30%. Note that the unit price (unit_price) and unit cost (unit_cost) may have missing values."
   ]
  },
  {
   "cell_type": "code",
   "execution_count": 12,
   "metadata": {
    "ExecuteTime": {
     "end_time": "2024-09-05T13:10:28.382321400Z",
     "start_time": "2024-09-05T13:10:24.635038600Z"
    }
   },
   "outputs": [],
   "source": []
  },
  {
   "cell_type": "markdown",
   "metadata": {},
   "source": [
    "---\n",
    "> P-068: For each product in the product data (df_product), calculate the price including a 10% consumption tax. Round down to the nearest yen and display the top 10 results. Note that the unit price (unit_price) may have missing values."
   ]
  },
  {
   "cell_type": "code",
   "execution_count": 12,
   "metadata": {
    "ExecuteTime": {
     "end_time": "2024-09-05T13:10:28.408675700Z",
     "start_time": "2024-09-05T13:10:24.656519700Z"
    }
   },
   "outputs": [],
   "source": []
  },
  {
   "cell_type": "markdown",
   "metadata": {},
   "source": [
    "---\n",
    "> P-069: Merge the receipt details data (df_receipt) and the product data (df_product), then calculate the total sales amount for each customer annually. Calculate the percentage of sales for the category major code (category_major_cd) \"07\" (Household appliances) and display the top 10 results. The extraction target is the category major code \"07\"."
   ]
  },
  {
   "cell_type": "code",
   "execution_count": 12,
   "metadata": {
    "ExecuteTime": {
     "end_time": "2024-09-05T13:10:28.418934800Z",
     "start_time": "2024-09-05T13:10:24.669863Z"
    }
   },
   "outputs": [],
   "source": []
  },
  {
   "cell_type": "markdown",
   "metadata": {},
   "source": [
    "---\n",
    "> P-070: For the receipt details data (df_receipt), calculate the number of elapsed days from the application date (application_date) of the customer data (df_customer) for each sales date (sales_ymd). Display the customer ID (customer_id), sales date, and elapsed days along with the application date, showing the top 10 rows. Note that the application date is stored as a string."
   ]
  },
  {
   "cell_type": "code",
   "execution_count": 12,
   "metadata": {
    "ExecuteTime": {
     "end_time": "2024-09-05T13:10:28.439938200Z",
     "start_time": "2024-09-05T13:10:24.684231600Z"
    }
   },
   "outputs": [],
   "source": []
  },
  {
   "cell_type": "markdown",
   "metadata": {},
   "source": [
    "---\n",
    "> P-071: For the receipt details data (df_receipt), calculate the number of elapsed months from the application date (application_date) in the customer data (df_customer) for each sales date (sales_ymd). Display the customer ID (customer_id), sales date, application date, and elapsed months along with the top 10 rows. Note that sales_ymd is stored as an integer."
   ]
  },
  {
   "cell_type": "code",
   "execution_count": 12,
   "metadata": {
    "ExecuteTime": {
     "end_time": "2024-09-05T13:10:28.460465500Z",
     "start_time": "2024-09-05T13:10:24.697437400Z"
    }
   },
   "outputs": [],
   "source": []
  },
  {
   "cell_type": "markdown",
   "metadata": {},
   "source": [
    "---\n",
    "> P-072: For the receipt details data (df_receipt), calculate the number of elapsed years from the application date (application_date) in the customer data (df_customer) for each sales date (sales_ymd). Display the customer ID (customer_id), sales date, application date, and elapsed years along with the top 10 rows. Note that sales_ymd is stored as an integer."
   ]
  },
  {
   "cell_type": "code",
   "execution_count": 12,
   "metadata": {
    "ExecuteTime": {
     "end_time": "2024-09-05T13:10:28.482693200Z",
     "start_time": "2024-09-05T13:10:24.714422200Z"
    }
   },
   "outputs": [],
   "source": []
  },
  {
   "cell_type": "markdown",
   "metadata": {},
   "source": [
    "---\n",
    "> P-073: For the receipt details data (df_receipt), calculate the elapsed time in epochs from the application date (application_date) in the customer data (df_customer) for each sales date (sales_ymd). Display the customer ID (customer_id), sales date, application date, and elapsed time in epochs along with the top 10 rows. Note that sales_ymd and application_date are stored as integers. Also, assume that the default time for dates without a time component is 00:00:00."
   ]
  },
  {
   "cell_type": "code",
   "execution_count": 12,
   "metadata": {
    "ExecuteTime": {
     "end_time": "2024-09-05T13:10:28.503062700Z",
     "start_time": "2024-09-05T13:10:24.725939900Z"
    }
   },
   "outputs": [],
   "source": []
  },
  {
   "cell_type": "markdown",
   "metadata": {},
   "source": [
    "---\n",
    "> P-074: For the receipt details data (df_receipt), calculate the number of elapsed months from the current month to each sales date (sales_ymd). Display the sales date, current month, and elapsed months along with the top 10 rows. Note that sales_ymd is stored as an integer."
   ]
  },
  {
   "cell_type": "code",
   "execution_count": 12,
   "metadata": {
    "ExecuteTime": {
     "end_time": "2024-09-05T13:10:28.525677600Z",
     "start_time": "2024-09-05T13:10:24.741252Z"
    }
   },
   "outputs": [],
   "source": []
  },
  {
   "cell_type": "markdown",
   "metadata": {},
   "source": [
    "---\n",
    "> P-075: Randomly sample 1% of the data from the customer data (df_customer) and display the top 10 rows."
   ]
  },
  {
   "cell_type": "code",
   "execution_count": 12,
   "metadata": {
    "ExecuteTime": {
     "end_time": "2024-09-05T13:10:28.537935200Z",
     "start_time": "2024-09-05T13:10:24.754859900Z"
    }
   },
   "outputs": [],
   "source": []
  },
  {
   "cell_type": "markdown",
   "metadata": {},
   "source": [
    "---\n",
    "> P-076: Randomly sample 10% of the data from the customer data (df_customer) by gender (gender_cd), and display the frequency count for each gender."
   ]
  },
  {
   "cell_type": "code",
   "execution_count": 12,
   "metadata": {
    "ExecuteTime": {
     "end_time": "2024-09-05T13:10:28.572687300Z",
     "start_time": "2024-09-05T13:10:24.772883600Z"
    }
   },
   "outputs": [],
   "source": []
  },
  {
   "cell_type": "markdown",
   "metadata": {},
   "source": [
    "---\n",
    "> P-077: For the receipt details data (df_receipt), calculate the sales amount per transaction, identify and extract outliers, and calculate the average and standard deviation for the remaining transactions. Consider values that are more than 3 standard deviations away from the average as outliers. Display the results and the top 10 rows."
   ]
  },
  {
   "cell_type": "code",
   "execution_count": 12,
   "metadata": {
    "ExecuteTime": {
     "end_time": "2024-09-05T13:10:28.582184Z",
     "start_time": "2024-09-05T13:10:24.786103300Z"
    }
   },
   "outputs": [],
   "source": []
  },
  {
   "cell_type": "markdown",
   "metadata": {},
   "source": [
    "---\n",
    "> P-078: For the receipt details data (df_receipt), calculate the sales amount (amount) per transaction and identify outliers. Exclude non-members whose customer ID starts with \"Z\" from the calculation. Use the IQR method to identify outliers, defined as values greater than Q3 + 1.5 * IQR or less than Q1 - 1.5 * IQR. Display the results and the top 10 rows."
   ]
  },
  {
   "cell_type": "code",
   "execution_count": 12,
   "metadata": {
    "ExecuteTime": {
     "end_time": "2024-09-05T13:10:28.626255100Z",
     "start_time": "2024-09-05T13:10:24.815897200Z"
    }
   },
   "outputs": [],
   "source": []
  },
  {
   "cell_type": "markdown",
   "metadata": {},
   "source": [
    "---\n",
    "> P-079: For the product data (df_product), check for missing values in each item."
   ]
  },
  {
   "cell_type": "code",
   "execution_count": 12,
   "metadata": {
    "ExecuteTime": {
     "end_time": "2024-09-05T13:10:28.653738200Z",
     "start_time": "2024-09-05T13:10:24.839247300Z"
    }
   },
   "outputs": [],
   "source": []
  },
  {
   "cell_type": "markdown",
   "metadata": {},
   "source": [
    "---\n",
    "> P-080: For the product data (df_product), create a new dataset by removing records with missing values in any of the items. Confirm that there are no missing values left by verifying the count of records before and after the operation performed in P-079."
   ]
  },
  {
   "cell_type": "code",
   "execution_count": 12,
   "metadata": {
    "ExecuteTime": {
     "end_time": "2024-09-05T13:10:28.665746Z",
     "start_time": "2024-09-05T13:10:24.854111800Z"
    }
   },
   "outputs": [],
   "source": []
  },
  {
   "cell_type": "markdown",
   "metadata": {},
   "source": [
    "---\n",
    "> P-081: For the product data (df_product), impute missing values in unit price (unit_price) and unit cost (unit_cost) with their respective means, and create a new dataset. Round up the means to the nearest yen if necessary. After imputation, confirm that there are no missing values in any of the items."
   ]
  },
  {
   "cell_type": "code",
   "execution_count": 12,
   "metadata": {
    "ExecuteTime": {
     "end_time": "2024-09-05T13:10:28.696763500Z",
     "start_time": "2024-09-05T13:10:24.866594600Z"
    }
   },
   "outputs": [],
   "source": []
  },
  {
   "cell_type": "markdown",
   "metadata": {
    "tags": []
   },
   "source": [
    "---\n",
    "> P-082: For the product data (df_product), impute missing values in unit price (unit_price) and unit cost (unit_cost) with their respective medians, and create a new dataset. Round up the medians to the nearest yen if necessary. After imputation, confirm that there are no missing values in any of the items."
   ]
  },
  {
   "cell_type": "code",
   "execution_count": 12,
   "metadata": {
    "ExecuteTime": {
     "end_time": "2024-09-05T13:10:28.776328400Z",
     "start_time": "2024-09-05T13:10:24.888926Z"
    }
   },
   "outputs": [],
   "source": []
  },
  {
   "cell_type": "markdown",
   "metadata": {},
   "source": [
    "---\n",
    "> P-083: For the product data (df_product), impute missing values in unit price (unit_price) and unit cost (unit_cost) by the median of each product's category small code (category_small_cd), and create a new dataset. Round up the medians to the nearest yen if necessary. After imputation, confirm that there are no missing values in any of the items."
   ]
  },
  {
   "cell_type": "code",
   "execution_count": 12,
   "metadata": {
    "ExecuteTime": {
     "end_time": "2024-09-05T13:10:28.814386600Z",
     "start_time": "2024-09-05T13:10:24.905958500Z"
    }
   },
   "outputs": [],
   "source": []
  },
  {
   "cell_type": "markdown",
   "metadata": {},
   "source": [
    "---\n",
    "> P-084: For the customer data (df_customer), calculate the total sales amount by occupation and the proportion of sales in 2019. Create a new dataset with these values, assuming no sales information exists if data is missing. Extract the proportion of sales and display the top 10 rows. Additionally, check for any missing values in the newly created data."
   ]
  },
  {
   "cell_type": "code",
   "execution_count": 12,
   "metadata": {
    "ExecuteTime": {
     "end_time": "2024-09-05T13:10:28.835756100Z",
     "start_time": "2024-09-05T13:10:24.927507300Z"
    }
   },
   "outputs": [],
   "source": []
  },
  {
   "cell_type": "markdown",
   "metadata": {},
   "source": [
    "---\n",
    "> P-085: For the customer data (df_customer), create new data by adding latitude and longitude coordinates for each postal code (postal_cd) using a geocode table (df_geocode). If a postal code has multiple coordinates, use the average latitude and longitude values. Display the top 10 rows to verify the results."
   ]
  },
  {
   "cell_type": "code",
   "execution_count": 12,
   "metadata": {
    "ExecuteTime": {
     "end_time": "2024-09-05T13:10:28.854710400Z",
     "start_time": "2024-09-05T13:10:24.941200100Z"
    }
   },
   "outputs": [],
   "source": []
  },
  {
   "cell_type": "markdown",
   "metadata": {},
   "source": [
    "---\n",
    "> P-086: Using the data created in P-085, combine it with the store data (df_store) based on the application store code (application_store_cd) to create a new dataset. Calculate the distance between the customer's address (latitude, longitude) and the store's address (latitude, longitude) for each application store and display the top 10 rows. You can use a library for distance calculation if necessary.\n",
    "\n",
    "$$\n",
    "\\mbox{緯度（ラジアン）}：\\phi \\\\\n",
    "\\mbox{経度（ラジアン）}：\\lambda \\\\\n",
    "\\mbox{距離}L = 6371 * \\arccos(\\sin \\phi_1 * \\sin \\phi_2\n",
    "+ \\cos \\phi_1 * \\cos \\phi_2 * \\cos(\\lambda_1 − \\lambda_2))\n",
    "$$"
   ]
  },
  {
   "cell_type": "code",
   "execution_count": 12,
   "metadata": {
    "ExecuteTime": {
     "end_time": "2024-09-05T13:10:28.875059800Z",
     "start_time": "2024-09-05T13:10:24.953211200Z"
    }
   },
   "outputs": [],
   "source": []
  },
  {
   "cell_type": "markdown",
   "metadata": {},
   "source": [
    "---\n",
    "> P-087: In the customer data (df_customer), there are cases where the same customer is registered at different stores under slightly different names or addresses. Create a new dataset by consolidating records where the customer name (customer_name) and postal code (postal_cd) are considered the same if they match exactly. In cases where there are discrepancies, prioritize the record with the higher total sales amount, or if sales amounts are equal, prioritize the record with the smaller customer ID."
   ]
  },
  {
   "cell_type": "code",
   "execution_count": 12,
   "metadata": {
    "ExecuteTime": {
     "end_time": "2024-09-05T13:10:28.894511900Z",
     "start_time": "2024-09-05T13:10:24.969274500Z"
    }
   },
   "outputs": [],
   "source": []
  },
  {
   "cell_type": "markdown",
   "metadata": {},
   "source": [
    "---\n",
    "> P-088: Using the data created in P-087, create a new dataset with consolidated customer data according to the following specifications:\n",
    "> - Retain only the customer ID (customer_id).\n",
    "> - For duplicate records, use the receipt number (receipt_no) from the previous extracted receipt record.\n",
    "> - Ensure the uniqueness of the customer ID in the new dataset."
   ]
  },
  {
   "cell_type": "code",
   "execution_count": 12,
   "metadata": {
    "ExecuteTime": {
     "end_time": "2024-09-05T13:10:28.914664400Z",
     "start_time": "2024-09-05T13:10:24.982751100Z"
    }
   },
   "outputs": [],
   "source": []
  },
  {
   "cell_type": "markdown",
   "metadata": {},
   "source": [
    "---\n",
    "> P-089: Split the receipt data (df_receipt) into training and test datasets for predictive modeling. Use an 80:20 ratio for the split."
   ]
  },
  {
   "cell_type": "code",
   "execution_count": 12,
   "metadata": {
    "ExecuteTime": {
     "end_time": "2024-09-05T13:10:28.933951Z",
     "start_time": "2024-09-05T13:10:24.994618600Z"
    }
   },
   "outputs": [],
   "source": []
  },
  {
   "cell_type": "markdown",
   "metadata": {},
   "source": [
    "---\n",
    "> P-090: For the receipt details data (df_receipt), extract data from January 1, 2017, to October 31, 2019. Create three sets of monthly sequential sales data: 12 months for training, 6 months for testing, and 6 months for validation."
   ]
  },
  {
   "cell_type": "code",
   "execution_count": 12,
   "metadata": {
    "ExecuteTime": {
     "end_time": "2024-09-05T13:10:28.952945400Z",
     "start_time": "2024-09-05T13:10:25.008683700Z"
    }
   },
   "outputs": [],
   "source": []
  },
  {
   "cell_type": "markdown",
   "metadata": {},
   "source": [
    "---\n",
    "> P-091: For the customer data (df_customer), perform undersampling to ensure that the number of customers without sales records is equal to the number of customers with sales records."
   ]
  },
  {
   "cell_type": "code",
   "execution_count": 12,
   "metadata": {
    "ExecuteTime": {
     "end_time": "2024-09-05T13:10:28.961952300Z",
     "start_time": "2024-09-05T13:10:25.022004300Z"
    }
   },
   "outputs": [],
   "source": []
  },
  {
   "cell_type": "markdown",
   "metadata": {},
   "source": [
    "---\n",
    "> P-092: For the customer data (df_customer), normalize the gender code (gender_cd) into three categories: male, female, and unknown."
   ]
  },
  {
   "cell_type": "code",
   "execution_count": 12,
   "metadata": {
    "ExecuteTime": {
     "end_time": "2024-09-05T13:10:28.988886Z",
     "start_time": "2024-09-05T13:10:25.034722500Z"
    }
   },
   "outputs": [],
   "source": []
  },
  {
   "cell_type": "markdown",
   "metadata": {},
   "source": [
    "---\n",
    "> P-093: For the product data (df_product), merge with the category data (df_category) to retain the category name while keeping the category code intact. Create a new product dataset with this combined information."
   ]
  },
  {
   "cell_type": "code",
   "execution_count": 12,
   "metadata": {
    "ExecuteTime": {
     "end_time": "2024-09-05T13:10:28.999561500Z",
     "start_time": "2024-09-05T13:10:25.047165Z"
    }
   },
   "outputs": [],
   "source": []
  },
  {
   "cell_type": "markdown",
   "metadata": {},
   "source": [
    "---\n",
    "> P-094: Save the new product dataset created in P-093 with the category names included as a CSV file with the following specifications:\n",
    "> - File format: CSV (comma-separated values)\n",
    "> - Header: No\n",
    "> - Text encoding: UTF-8\n",
    "> - File output path: /data"
   ]
  },
  {
   "cell_type": "code",
   "execution_count": 12,
   "metadata": {
    "ExecuteTime": {
     "end_time": "2024-09-05T13:10:29.016628700Z",
     "start_time": "2024-09-05T13:10:25.059795300Z"
    }
   },
   "outputs": [],
   "source": []
  },
  {
   "cell_type": "markdown",
   "metadata": {},
   "source": [
    "---\n",
    "> P-095: Save the new product dataset created in P-093 with the category names included as a CSV file with the following specifications:\n",
    "> - File format: CSV (comma-separated values)\n",
    "> - Header: Yes\n",
    "> - Text encoding: CP932\n",
    "> - File output path: /data"
   ]
  },
  {
   "cell_type": "code",
   "execution_count": 12,
   "metadata": {
    "ExecuteTime": {
     "end_time": "2024-09-05T13:10:29.036613200Z",
     "start_time": "2024-09-05T13:10:25.077112200Z"
    }
   },
   "outputs": [],
   "source": []
  },
  {
   "cell_type": "markdown",
   "metadata": {},
   "source": [
    "---\n",
    "> P-096: Save the new product dataset created in P-093 with the category names included as a CSV file with the following specifications:\n",
    "> - File format: CSV (comma-separated values)\n",
    "> - Header: No\n",
    "> - Text encoding: UTF-8\n",
    "> - File output path: /data"
   ]
  },
  {
   "cell_type": "code",
   "execution_count": 12,
   "metadata": {
    "ExecuteTime": {
     "end_time": "2024-09-05T13:10:29.058823100Z",
     "start_time": "2024-09-05T13:10:25.097543Z"
    }
   },
   "outputs": [],
   "source": []
  },
  {
   "cell_type": "markdown",
   "metadata": {},
   "source": [
    "---\n",
    "> P-097: Load the file created in P-094 and display 3 rows to confirm that the data is correctly imported. The file specifications are as follows:\n",
    "> - File format: CSV (comma-separated values)\n",
    "> - Header: Yes\n",
    "> - Text encoding: UTF-8"
   ]
  },
  {
   "cell_type": "code",
   "execution_count": 12,
   "metadata": {
    "ExecuteTime": {
     "end_time": "2024-09-05T13:10:29.078303200Z",
     "start_time": "2024-09-05T13:10:25.118842700Z"
    }
   },
   "outputs": [],
   "source": []
  },
  {
   "cell_type": "markdown",
   "metadata": {},
   "source": [
    "---\n",
    "> P-098: Load the file created in P-096 and display 3 rows to confirm that the data is correctly imported. The file specifications are as follows:\n",
    "> - File format: CSV (comma-separated values)\n",
    "> - Header: No\n",
    "> - Text encoding: UTF-8"
   ]
  },
  {
   "cell_type": "code",
   "execution_count": 12,
   "metadata": {
    "ExecuteTime": {
     "end_time": "2024-09-05T13:10:29.096244600Z",
     "start_time": "2024-09-05T13:10:25.134656Z"
    }
   },
   "outputs": [],
   "source": []
  },
  {
   "cell_type": "markdown",
   "metadata": {},
   "source": [
    "---\n",
    "> P-099: Save the new product dataset created in P-093 with the category names included as a TSV file with the following specifications:\n",
    "> - File format: TSV (tab-separated values)\n",
    "> - Header: Yes\n",
    "> - Text encoding: UTF-8\n",
    "> -File output path: /data"
   ]
  },
  {
   "cell_type": "code",
   "execution_count": 12,
   "metadata": {
    "ExecuteTime": {
     "end_time": "2024-09-05T13:10:29.117606Z",
     "start_time": "2024-09-05T13:10:25.149671500Z"
    }
   },
   "outputs": [],
   "source": []
  },
  {
   "cell_type": "markdown",
   "metadata": {},
   "source": [
    "---\n",
    "> P-100: Load the file created in P-099 with the following specifications, display 3 rows of data, and confirm that the data is correctly imported:\n",
    "> - File format: TSV (tab-separated values)\n",
    "> - Header: Yes\n",
    "> - Text encoding: UTF-8"
   ]
  },
  {
   "cell_type": "code",
   "execution_count": 12,
   "metadata": {
    "ExecuteTime": {
     "end_time": "2024-09-05T13:10:29.138346700Z",
     "start_time": "2024-09-05T13:10:25.171066600Z"
    }
   },
   "outputs": [],
   "source": []
  },
  {
   "cell_type": "markdown",
   "metadata": {},
   "source": [
    "## This concludes the 100 exercises. Well done!"
   ]
  },
  {
   "cell_type": "markdown",
   "metadata": {},
   "source": []
  }
 ],
 "metadata": {
  "kernelspec": {
   "display_name": "Python 3 (ipykernel)",
   "language": "python",
   "name": "python3"
  },
  "language_info": {
   "codemirror_mode": {
    "name": "ipython",
    "version": 3
   },
   "file_extension": ".py",
   "mimetype": "text/x-python",
   "name": "python",
   "nbconvert_exporter": "python",
   "pygments_lexer": "ipython3",
   "version": "3.9.19"
  }
 },
 "nbformat": 4,
 "nbformat_minor": 4
}
